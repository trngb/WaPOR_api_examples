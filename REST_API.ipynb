{
  "cells": [
    {
      "cell_type": "markdown",
      "id": "8451497c",
      "metadata": {
        "id": "8451497c"
      },
      "source": [
        "<a href=\"https://colab.research.google.com/github/trngbich/tutorial_WaPOR_API/blob/master/REST_API.ipynb\" target=\"_parent\"><img src=\"https://colab.research.google.com/assets/colab-badge.svg\" alt=\"Open In Colab\"/></a>"
      ]
    },
    {
      "cell_type": "markdown",
      "id": "b865c320",
      "metadata": {
        "id": "b865c320"
      },
      "source": [
        "<div>\n",
        "<table style=\"width: 100%\">\n",
        "\t<tr>\n",
        "\t\t<td>\n",
        "\t\t<table style=\"width: 100%\">\n",
        "\t\t\t<tr>\n",
        "                <td><center><font size=\"6\"><b>Using WaPOR ReST API</b></font><center></td>\n",
        "\t\t\t</tr>\n",
        "\t\t</table>\n",
        "\t\t</td>\n",
        "\t\t<td><center><img src='https://github.com/MScWSDM49/topic4/blob/main/images/ihe-delft-institute_unesco_fc-lr.jpg?raw=1'></img></td>\n",
        "\t</tr>\n",
        "</table>\n",
        "</div>"
      ]
    },
    {
      "cell_type": "markdown",
      "id": "48bad8ad",
      "metadata": {
        "id": "48bad8ad"
      },
      "source": [
        "# Table of contents\n",
        "1. [Learning objectives](#learningobs)\n",
        "2. [Introduction](#introduction)\n",
        "3. [Access WaPOR catalog and metadata](#catalog)\n",
        "4. [Get available data table](#datavail)\n",
        "5. [Get point timeseries](#point)\n",
        "6. [Get areal statistics timeseries](#area)\n",
        "7. [Get cropped raster](#raster)\n",
        "8. [Get crop water productivity](#wp)\n",
        "\n",
        "# 1. Learning objectives<a name=\"learningobs\"></a>\n",
        "\n",
        "- To define REST API\n",
        "- To access WaPOR REST API with Python script\n",
        "- To download WaPOR raster data through REST API\n",
        "- To visualise the downloaded timeseries and raster data\n",
        "\n",
        "\n",
        "# 2. Introduction<a name=\"introduction\"></a>\n",
        "\n",
        "## WaPOR\n",
        "\n",
        "FAO's web portal to monitor Water Productivity through Open-access of Remotely sensed derived data (WaPOR). This portal covers Africa and the Near East, with remotely sensed data, to monitor, in near real time, agricultural water and land productivity as well carbon dioxide uptake by vegetation.\n",
        "\n",
        "For information about the programme, please visit: http://www.fao.org/in-action/remote-sensing-for-water-productivity/en/\n",
        "\n",
        "\n",
        "## REST API\n",
        "REST (Representational State Transfer) API (Application Programming Interface) is an architectural style and set of conventions used for building web services. It defines a set of guidelines and principles for designing networked applications that can be accessed and interacted with over the internet.\n",
        "\n",
        "Watch [this video](https://www.youtube.com/watch?v=_mWDnkS0dDo) for more information.\n",
        "\n",
        "The ReST API documentation for accessing WaPOR database can be found at: https://io.apps.fao.org/gismgr/api/v1/swagger-ui.html\n",
        "\n",
        "\n",
        "## This tutorial\n",
        "In this tutorial, you will learn how to use FAO ReST API with Python scripting to access the WaPOR database.\n",
        "\n",
        "REST defines a set of standardized HTTP methods (GET, POST, PUT, DELETE, etc.) to perform actions on resources. Additionally, RESTful APIs often utilize common data formats like JSON (JavaScript Object Notation) for data representation.\n",
        "We're going to use the **requests** and **json** packages to connect to the database and we're going to use the **matplotlib** **pandas** and **rasterio** packages to visualize the downloaded daata. Make sure that these packages are installed in your conda environment.\n",
        "\n",
        "\n",
        "## API Token\n",
        "For some functions, you will need an API Token to authorize your access. Follow the steps below to get your API Token:\n",
        "\n",
        "### Step 1: Sign up/Log in an account on WaPOR portal\n",
        "\n",
        "Go to https://wapor.apps.fao.org/, click **Sign in**\n",
        "\n",
        "![](https://github.com/trngbich/tutorial_WaPOR_API/blob/master/img/1_signin.png?raw=1)\n",
        "\n",
        "If you don't have an account, create a new account, then log in.\n",
        "\n",
        "### Step 2:  Create API\n",
        "\n",
        "After logging in, go to **My WaPOR** > **My Profile**\n",
        "\n",
        "![](https://github.com/trngbich/tutorial_WaPOR_API/blob/master/img/2_mywapor.png?raw=1)\n",
        "\n",
        "![](https://github.com/trngbich/tutorial_WaPOR_API/blob/master/img/3_myprofile.png?raw=1)\n",
        "\n",
        "Under **API Token**, click **Generate API Token**\n",
        "\n",
        "![](https://github.com/trngbich/tutorial_WaPOR_API/blob/master/img/4_generatetoken.png?raw=1)\n",
        "\n",
        "The API Token is user's personal key, thus, should be stored and kept private. In case of losing API Token, revoke the old token and create a new one.\n",
        "\n",
        "![](https://github.com/trngbich/tutorial_WaPOR_API/blob/master/img/5_revoketoken.png?raw=1)\n",
        "\n"
      ]
    },
    {
      "cell_type": "markdown",
      "id": "835c9a9d",
      "metadata": {
        "id": "835c9a9d"
      },
      "source": [
        "# 3. Access WaPOR catalog and metadata <a name=\"catalog\"></a>"
      ]
    },
    {
      "cell_type": "markdown",
      "id": "e958add9",
      "metadata": {
        "id": "e958add9"
      },
      "source": [
        "In this section, we will access WaPOR data catalog and access some metadata.\n",
        "\n",
        "First, import the libraries needed"
      ]
    },
    {
      "cell_type": "code",
      "execution_count": 3,
      "id": "9a3b40c4",
      "metadata": {
        "id": "9a3b40c4"
      },
      "outputs": [],
      "source": [
        "import requests\n",
        "import json\n",
        "import pandas as pd"
      ]
    },
    {
      "cell_type": "markdown",
      "id": "09909b54",
      "metadata": {
        "id": "09909b54"
      },
      "source": [
        "We will start with accessing WaPOR data catalog using the following URL.\n",
        "\n",
        "Extra: Try changing the parameter overview and paged to True to see the difference in the response"
      ]
    },
    {
      "cell_type": "code",
      "execution_count": 4,
      "id": "5416d5e4",
      "metadata": {
        "id": "5416d5e4",
        "outputId": "d981ebaa-576b-4a5e-ea3c-da5208df599b",
        "colab": {
          "base_uri": "https://localhost:8080/"
        }
      },
      "outputs": [
        {
          "output_type": "stream",
          "name": "stdout",
          "text": [
            "Request URL:  https://io.apps.fao.org/gismgr/api/v1/catalog/workspaces?overview=False&paged=False\n"
          ]
        }
      ],
      "source": [
        "overview=False\n",
        "paged=False\n",
        "url = f'https://io.apps.fao.org/gismgr/api/v1/catalog/workspaces?overview={overview}&paged={paged}'\n",
        "print('Request URL: ',url)"
      ]
    },
    {
      "cell_type": "markdown",
      "id": "35616997",
      "metadata": {
        "id": "35616997"
      },
      "source": [
        "Now, we will use the GET method in **requests** library to acquire responses from the server"
      ]
    },
    {
      "cell_type": "code",
      "execution_count": 5,
      "id": "34dfebf2",
      "metadata": {
        "id": "34dfebf2",
        "outputId": "5c0342bc-bf31-458f-ec7e-52d8e1734aa5",
        "colab": {
          "base_uri": "https://localhost:8080/"
        }
      },
      "outputs": [
        {
          "output_type": "execute_result",
          "data": {
            "text/plain": [
              "<Response [200]>"
            ]
          },
          "metadata": {},
          "execution_count": 5
        }
      ],
      "source": [
        "resp=requests.get(url) #Get response\n",
        "resp"
      ]
    },
    {
      "cell_type": "markdown",
      "id": "30b7ff18",
      "metadata": {
        "id": "30b7ff18"
      },
      "source": [
        "The response is an object so we will convert it to a JSON format so we can see the content"
      ]
    },
    {
      "cell_type": "code",
      "execution_count": 6,
      "id": "4a7b623d",
      "metadata": {
        "id": "4a7b623d",
        "outputId": "32308d34-693d-4424-d15c-225b42ec1c0c",
        "colab": {
          "base_uri": "https://localhost:8080/"
        }
      },
      "outputs": [
        {
          "output_type": "stream",
          "name": "stdout",
          "text": [
            "Response:  {'requestId': 'eb177629-8ba7-4485-b5da-485c241ca4eb', 'timestamp': 1687808132513, 'runtime': 5, 'status': 200, 'message': 'OK', 'response': [{'code': 'AQUAMAPS', 'caption': 'Global spatial database on water and agriculture', 'description': 'Regional and global spatial datasets on water resources and water management considered as a standard information resource, produced by FAO or by external data providers.', 'links': [{'rel': 'self', 'href': 'https://io.apps.fao.org/gismgr/api/v1/catalog/workspaces/AQUAMAPS'}]}, {'code': 'ASIS', 'caption': 'Agriculture Stress Index System', 'description': 'ASIS allows countries to fine-tune parameters of the system based on detailed land use maps and national crop statistics. At the country level, ASIS could be used in developing a remote sensing-based index for crop insurance.', 'links': [{'rel': 'self', 'href': 'https://io.apps.fao.org/gismgr/api/v1/catalog/workspaces/ASIS'}]}, {'code': 'C2ATLAS', 'caption': 'Climate Change ATLAS', 'description': 'C2ATLAS (Climate Change ATLAS - CSIC).The Climate Change ATLAS provides open access to aggregated datasets of global and regional climate change projections for the 21st century produced by CMIP and CORDEX initiatives (including changes for essential climate variables  for both scenarios/periods and global warming levels).', 'links': [{'rel': 'self', 'href': 'https://io.apps.fao.org/gismgr/api/v1/catalog/workspaces/C2ATLAS'}]}, {'code': 'C3S', 'caption': 'Copernicus Climate Change Service', 'description': 'The Copernicus Climate Change Service (C3S) will combine observations of the climate system with the latest science to develop authoritative, quality-assured information about the past, current and future states of the climate in Europe and worldwide.\\\\n\\\\nECMWF operates the Copernicus Climate Change Service on behalf of the European Union and will bring together expertise from across Europe to deliver the service.\\\\n\\\\nC3S will provide key indicators on climate change drivers such as carbon dioxide and impacts, for example, reducing glaciers. The aim of these indicators will be to support European adaptation and mitigation policies in a number of sectors.', 'links': [{'rel': 'self', 'href': 'https://io.apps.fao.org/gismgr/api/v1/catalog/workspaces/C3S'}]}, {'code': 'CHIRPS', 'caption': 'Climate Hazard group InfraRed Precipitation with Stations (CHIRPS)', 'description': 'Climate Hazard group InfraRed Precipitation with Stations (CHIRPS) is a quasi-global, 0.05° resolution, 1981 to near-present gridded precipitation time series.\\\\n\\\\nCHIRPS data are produced by scientists at the University of California, Santa Barbara (UCSB) Climate Hazard Group (CHG) and the U.S. Geological Survey (USGS) Earth Resources Observation and Science (EROS) Center, in order to deliver complete, reliable, up-to-date data sets for a number of early warning objectives, like trend analysis and seasonal drought monitoring.', 'links': [{'rel': 'self', 'href': 'https://io.apps.fao.org/gismgr/api/v1/catalog/workspaces/CHIRPS'}]}, {'code': 'CROPWATCH', 'caption': 'CropWatch', 'description': \"Cropwatch is China's leading agricultural monitoring system, using remote sensing and ground observation data to assess crop growth, yield and related information on national and global scales. The Cropwatch scientific team is affiliated to the Institute of Aerospace Information Innovation (AIR) of the Chinese Academy of Sciences.\", 'additionalInfo': {'creationDate': '1998-01-01', 'link': 'https://data.apps.fao.org/map/catalog/srv/eng/catalog.search#/metadata/a8bf6bbb-9af2-4c8e-8fe5-ddcbbf142835'}, 'tags': [{'name': 'CROP'}], 'links': [{'rel': 'self', 'href': 'https://io.apps.fao.org/gismgr/api/v1/catalog/workspaces/CROPWATCH'}]}, {'code': 'CRTB', 'caption': 'Climate Risk Toolbox (CRTB)', 'description': 'Climate Risk Toolbox (CRTB)', 'tags': [{'name': 'CRTB'}, {'name': 'ASSESSMENT'}, {'name': 'RISK'}], 'links': [{'rel': 'self', 'href': 'https://io.apps.fao.org/gismgr/api/v1/catalog/workspaces/CRTB'}]}, {'code': 'DLMF', 'caption': 'Desert Locust Monitoring and Forecasting', 'description': 'DLMF-Desert Locust monitoring and forecasting. Integrated with multi-source Earth Observation data, e.g. meteorological data, field data, and remote sensing data (such as GF series in China, MODIS and Landsat series in US, Sentinel series in EU), and self-developed models and algorithms for Desert Locust monitoring and forecasting, the research team constructed the ‘Vegetation pests and diseases monitoring and forecasting system’, which could regularly release thematical maps and reports on Desert Locust.', 'tags': [{'name': 'LOCUST'}], 'links': [{'rel': 'self', 'href': 'https://io.apps.fao.org/gismgr/api/v1/catalog/workspaces/DLMF'}]}, {'code': 'FAOSTAT', 'caption': 'FAO Corporate Statistical Database', 'description': 'FAOSTAT provides free access to food and agriculture statistics (including crop, livestock, and forestry sub-sectors) for over 245 countries and territories and covers all FAO regional groupings from 1961 to the most recent year available.', 'links': [{'rel': 'self', 'href': 'https://io.apps.fao.org/gismgr/api/v1/catalog/workspaces/FAOSTAT'}]}, {'code': 'FROM_GLC', 'caption': 'Finer Resolution Observation and Monitoring of Global Land Cover (FROM-GLC)', 'description': 'Global land cover data are key sources of information for understanding the complex interactions between human activities and global change. FROM-GLC (Finer Resolution Observation and Monitoring of Global Land Cover) is the first 30 m resolution global land cover maps produced using Landsat Thematic Mapper (TM) and Enhanced Thematic Mapper Plus (ETM+) data. Our long-term goal in FROM-GLC is to develop a multiple stage approach to mapping global land cover so that the results can better meet the needs of land process modeling and can be easily cross-walked to existing global land cover classification schemes.', 'tags': [{'name': 'LCC'}], 'links': [{'rel': 'self', 'href': 'https://io.apps.fao.org/gismgr/api/v1/catalog/workspaces/FROM_GLC'}]}, {'code': 'GAEZ_2015', 'caption': 'Global Agro-Ecological Zones (2015)', 'description': 'The Global Agro-Ecological Zones (GAEZ) database provides the agronomic backbone for various applications including the quantification of land productivity. Results are commonly aggregated for current major land use/cover patterns and by administrative units, land protection status, or broad classes reflecting infrastructure availability and market access conditions. With this large amount of data, a new system had to be created to make the data accessible to a variety of users. The result is the new GAEZ Data Portal, an interactive data access facility, which not only provides free access to data and information and allows visualization of data, but also provides the user with various analysis outputs and download options.', 'links': [{'rel': 'self', 'href': 'https://io.apps.fao.org/gismgr/api/v1/catalog/workspaces/GAEZ_2015'}]}, {'code': 'GAEZ_V4', 'caption': 'Global Agro-Ecological Zones (2021)', 'description': 'The Global Agro-Ecological Zones (GAEZ) database provides the agronomic backbone for various applications including the quantification of land productivity. Results are commonly aggregated for current major land use/cover patterns and by administrative units, land protection status, or broad classes reflecting infrastructure availability and market access conditions. With this large amount of data, a new system had to be created to make the data accessible to a variety of users. The result is the new GAEZ Data Portal, an interactive data access facility, which not only provides free access to data and information and allows visualization of data, but also provides the user with various analysis outputs and download options.', 'additionalInfo': {'created': '2021 April 29', 'site': 'https://gaez-data-portal-hqfao.hub.arcgis.com/'}, 'tags': [{'name': 'GAEZ'}, {'name': 'AEZ'}], 'links': [{'rel': 'self', 'href': 'https://io.apps.fao.org/gismgr/api/v1/catalog/workspaces/GAEZ_V4'}]}, {'code': 'GISMGR_TEST', 'caption': 'FAO GIS MANAGER (GISMGR) - Test and training workspace', 'description': 'FAO GISMGR Workspace for geospatial datasets', 'additionalInfo': {'created': '2021 Oct 15', 'wiki': 'https://en.wikipedia.org/wiki/Food_and_Agriculture_Organization'}, 'tags': [{'name': 'TEST'}, {'name': 'L1', 'index': 1, 'context': 'LEVELS'}], 'links': [{'rel': 'self', 'href': 'https://io.apps.fao.org/gismgr/api/v1/catalog/workspaces/GISMGR_TEST'}]}, {'code': 'GLEAM3', 'caption': 'Global Livestock Environmental Assessment Model (GLEAM3)', 'description': 'Global Livestock Environmental Assessment Model', 'tags': [{'name': 'GLEAM'}, {'name': 'LIVESTOCK'}], 'links': [{'rel': 'self', 'href': 'https://io.apps.fao.org/gismgr/api/v1/catalog/workspaces/GLEAM3'}]}, {'code': 'GLW', 'caption': 'Gridded Livestock of the World', 'description': 'Gridded Livestock of the World (GLW) is a peer-reviewed spatial dataset on the global distribution and abundance of livestock species. These data find applications in the fields of food and nutrition security, livelihoods and economic growth, human and animal health and welfare and natural resources and environment. The third version of the GLW has a reference year of 2010 and includes global distributions of cattle, buffaloes, sheep, goats, horses, pigs, chickens and ducks at a spatial resolution of 5 minutes of arc, approximately 10 km at the equator.', 'links': [{'rel': 'self', 'href': 'https://io.apps.fao.org/gismgr/api/v1/catalog/workspaces/GLW'}]}, {'code': 'GLW3', 'caption': 'Gridded Livestock of the World (GLW3, 2010)', 'description': 'This database contains peer-reviewed spatial datasets on livestock distributions for applications in development, environment and health. It consists of the most up to date version of the Gridded Livestock of the world (GLW 3). All datasets are licensed through a Creative Commons Attribution 4.0 International License. This dataset contains the global distribution of each species in 2010 expressed as the total number of animal per pixel (5 min of arc). Units: head/sqkm  for cattle, buffaloes, sheep, goats, horses, pigs; birds/ sqkm only for chicken and ducks', 'tags': [{'name': 'LIVESTOCK'}, {'name': 'GLW3'}], 'links': [{'rel': 'self', 'href': 'https://io.apps.fao.org/gismgr/api/v1/catalog/workspaces/GLW3'}]}, {'code': 'GLW4', 'caption': 'Gridded Livestock of the World (GLW4, 2015)', 'description': 'This database contains peer-reviewed spatial datasets on livestock distributions for applications in development, environment and health. It consists of the most up to date version of the Gridded Livestock of the world (GLW 4). All datasets are licensed through a Creative Commons Attribution 4.0 International License. This dataset contains the global distribution of each species in 2015 expressed as the total number of animal per pixel (5 min of arc).', 'tags': [{'name': 'LIVESTOCK'}, {'name': 'GLW3'}], 'links': [{'rel': 'self', 'href': 'https://io.apps.fao.org/gismgr/api/v1/catalog/workspaces/GLW4'}]}, {'code': 'GSOCSEQ', 'caption': 'Soil Organic Carbon', 'description': 'Soil Organic Carbon maps', 'additionalInfo': {'created': '2022 October 11', 'site': 'https://www.fao.org/documents/card/en/c/cb9002en'}, 'tags': [{'name': 'SOIL'}, {'name': 'CARBON'}, {'name': 'SOC'}, {'name': 'SLM'}, {'name': 'SSM'}], 'links': [{'rel': 'self', 'href': 'https://io.apps.fao.org/gismgr/api/v1/catalog/workspaces/GSOCSEQ'}]}, {'code': 'IWMI', 'caption': 'International Water Management Institute (IWMI)', 'description': 'IWMI is a Research Center of CGIAR operating in more than 30 countries. IWMI’s Vision reflected in its Strategy 2019-2023, is ‘a water-secure world’. IWMI targets water and land management challenges faced by poor communities in developing countries, and through this contributes towards the achievement of the Sustainable Development Goals (SDGs) of reducing poverty and hunger and maintaining a sustainable environment.', 'additionalInfo': {'created': '2022 October 13', 'organization': 'https://data.apps.fao.org/catalog/organization/about/iwmi', 'site': 'https://www.iwmi.cgiar.org/'}, 'tags': [{'name': 'IWMI'}], 'links': [{'rel': 'self', 'href': 'https://io.apps.fao.org/gismgr/api/v1/catalog/workspaces/IWMI'}]}, {'code': 'NASA', 'caption': 'National Aeronautics and Space Administration (NASA)', 'description': 'The National Aeronautics and Space Administration (NASA) is an independent agency of the United States Federal Government responsible for the civilian space program, as well as aeronautics and aerospace research.', 'links': [{'rel': 'self', 'href': 'https://io.apps.fao.org/gismgr/api/v1/catalog/workspaces/NASA'}]}, {'code': 'NATURAL_EARTH', 'caption': 'Natural Earth', 'description': 'Natural Earth is a public domain map dataset available at 1:10m, 1:50m, and 1:110 million scales. Featuring tightly integrated vector and raster data, with Natural Earth you can make a variety of visually pleasing, well-crafted maps with cartography or GIS software. Natural Earth was built through a collaboration of many volunteers and is supported by NACIS (North American Cartographic Information Society), and is free for use in any type of project.', 'links': [{'rel': 'self', 'href': 'https://io.apps.fao.org/gismgr/api/v1/catalog/workspaces/NATURAL_EARTH'}]}, {'code': 'NMME', 'caption': 'North American Multi-Model Ensemble (NMME)', 'description': 'The North American Multi-Model Ensemble (NMME) forecasts has been implemented to enable National Meteorological Services (NMSs) around the globe and the public to quickly access operational seasonal model forecasts for specific areas of interest. The NMME models include the CFSv2, two versions of the Canadian models CanCM4i (CMC1) and GEM-NEMO (CMC2), NOAA’s Geophysical Fluid Dynamic (GFDL), NOAA’s Geophysical Fluid Dynamic (GFDL-FLOR), National Aeronautics and Space Administration (NASA-GEOS5v2), the National Center for Atmospheric Research (NCAR-CCSM4), and the ensemble mean of all the models.', 'links': [{'rel': 'self', 'href': 'https://io.apps.fao.org/gismgr/api/v1/catalog/workspaces/NMME'}]}, {'code': 'RDMS', 'caption': 'Regional Drought Monitoring System', 'description': 'Regional Drought Monitoring System for Middle East and North Africa', 'links': [{'rel': 'self', 'href': 'https://io.apps.fao.org/gismgr/api/v1/catalog/workspaces/RDMS'}]}, {'code': 'RICCAR', 'caption': 'Regional Arab Climate Change Assessment Report', 'description': 'The Regional Initiative for the Assessment of Climate Change Impacts on Water Resources and Socio-Economic Vulnerability in the Arab Region (RICCAR) is a joint initiative of the United Nations and the League of Arab States launched in 2010.', 'additionalInfo': {'tagContexts': {'LEVELS_LIST': [{'name': 'L1', 'label': 'CLIMATE'}, {'name': 'L2', 'label': 'HYDROLOGY'}, {'name': 'L3', 'label': 'VULNERABILITY'}], 'CATEGORIES_LIST': [{'name': 'CDD', 'label': 'Maximum length of dry spell', 'level': 'L1'}, {'name': 'CWD', 'label': 'Maximum length of wet spell', 'level': 'L1'}, {'name': 'PR', 'label': 'Precipitation', 'level': 'L1'}, {'name': 'R10', 'label': 'Heavy precipitation days', 'level': 'L1'}, {'name': 'R20', 'label': 'Very heavy precipitation days', 'level': 'L1'}, {'name': 'SDII', 'label': 'Simple Daily Intensity Index', 'level': 'L1'}, {'name': 'SU', 'label': 'Number of summer days', 'level': 'L1'}, {'name': 'SU35', 'label': 'Number of hot days', 'level': 'L1'}, {'name': 'SU40', 'label': 'Number of very hot days', 'level': 'L1'}, {'name': 'TAS', 'label': 'Temperature', 'level': 'L1'}, {'name': 'TASMAX', 'label': 'Max Temperature', 'level': 'L1'}, {'name': 'TASMIN', 'label': 'Min Temperature', 'level': 'L1'}, {'name': 'TR', 'label': 'Number of tropical nights', 'level': 'L1'}, {'name': 'ET', 'label': 'EvapoTranspiration', 'level': 'L2'}, {'name': 'Q', 'label': 'Runoff', 'level': 'L2'}, {'name': 'Adaptive Capacity', 'label': 'Adaptive Capacity', 'level': 'L3'}, {'name': 'Exposure', 'label': 'Exposure', 'level': 'L3'}, {'name': 'Potential Impact', 'label': 'Potential Impact', 'level': 'L3'}, {'name': 'Sensitivity', 'label': 'Sensitivity', 'level': 'L3'}, {'name': 'Vulnerability', 'label': 'Vulnerability', 'level': 'L3'}]}}, 'links': [{'rel': 'self', 'href': 'https://io.apps.fao.org/gismgr/api/v1/catalog/workspaces/RICCAR'}]}, {'code': 'RICCAR_2', 'caption': 'Regional Arab Climate Change Assessment Report', 'description': 'The Regional Initiative for the Assessment of Climate Change Impacts on Water Resources and Socio-Economic Vulnerability in the Arab Region (RICCAR) is a joint initiative of the United Nations and the League of Arab States launched in 2010.', 'links': [{'rel': 'self', 'href': 'https://io.apps.fao.org/gismgr/api/v1/catalog/workspaces/RICCAR_2'}]}, {'code': 'RSCROP', 'caption': 'Crop Pest and Disease Monitoring and Forecasting System', 'additionalInfo': {'site': 'http://en.rscrop.com/'}, 'tags': [{'name': 'CROP'}, {'name': 'PEST'}, {'name': 'DISEASE'}], 'links': [{'rel': 'self', 'href': 'https://io.apps.fao.org/gismgr/api/v1/catalog/workspaces/RSCROP'}]}, {'code': 'RVF', 'caption': 'Rift Valley Fever', 'description': 'Rift Valley Fever', 'links': [{'rel': 'self', 'href': 'https://io.apps.fao.org/gismgr/api/v1/catalog/workspaces/RVF'}]}, {'code': 'WAPOR_2', 'caption': 'FAO Water Productivity Open-access portal (WaPOR)', 'description': 'The FAO Water Productivity Open-access portal (WaPOR) uses remote sensing technologies to monitor and report on agricultural water productivity over Africa and the Near East.', 'additionalInfo': {'tagContexts': {'levels': [{'name': 'L1', 'label': 'CONTINENTAL (250m)', 'backgroundLayers': [{'label': 'Simple grey background', 'layer': 'NATURAL_EARTH:gray_hr_sr_w_3'}, {'label': 'NASA Bluemarble', 'layer': 'NASA:bluemarble_t_b'}, {'label': 'OpenStreet MAP', 'layer': 'OSM'}], 'decorationLayers': [{'label': 'Countries', 'layer': 'CIO:country_boundaries', 'selected': True}, {'label': 'Basins', 'layer': 'AQUASTAT:major_hydrobasins', 'selected': False}]}, {'name': 'L2', 'label': 'NATIONAL (100m)', 'backgroundLayers': [{'label': 'Simple grey background', 'layer': 'NATURAL_EARTH:gray_hr_sr_w_3'}, {'label': 'NASA Bluemarble', 'layer': 'NASA:bluemarble_t_b'}, {'label': 'OpenStreet MAP', 'layer': 'OSM'}], 'decorationLayers': [{'label': 'Countries', 'layer': 'CIO:country_boundaries', 'selected': True}, {'label': 'Basins', 'layer': 'AQUASTAT:major_hydrobasins', 'selected': False}]}, {'name': 'L3', 'label': 'SUB-NATIONAL (30m)', 'children': [{'name': 'AWA', 'label': 'Awash, Ethiopia', 'backgroundLayers': [{'label': 'OpenStreet MAP', 'layer': 'OSM'}, {'label': 'NASA Bluemarble', 'layer': 'NASA:bluemarble_t_b'}, {'label': 'Simple grey background', 'layer': 'NATURAL_EARTH:gray_hr_sr_w_3'}]}, {'name': 'BKA', 'label': 'Bekaa, Lebanon', 'backgroundLayers': [{'label': 'OpenStreet MAP', 'layer': 'OSM'}, {'label': 'NASA Bluemarble', 'layer': 'NASA:bluemarble_t_b'}, {'label': 'Simple grey background', 'layer': 'NATURAL_EARTH:gray_hr_sr_w_3'}]}, {'name': 'KOG', 'label': 'Koga, Ethiopia', 'backgroundLayers': [{'label': 'OpenStreet MAP', 'layer': 'OSM'}, {'label': 'NASA Bluemarble', 'layer': 'NASA:bluemarble_t_b'}, {'label': 'Simple grey background', 'layer': 'NATURAL_EARTH:gray_hr_sr_w_3'}]}, {'name': 'LAM', 'label': 'Lamego, Mozambique', 'backgroundLayers': [{'label': 'OpenStreet MAP', 'layer': 'OSM'}, {'label': 'NASA Bluemarble', 'layer': 'NASA:bluemarble_t_b'}, {'label': 'Simple grey background', 'layer': 'NATURAL_EARTH:gray_hr_sr_w_3'}]}, {'name': 'ODN', 'label': 'Office du Niger, Mali', 'backgroundLayers': [{'label': 'OpenStreet MAP', 'layer': 'OSM'}, {'label': 'NASA Bluemarble', 'layer': 'NASA:bluemarble_t_b'}, {'label': 'Simple grey background', 'layer': 'NATURAL_EARTH:gray_hr_sr_w_3'}]}, {'name': 'ZAN', 'label': 'Zankalon, Egypt', 'backgroundLayers': [{'label': 'OpenStreet MAP', 'layer': 'OSM'}, {'label': 'NASA Bluemarble', 'layer': 'NASA:bluemarble_t_b'}, {'label': 'Simple grey background', 'layer': 'NATURAL_EARTH:gray_hr_sr_w_3'}]}]}], 'categories': [{'name': 'C1', 'label': 'Water Productivity'}, {'name': 'C2', 'label': 'Water'}, {'name': 'C3', 'label': 'Land'}, {'name': 'C4', 'label': 'Climate'}, {'name': 'C5', 'label': 'Ancillary'}]}}, 'links': [{'rel': 'self', 'href': 'https://io.apps.fao.org/gismgr/api/v1/catalog/workspaces/WAPOR_2'}]}, {'code': 'WATER', 'caption': 'Water Data', 'description': 'Water data, including water resources, agricultural water management, water accounting and productivity', 'tags': [{'name': 'WATER'}], 'links': [{'rel': 'self', 'href': 'https://io.apps.fao.org/gismgr/api/v1/catalog/workspaces/WATER'}]}, {'code': 'WPOP', 'caption': 'WorldPop project', 'description': 'The WorldPop project was initiated in October 2013 to combine the AfriPop, AsiaPop and AmeriPop population mapping projects. It aims to provide an open access archive of spatial demographic datasets for Central and South America, Africa and Asia to support development, disaster response and health applications. The methods used are designed with full open access and operational application in mind, using transparent, fully documented and peer-reviewed methods to produce easily updatable maps with accompanying metadata and measures of uncertainty.', 'links': [{'rel': 'self', 'href': 'https://io.apps.fao.org/gismgr/api/v1/catalog/workspaces/WPOP'}]}]}\n"
          ]
        }
      ],
      "source": [
        "resp_dict=resp.json() #read response JSON string\n",
        "print('Response: ',resp_dict)"
      ]
    },
    {
      "cell_type": "markdown",
      "id": "9c8a123b",
      "metadata": {
        "id": "9c8a123b"
      },
      "source": [
        "It's not easy to read this, so we will convert JSON to **pandas** DataFrame"
      ]
    },
    {
      "cell_type": "code",
      "execution_count": 7,
      "id": "b04081f5",
      "metadata": {
        "id": "b04081f5",
        "outputId": "19d2134a-d262-456c-e374-93524d944243",
        "colab": {
          "base_uri": "https://localhost:8080/",
          "height": 1000
        }
      },
      "outputs": [
        {
          "output_type": "execute_result",
          "data": {
            "text/plain": [
              "             code                                            caption  \\\n",
              "0        AQUAMAPS   Global spatial database on water and agriculture   \n",
              "1            ASIS                    Agriculture Stress Index System   \n",
              "2         C2ATLAS                               Climate Change ATLAS   \n",
              "3             C3S                  Copernicus Climate Change Service   \n",
              "4          CHIRPS  Climate Hazard group InfraRed Precipitation wi...   \n",
              "5       CROPWATCH                                          CropWatch   \n",
              "6            CRTB                        Climate Risk Toolbox (CRTB)   \n",
              "7            DLMF           Desert Locust Monitoring and Forecasting   \n",
              "8         FAOSTAT                 FAO Corporate Statistical Database   \n",
              "9        FROM_GLC  Finer Resolution Observation and Monitoring of...   \n",
              "10      GAEZ_2015                Global Agro-Ecological Zones (2015)   \n",
              "11        GAEZ_V4                Global Agro-Ecological Zones (2021)   \n",
              "12    GISMGR_TEST  FAO GIS MANAGER (GISMGR) - Test and training w...   \n",
              "13         GLEAM3  Global Livestock Environmental Assessment Mode...   \n",
              "14            GLW                     Gridded Livestock of the World   \n",
              "15           GLW3        Gridded Livestock of the World (GLW3, 2010)   \n",
              "16           GLW4        Gridded Livestock of the World (GLW4, 2015)   \n",
              "17        GSOCSEQ                                Soil Organic Carbon   \n",
              "18           IWMI    International Water Management Institute (IWMI)   \n",
              "19           NASA  National Aeronautics and Space Administration ...   \n",
              "20  NATURAL_EARTH                                      Natural Earth   \n",
              "21           NMME         North American Multi-Model Ensemble (NMME)   \n",
              "22           RDMS                 Regional Drought Monitoring System   \n",
              "23         RICCAR     Regional Arab Climate Change Assessment Report   \n",
              "24       RICCAR_2     Regional Arab Climate Change Assessment Report   \n",
              "25         RSCROP  Crop Pest and Disease Monitoring and Forecasti...   \n",
              "26            RVF                                  Rift Valley Fever   \n",
              "27        WAPOR_2  FAO Water Productivity Open-access portal (WaPOR)   \n",
              "28          WATER                                         Water Data   \n",
              "29           WPOP                                   WorldPop project   \n",
              "\n",
              "                                          description  \\\n",
              "0   Regional and global spatial datasets on water ...   \n",
              "1   ASIS allows countries to fine-tune parameters ...   \n",
              "2   C2ATLAS (Climate Change ATLAS - CSIC).The Clim...   \n",
              "3   The Copernicus Climate Change Service (C3S) wi...   \n",
              "4   Climate Hazard group InfraRed Precipitation wi...   \n",
              "5   Cropwatch is China's leading agricultural moni...   \n",
              "6                         Climate Risk Toolbox (CRTB)   \n",
              "7   DLMF-Desert Locust monitoring and forecasting....   \n",
              "8   FAOSTAT provides free access to food and agric...   \n",
              "9   Global land cover data are key sources of info...   \n",
              "10  The Global Agro-Ecological Zones (GAEZ) databa...   \n",
              "11  The Global Agro-Ecological Zones (GAEZ) databa...   \n",
              "12       FAO GISMGR Workspace for geospatial datasets   \n",
              "13    Global Livestock Environmental Assessment Model   \n",
              "14  Gridded Livestock of the World (GLW) is a peer...   \n",
              "15  This database contains peer-reviewed spatial d...   \n",
              "16  This database contains peer-reviewed spatial d...   \n",
              "17                           Soil Organic Carbon maps   \n",
              "18  IWMI is a Research Center of CGIAR operating i...   \n",
              "19  The National Aeronautics and Space Administrat...   \n",
              "20  Natural Earth is a public domain map dataset a...   \n",
              "21  The North American Multi-Model Ensemble (NMME)...   \n",
              "22  Regional Drought Monitoring System for Middle ...   \n",
              "23  The Regional Initiative for the Assessment of ...   \n",
              "24  The Regional Initiative for the Assessment of ...   \n",
              "25                                                NaN   \n",
              "26                                  Rift Valley Fever   \n",
              "27  The FAO Water Productivity Open-access portal ...   \n",
              "28  Water data, including water resources, agricul...   \n",
              "29  The WorldPop project was initiated in October ...   \n",
              "\n",
              "                                                links  \\\n",
              "0   [{'rel': 'self', 'href': 'https://io.apps.fao....   \n",
              "1   [{'rel': 'self', 'href': 'https://io.apps.fao....   \n",
              "2   [{'rel': 'self', 'href': 'https://io.apps.fao....   \n",
              "3   [{'rel': 'self', 'href': 'https://io.apps.fao....   \n",
              "4   [{'rel': 'self', 'href': 'https://io.apps.fao....   \n",
              "5   [{'rel': 'self', 'href': 'https://io.apps.fao....   \n",
              "6   [{'rel': 'self', 'href': 'https://io.apps.fao....   \n",
              "7   [{'rel': 'self', 'href': 'https://io.apps.fao....   \n",
              "8   [{'rel': 'self', 'href': 'https://io.apps.fao....   \n",
              "9   [{'rel': 'self', 'href': 'https://io.apps.fao....   \n",
              "10  [{'rel': 'self', 'href': 'https://io.apps.fao....   \n",
              "11  [{'rel': 'self', 'href': 'https://io.apps.fao....   \n",
              "12  [{'rel': 'self', 'href': 'https://io.apps.fao....   \n",
              "13  [{'rel': 'self', 'href': 'https://io.apps.fao....   \n",
              "14  [{'rel': 'self', 'href': 'https://io.apps.fao....   \n",
              "15  [{'rel': 'self', 'href': 'https://io.apps.fao....   \n",
              "16  [{'rel': 'self', 'href': 'https://io.apps.fao....   \n",
              "17  [{'rel': 'self', 'href': 'https://io.apps.fao....   \n",
              "18  [{'rel': 'self', 'href': 'https://io.apps.fao....   \n",
              "19  [{'rel': 'self', 'href': 'https://io.apps.fao....   \n",
              "20  [{'rel': 'self', 'href': 'https://io.apps.fao....   \n",
              "21  [{'rel': 'self', 'href': 'https://io.apps.fao....   \n",
              "22  [{'rel': 'self', 'href': 'https://io.apps.fao....   \n",
              "23  [{'rel': 'self', 'href': 'https://io.apps.fao....   \n",
              "24  [{'rel': 'self', 'href': 'https://io.apps.fao....   \n",
              "25  [{'rel': 'self', 'href': 'https://io.apps.fao....   \n",
              "26  [{'rel': 'self', 'href': 'https://io.apps.fao....   \n",
              "27  [{'rel': 'self', 'href': 'https://io.apps.fao....   \n",
              "28  [{'rel': 'self', 'href': 'https://io.apps.fao....   \n",
              "29  [{'rel': 'self', 'href': 'https://io.apps.fao....   \n",
              "\n",
              "                                       additionalInfo  \\\n",
              "0                                                 NaN   \n",
              "1                                                 NaN   \n",
              "2                                                 NaN   \n",
              "3                                                 NaN   \n",
              "4                                                 NaN   \n",
              "5   {'creationDate': '1998-01-01', 'link': 'https:...   \n",
              "6                                                 NaN   \n",
              "7                                                 NaN   \n",
              "8                                                 NaN   \n",
              "9                                                 NaN   \n",
              "10                                                NaN   \n",
              "11  {'created': '2021 April 29', 'site': 'https://...   \n",
              "12  {'created': '2021 Oct 15', 'wiki': 'https://en...   \n",
              "13                                                NaN   \n",
              "14                                                NaN   \n",
              "15                                                NaN   \n",
              "16                                                NaN   \n",
              "17  {'created': '2022 October 11', 'site': 'https:...   \n",
              "18  {'created': '2022 October 13', 'organization':...   \n",
              "19                                                NaN   \n",
              "20                                                NaN   \n",
              "21                                                NaN   \n",
              "22                                                NaN   \n",
              "23  {'tagContexts': {'LEVELS_LIST': [{'name': 'L1'...   \n",
              "24                                                NaN   \n",
              "25                  {'site': 'http://en.rscrop.com/'}   \n",
              "26                                                NaN   \n",
              "27  {'tagContexts': {'levels': [{'name': 'L1', 'la...   \n",
              "28                                                NaN   \n",
              "29                                                NaN   \n",
              "\n",
              "                                                 tags  \n",
              "0                                                 NaN  \n",
              "1                                                 NaN  \n",
              "2                                                 NaN  \n",
              "3                                                 NaN  \n",
              "4                                                 NaN  \n",
              "5                                  [{'name': 'CROP'}]  \n",
              "6   [{'name': 'CRTB'}, {'name': 'ASSESSMENT'}, {'n...  \n",
              "7                                [{'name': 'LOCUST'}]  \n",
              "8                                                 NaN  \n",
              "9                                   [{'name': 'LCC'}]  \n",
              "10                                                NaN  \n",
              "11                [{'name': 'GAEZ'}, {'name': 'AEZ'}]  \n",
              "12  [{'name': 'TEST'}, {'name': 'L1', 'index': 1, ...  \n",
              "13         [{'name': 'GLEAM'}, {'name': 'LIVESTOCK'}]  \n",
              "14                                                NaN  \n",
              "15          [{'name': 'LIVESTOCK'}, {'name': 'GLW3'}]  \n",
              "16          [{'name': 'LIVESTOCK'}, {'name': 'GLW3'}]  \n",
              "17  [{'name': 'SOIL'}, {'name': 'CARBON'}, {'name'...  \n",
              "18                                 [{'name': 'IWMI'}]  \n",
              "19                                                NaN  \n",
              "20                                                NaN  \n",
              "21                                                NaN  \n",
              "22                                                NaN  \n",
              "23                                                NaN  \n",
              "24                                                NaN  \n",
              "25  [{'name': 'CROP'}, {'name': 'PEST'}, {'name': ...  \n",
              "26                                                NaN  \n",
              "27                                                NaN  \n",
              "28                                [{'name': 'WATER'}]  \n",
              "29                                                NaN  "
            ],
            "text/html": [
              "\n",
              "  <div id=\"df-769b23e6-d265-4c79-8224-f8814f492b4f\">\n",
              "    <div class=\"colab-df-container\">\n",
              "      <div>\n",
              "<style scoped>\n",
              "    .dataframe tbody tr th:only-of-type {\n",
              "        vertical-align: middle;\n",
              "    }\n",
              "\n",
              "    .dataframe tbody tr th {\n",
              "        vertical-align: top;\n",
              "    }\n",
              "\n",
              "    .dataframe thead th {\n",
              "        text-align: right;\n",
              "    }\n",
              "</style>\n",
              "<table border=\"1\" class=\"dataframe\">\n",
              "  <thead>\n",
              "    <tr style=\"text-align: right;\">\n",
              "      <th></th>\n",
              "      <th>code</th>\n",
              "      <th>caption</th>\n",
              "      <th>description</th>\n",
              "      <th>links</th>\n",
              "      <th>additionalInfo</th>\n",
              "      <th>tags</th>\n",
              "    </tr>\n",
              "  </thead>\n",
              "  <tbody>\n",
              "    <tr>\n",
              "      <th>0</th>\n",
              "      <td>AQUAMAPS</td>\n",
              "      <td>Global spatial database on water and agriculture</td>\n",
              "      <td>Regional and global spatial datasets on water ...</td>\n",
              "      <td>[{'rel': 'self', 'href': 'https://io.apps.fao....</td>\n",
              "      <td>NaN</td>\n",
              "      <td>NaN</td>\n",
              "    </tr>\n",
              "    <tr>\n",
              "      <th>1</th>\n",
              "      <td>ASIS</td>\n",
              "      <td>Agriculture Stress Index System</td>\n",
              "      <td>ASIS allows countries to fine-tune parameters ...</td>\n",
              "      <td>[{'rel': 'self', 'href': 'https://io.apps.fao....</td>\n",
              "      <td>NaN</td>\n",
              "      <td>NaN</td>\n",
              "    </tr>\n",
              "    <tr>\n",
              "      <th>2</th>\n",
              "      <td>C2ATLAS</td>\n",
              "      <td>Climate Change ATLAS</td>\n",
              "      <td>C2ATLAS (Climate Change ATLAS - CSIC).The Clim...</td>\n",
              "      <td>[{'rel': 'self', 'href': 'https://io.apps.fao....</td>\n",
              "      <td>NaN</td>\n",
              "      <td>NaN</td>\n",
              "    </tr>\n",
              "    <tr>\n",
              "      <th>3</th>\n",
              "      <td>C3S</td>\n",
              "      <td>Copernicus Climate Change Service</td>\n",
              "      <td>The Copernicus Climate Change Service (C3S) wi...</td>\n",
              "      <td>[{'rel': 'self', 'href': 'https://io.apps.fao....</td>\n",
              "      <td>NaN</td>\n",
              "      <td>NaN</td>\n",
              "    </tr>\n",
              "    <tr>\n",
              "      <th>4</th>\n",
              "      <td>CHIRPS</td>\n",
              "      <td>Climate Hazard group InfraRed Precipitation wi...</td>\n",
              "      <td>Climate Hazard group InfraRed Precipitation wi...</td>\n",
              "      <td>[{'rel': 'self', 'href': 'https://io.apps.fao....</td>\n",
              "      <td>NaN</td>\n",
              "      <td>NaN</td>\n",
              "    </tr>\n",
              "    <tr>\n",
              "      <th>5</th>\n",
              "      <td>CROPWATCH</td>\n",
              "      <td>CropWatch</td>\n",
              "      <td>Cropwatch is China's leading agricultural moni...</td>\n",
              "      <td>[{'rel': 'self', 'href': 'https://io.apps.fao....</td>\n",
              "      <td>{'creationDate': '1998-01-01', 'link': 'https:...</td>\n",
              "      <td>[{'name': 'CROP'}]</td>\n",
              "    </tr>\n",
              "    <tr>\n",
              "      <th>6</th>\n",
              "      <td>CRTB</td>\n",
              "      <td>Climate Risk Toolbox (CRTB)</td>\n",
              "      <td>Climate Risk Toolbox (CRTB)</td>\n",
              "      <td>[{'rel': 'self', 'href': 'https://io.apps.fao....</td>\n",
              "      <td>NaN</td>\n",
              "      <td>[{'name': 'CRTB'}, {'name': 'ASSESSMENT'}, {'n...</td>\n",
              "    </tr>\n",
              "    <tr>\n",
              "      <th>7</th>\n",
              "      <td>DLMF</td>\n",
              "      <td>Desert Locust Monitoring and Forecasting</td>\n",
              "      <td>DLMF-Desert Locust monitoring and forecasting....</td>\n",
              "      <td>[{'rel': 'self', 'href': 'https://io.apps.fao....</td>\n",
              "      <td>NaN</td>\n",
              "      <td>[{'name': 'LOCUST'}]</td>\n",
              "    </tr>\n",
              "    <tr>\n",
              "      <th>8</th>\n",
              "      <td>FAOSTAT</td>\n",
              "      <td>FAO Corporate Statistical Database</td>\n",
              "      <td>FAOSTAT provides free access to food and agric...</td>\n",
              "      <td>[{'rel': 'self', 'href': 'https://io.apps.fao....</td>\n",
              "      <td>NaN</td>\n",
              "      <td>NaN</td>\n",
              "    </tr>\n",
              "    <tr>\n",
              "      <th>9</th>\n",
              "      <td>FROM_GLC</td>\n",
              "      <td>Finer Resolution Observation and Monitoring of...</td>\n",
              "      <td>Global land cover data are key sources of info...</td>\n",
              "      <td>[{'rel': 'self', 'href': 'https://io.apps.fao....</td>\n",
              "      <td>NaN</td>\n",
              "      <td>[{'name': 'LCC'}]</td>\n",
              "    </tr>\n",
              "    <tr>\n",
              "      <th>10</th>\n",
              "      <td>GAEZ_2015</td>\n",
              "      <td>Global Agro-Ecological Zones (2015)</td>\n",
              "      <td>The Global Agro-Ecological Zones (GAEZ) databa...</td>\n",
              "      <td>[{'rel': 'self', 'href': 'https://io.apps.fao....</td>\n",
              "      <td>NaN</td>\n",
              "      <td>NaN</td>\n",
              "    </tr>\n",
              "    <tr>\n",
              "      <th>11</th>\n",
              "      <td>GAEZ_V4</td>\n",
              "      <td>Global Agro-Ecological Zones (2021)</td>\n",
              "      <td>The Global Agro-Ecological Zones (GAEZ) databa...</td>\n",
              "      <td>[{'rel': 'self', 'href': 'https://io.apps.fao....</td>\n",
              "      <td>{'created': '2021 April 29', 'site': 'https://...</td>\n",
              "      <td>[{'name': 'GAEZ'}, {'name': 'AEZ'}]</td>\n",
              "    </tr>\n",
              "    <tr>\n",
              "      <th>12</th>\n",
              "      <td>GISMGR_TEST</td>\n",
              "      <td>FAO GIS MANAGER (GISMGR) - Test and training w...</td>\n",
              "      <td>FAO GISMGR Workspace for geospatial datasets</td>\n",
              "      <td>[{'rel': 'self', 'href': 'https://io.apps.fao....</td>\n",
              "      <td>{'created': '2021 Oct 15', 'wiki': 'https://en...</td>\n",
              "      <td>[{'name': 'TEST'}, {'name': 'L1', 'index': 1, ...</td>\n",
              "    </tr>\n",
              "    <tr>\n",
              "      <th>13</th>\n",
              "      <td>GLEAM3</td>\n",
              "      <td>Global Livestock Environmental Assessment Mode...</td>\n",
              "      <td>Global Livestock Environmental Assessment Model</td>\n",
              "      <td>[{'rel': 'self', 'href': 'https://io.apps.fao....</td>\n",
              "      <td>NaN</td>\n",
              "      <td>[{'name': 'GLEAM'}, {'name': 'LIVESTOCK'}]</td>\n",
              "    </tr>\n",
              "    <tr>\n",
              "      <th>14</th>\n",
              "      <td>GLW</td>\n",
              "      <td>Gridded Livestock of the World</td>\n",
              "      <td>Gridded Livestock of the World (GLW) is a peer...</td>\n",
              "      <td>[{'rel': 'self', 'href': 'https://io.apps.fao....</td>\n",
              "      <td>NaN</td>\n",
              "      <td>NaN</td>\n",
              "    </tr>\n",
              "    <tr>\n",
              "      <th>15</th>\n",
              "      <td>GLW3</td>\n",
              "      <td>Gridded Livestock of the World (GLW3, 2010)</td>\n",
              "      <td>This database contains peer-reviewed spatial d...</td>\n",
              "      <td>[{'rel': 'self', 'href': 'https://io.apps.fao....</td>\n",
              "      <td>NaN</td>\n",
              "      <td>[{'name': 'LIVESTOCK'}, {'name': 'GLW3'}]</td>\n",
              "    </tr>\n",
              "    <tr>\n",
              "      <th>16</th>\n",
              "      <td>GLW4</td>\n",
              "      <td>Gridded Livestock of the World (GLW4, 2015)</td>\n",
              "      <td>This database contains peer-reviewed spatial d...</td>\n",
              "      <td>[{'rel': 'self', 'href': 'https://io.apps.fao....</td>\n",
              "      <td>NaN</td>\n",
              "      <td>[{'name': 'LIVESTOCK'}, {'name': 'GLW3'}]</td>\n",
              "    </tr>\n",
              "    <tr>\n",
              "      <th>17</th>\n",
              "      <td>GSOCSEQ</td>\n",
              "      <td>Soil Organic Carbon</td>\n",
              "      <td>Soil Organic Carbon maps</td>\n",
              "      <td>[{'rel': 'self', 'href': 'https://io.apps.fao....</td>\n",
              "      <td>{'created': '2022 October 11', 'site': 'https:...</td>\n",
              "      <td>[{'name': 'SOIL'}, {'name': 'CARBON'}, {'name'...</td>\n",
              "    </tr>\n",
              "    <tr>\n",
              "      <th>18</th>\n",
              "      <td>IWMI</td>\n",
              "      <td>International Water Management Institute (IWMI)</td>\n",
              "      <td>IWMI is a Research Center of CGIAR operating i...</td>\n",
              "      <td>[{'rel': 'self', 'href': 'https://io.apps.fao....</td>\n",
              "      <td>{'created': '2022 October 13', 'organization':...</td>\n",
              "      <td>[{'name': 'IWMI'}]</td>\n",
              "    </tr>\n",
              "    <tr>\n",
              "      <th>19</th>\n",
              "      <td>NASA</td>\n",
              "      <td>National Aeronautics and Space Administration ...</td>\n",
              "      <td>The National Aeronautics and Space Administrat...</td>\n",
              "      <td>[{'rel': 'self', 'href': 'https://io.apps.fao....</td>\n",
              "      <td>NaN</td>\n",
              "      <td>NaN</td>\n",
              "    </tr>\n",
              "    <tr>\n",
              "      <th>20</th>\n",
              "      <td>NATURAL_EARTH</td>\n",
              "      <td>Natural Earth</td>\n",
              "      <td>Natural Earth is a public domain map dataset a...</td>\n",
              "      <td>[{'rel': 'self', 'href': 'https://io.apps.fao....</td>\n",
              "      <td>NaN</td>\n",
              "      <td>NaN</td>\n",
              "    </tr>\n",
              "    <tr>\n",
              "      <th>21</th>\n",
              "      <td>NMME</td>\n",
              "      <td>North American Multi-Model Ensemble (NMME)</td>\n",
              "      <td>The North American Multi-Model Ensemble (NMME)...</td>\n",
              "      <td>[{'rel': 'self', 'href': 'https://io.apps.fao....</td>\n",
              "      <td>NaN</td>\n",
              "      <td>NaN</td>\n",
              "    </tr>\n",
              "    <tr>\n",
              "      <th>22</th>\n",
              "      <td>RDMS</td>\n",
              "      <td>Regional Drought Monitoring System</td>\n",
              "      <td>Regional Drought Monitoring System for Middle ...</td>\n",
              "      <td>[{'rel': 'self', 'href': 'https://io.apps.fao....</td>\n",
              "      <td>NaN</td>\n",
              "      <td>NaN</td>\n",
              "    </tr>\n",
              "    <tr>\n",
              "      <th>23</th>\n",
              "      <td>RICCAR</td>\n",
              "      <td>Regional Arab Climate Change Assessment Report</td>\n",
              "      <td>The Regional Initiative for the Assessment of ...</td>\n",
              "      <td>[{'rel': 'self', 'href': 'https://io.apps.fao....</td>\n",
              "      <td>{'tagContexts': {'LEVELS_LIST': [{'name': 'L1'...</td>\n",
              "      <td>NaN</td>\n",
              "    </tr>\n",
              "    <tr>\n",
              "      <th>24</th>\n",
              "      <td>RICCAR_2</td>\n",
              "      <td>Regional Arab Climate Change Assessment Report</td>\n",
              "      <td>The Regional Initiative for the Assessment of ...</td>\n",
              "      <td>[{'rel': 'self', 'href': 'https://io.apps.fao....</td>\n",
              "      <td>NaN</td>\n",
              "      <td>NaN</td>\n",
              "    </tr>\n",
              "    <tr>\n",
              "      <th>25</th>\n",
              "      <td>RSCROP</td>\n",
              "      <td>Crop Pest and Disease Monitoring and Forecasti...</td>\n",
              "      <td>NaN</td>\n",
              "      <td>[{'rel': 'self', 'href': 'https://io.apps.fao....</td>\n",
              "      <td>{'site': 'http://en.rscrop.com/'}</td>\n",
              "      <td>[{'name': 'CROP'}, {'name': 'PEST'}, {'name': ...</td>\n",
              "    </tr>\n",
              "    <tr>\n",
              "      <th>26</th>\n",
              "      <td>RVF</td>\n",
              "      <td>Rift Valley Fever</td>\n",
              "      <td>Rift Valley Fever</td>\n",
              "      <td>[{'rel': 'self', 'href': 'https://io.apps.fao....</td>\n",
              "      <td>NaN</td>\n",
              "      <td>NaN</td>\n",
              "    </tr>\n",
              "    <tr>\n",
              "      <th>27</th>\n",
              "      <td>WAPOR_2</td>\n",
              "      <td>FAO Water Productivity Open-access portal (WaPOR)</td>\n",
              "      <td>The FAO Water Productivity Open-access portal ...</td>\n",
              "      <td>[{'rel': 'self', 'href': 'https://io.apps.fao....</td>\n",
              "      <td>{'tagContexts': {'levels': [{'name': 'L1', 'la...</td>\n",
              "      <td>NaN</td>\n",
              "    </tr>\n",
              "    <tr>\n",
              "      <th>28</th>\n",
              "      <td>WATER</td>\n",
              "      <td>Water Data</td>\n",
              "      <td>Water data, including water resources, agricul...</td>\n",
              "      <td>[{'rel': 'self', 'href': 'https://io.apps.fao....</td>\n",
              "      <td>NaN</td>\n",
              "      <td>[{'name': 'WATER'}]</td>\n",
              "    </tr>\n",
              "    <tr>\n",
              "      <th>29</th>\n",
              "      <td>WPOP</td>\n",
              "      <td>WorldPop project</td>\n",
              "      <td>The WorldPop project was initiated in October ...</td>\n",
              "      <td>[{'rel': 'self', 'href': 'https://io.apps.fao....</td>\n",
              "      <td>NaN</td>\n",
              "      <td>NaN</td>\n",
              "    </tr>\n",
              "  </tbody>\n",
              "</table>\n",
              "</div>\n",
              "      <button class=\"colab-df-convert\" onclick=\"convertToInteractive('df-769b23e6-d265-4c79-8224-f8814f492b4f')\"\n",
              "              title=\"Convert this dataframe to an interactive table.\"\n",
              "              style=\"display:none;\">\n",
              "        \n",
              "  <svg xmlns=\"http://www.w3.org/2000/svg\" height=\"24px\"viewBox=\"0 0 24 24\"\n",
              "       width=\"24px\">\n",
              "    <path d=\"M0 0h24v24H0V0z\" fill=\"none\"/>\n",
              "    <path d=\"M18.56 5.44l.94 2.06.94-2.06 2.06-.94-2.06-.94-.94-2.06-.94 2.06-2.06.94zm-11 1L8.5 8.5l.94-2.06 2.06-.94-2.06-.94L8.5 2.5l-.94 2.06-2.06.94zm10 10l.94 2.06.94-2.06 2.06-.94-2.06-.94-.94-2.06-.94 2.06-2.06.94z\"/><path d=\"M17.41 7.96l-1.37-1.37c-.4-.4-.92-.59-1.43-.59-.52 0-1.04.2-1.43.59L10.3 9.45l-7.72 7.72c-.78.78-.78 2.05 0 2.83L4 21.41c.39.39.9.59 1.41.59.51 0 1.02-.2 1.41-.59l7.78-7.78 2.81-2.81c.8-.78.8-2.07 0-2.86zM5.41 20L4 18.59l7.72-7.72 1.47 1.35L5.41 20z\"/>\n",
              "  </svg>\n",
              "      </button>\n",
              "      \n",
              "  <style>\n",
              "    .colab-df-container {\n",
              "      display:flex;\n",
              "      flex-wrap:wrap;\n",
              "      gap: 12px;\n",
              "    }\n",
              "\n",
              "    .colab-df-convert {\n",
              "      background-color: #E8F0FE;\n",
              "      border: none;\n",
              "      border-radius: 50%;\n",
              "      cursor: pointer;\n",
              "      display: none;\n",
              "      fill: #1967D2;\n",
              "      height: 32px;\n",
              "      padding: 0 0 0 0;\n",
              "      width: 32px;\n",
              "    }\n",
              "\n",
              "    .colab-df-convert:hover {\n",
              "      background-color: #E2EBFA;\n",
              "      box-shadow: 0px 1px 2px rgba(60, 64, 67, 0.3), 0px 1px 3px 1px rgba(60, 64, 67, 0.15);\n",
              "      fill: #174EA6;\n",
              "    }\n",
              "\n",
              "    [theme=dark] .colab-df-convert {\n",
              "      background-color: #3B4455;\n",
              "      fill: #D2E3FC;\n",
              "    }\n",
              "\n",
              "    [theme=dark] .colab-df-convert:hover {\n",
              "      background-color: #434B5C;\n",
              "      box-shadow: 0px 1px 3px 1px rgba(0, 0, 0, 0.15);\n",
              "      filter: drop-shadow(0px 1px 2px rgba(0, 0, 0, 0.3));\n",
              "      fill: #FFFFFF;\n",
              "    }\n",
              "  </style>\n",
              "\n",
              "      <script>\n",
              "        const buttonEl =\n",
              "          document.querySelector('#df-769b23e6-d265-4c79-8224-f8814f492b4f button.colab-df-convert');\n",
              "        buttonEl.style.display =\n",
              "          google.colab.kernel.accessAllowed ? 'block' : 'none';\n",
              "\n",
              "        async function convertToInteractive(key) {\n",
              "          const element = document.querySelector('#df-769b23e6-d265-4c79-8224-f8814f492b4f');\n",
              "          const dataTable =\n",
              "            await google.colab.kernel.invokeFunction('convertToInteractive',\n",
              "                                                     [key], {});\n",
              "          if (!dataTable) return;\n",
              "\n",
              "          const docLinkHtml = 'Like what you see? Visit the ' +\n",
              "            '<a target=\"_blank\" href=https://colab.research.google.com/notebooks/data_table.ipynb>data table notebook</a>'\n",
              "            + ' to learn more about interactive tables.';\n",
              "          element.innerHTML = '';\n",
              "          dataTable['output_type'] = 'display_data';\n",
              "          await google.colab.output.renderOutput(dataTable, element);\n",
              "          const docLink = document.createElement('div');\n",
              "          docLink.innerHTML = docLinkHtml;\n",
              "          element.appendChild(docLink);\n",
              "        }\n",
              "      </script>\n",
              "    </div>\n",
              "  </div>\n",
              "  "
            ]
          },
          "metadata": {},
          "execution_count": 7
        }
      ],
      "source": [
        "workspaces=pd.DataFrame.from_dict(resp_dict['response']) #convert response body to DataFrame object\n",
        "workspaces"
      ]
    },
    {
      "cell_type": "markdown",
      "id": "aaf4da76",
      "metadata": {
        "id": "aaf4da76"
      },
      "source": [
        "As you can see there are many workspaces that can be accessed through the FAO ReST API. In this tutorial, we want to show the example of WaPOR database. So we will use the workspace code of WaPOR: \"WaPOR_2\" (Number 27 in the list).\n",
        "\n",
        "For this we will use the workspace code \"WaPOR_2\" in our next request"
      ]
    },
    {
      "cell_type": "code",
      "execution_count": 8,
      "id": "475c2183",
      "metadata": {
        "id": "475c2183"
      },
      "outputs": [],
      "source": [
        "workspace='WAPOR_2'\n",
        "overview=False\n",
        "paged=False\n",
        "cubes_url= f'https://io.apps.fao.org/gismgr/api/v1/catalog/workspaces/{workspace}/cubes?overview={overview}&paged={paged}'"
      ]
    },
    {
      "cell_type": "markdown",
      "id": "085574a6",
      "metadata": {
        "id": "085574a6"
      },
      "source": [
        "Similar to the previous request, we can convert the response to DataFrame for readability"
      ]
    },
    {
      "cell_type": "code",
      "execution_count": 9,
      "id": "e8628656",
      "metadata": {
        "scrolled": false,
        "id": "e8628656",
        "outputId": "f4fa0483-ac8f-47ed-f797-b260d3bc6bb5",
        "colab": {
          "base_uri": "https://localhost:8080/",
          "height": 902
        }
      },
      "outputs": [
        {
          "output_type": "execute_result",
          "data": {
            "text/plain": [
              "                    code                                            caption  \\\n",
              "0              L1_GBWP_A                   Gross Biomass Water Productivity   \n",
              "1              L1_NBWP_A                     Net Biomass Water Productivity   \n",
              "2              L1_AETI_A  Actual EvapoTranspiration and Interception (An...   \n",
              "3              L1_AETI_M  Actual EvapoTranspiration and Interception (Mo...   \n",
              "4              L1_AETI_D  Actual EvapoTranspiration and Interception (De...   \n",
              "..                   ...                                                ...   \n",
              "337  L3_GEZ_QUAL_NDVI_LT  Quality of Normalized Difference Vegetation In...   \n",
              "338  L3_KOG_QUAL_NDVI_LT  Quality of Normalized Difference Vegetation In...   \n",
              "339  L3_LAM_QUAL_NDVI_LT  Quality of Normalized Difference Vegetation In...   \n",
              "340  L3_ODN_QUAL_NDVI_LT  Quality of Normalized Difference Vegetation In...   \n",
              "341  L3_ZAN_QUAL_NDVI_LT  Quality of Normalized Difference Vegetation In...   \n",
              "\n",
              "                                           description  \\\n",
              "0    The annual Gross Biomass Water Productivity ex...   \n",
              "1    The annual Net Biomass Water Productivity expr...   \n",
              "2    The actual EvapoTranspiration and Interception...   \n",
              "3    The actual EvapoTranspiration and Interception...   \n",
              "4    The actual EvapoTranspiration and Interception...   \n",
              "..                                                 ...   \n",
              "337  The long-term NDVI quality layer is produced a...   \n",
              "338  The long-term NDVI quality layer is produced a...   \n",
              "339  The long-term NDVI quality layer is produced a...   \n",
              "340  The long-term NDVI quality layer is produced a...   \n",
              "341  The long-term NDVI quality layer is produced a...   \n",
              "\n",
              "                                        additionalInfo  \\\n",
              "0    {'format': 'Raster Dataset', 'unit': 'kg/m³ is...   \n",
              "1    {'format': 'Raster Dataset', 'unit': 'kg/m³ is...   \n",
              "2    {'format': 'Raster Dataset', 'unit': 'mm', 'da...   \n",
              "3    {'format': 'Raster Dataset', 'unit': 'mm', 'da...   \n",
              "4    {'format': 'Raster Dataset', 'unit': 'mm', 'da...   \n",
              "..                                                 ...   \n",
              "337  {'format': 'Raster Dataset', 'unit': '%', 'dat...   \n",
              "338  {'format': 'Raster Dataset', 'unit': '%', 'dat...   \n",
              "339  {'format': 'Raster Dataset', 'unit': '%', 'dat...   \n",
              "340  {'format': 'Raster Dataset', 'unit': '%', 'dat...   \n",
              "341  {'format': 'Raster Dataset', 'unit': '%', 'dat...   \n",
              "\n",
              "                                                  tags workspaceCode dataType  \\\n",
              "0    [{'name': 'L1', 'index': 1, 'context': 'LEVELS...       WAPOR_2   RASTER   \n",
              "1    [{'name': 'L1', 'index': 2, 'context': 'LEVELS...       WAPOR_2   RASTER   \n",
              "2    [{'name': 'L1', 'index': 3, 'context': 'LEVELS...       WAPOR_2   RASTER   \n",
              "3    [{'name': 'L1', 'index': 4, 'context': 'LEVELS...       WAPOR_2   RASTER   \n",
              "4    [{'name': 'L1', 'index': 5, 'context': 'LEVELS...       WAPOR_2   RASTER   \n",
              "..                                                 ...           ...      ...   \n",
              "337  [{'name': 'L3', 'index': 347, 'context': 'LEVE...       WAPOR_2   RASTER   \n",
              "338  [{'name': 'L3', 'index': 349, 'context': 'LEVE...       WAPOR_2   RASTER   \n",
              "339  [{'name': 'L3', 'index': 351, 'context': 'LEVE...       WAPOR_2   RASTER   \n",
              "340  [{'name': 'L3', 'index': 357, 'context': 'LEVE...       WAPOR_2   RASTER   \n",
              "341  [{'name': 'L3', 'index': 360, 'context': 'LEVE...       WAPOR_2   RASTER   \n",
              "\n",
              "     index                                          operation  hidden  \\\n",
              "0      101  {'pixelTimeSeries': True, 'areaStatsTimeSeries...   False   \n",
              "1      102  {'pixelTimeSeries': True, 'areaStatsTimeSeries...   False   \n",
              "2      103  {'pixelTimeSeries': True, 'areaStatsTimeSeries...   False   \n",
              "3      104  {'pixelTimeSeries': True, 'areaStatsTimeSeries...   False   \n",
              "4      105  {'pixelTimeSeries': True, 'areaStatsTimeSeries...   False   \n",
              "..     ...                                                ...     ...   \n",
              "337  30347       {'pixelTimeSeries': True, 'areaStats': True}   False   \n",
              "338  30349       {'pixelTimeSeries': True, 'areaStats': True}   False   \n",
              "339  30351       {'pixelTimeSeries': True, 'areaStats': True}   False   \n",
              "340  30357       {'pixelTimeSeries': True, 'areaStats': True}   False   \n",
              "341  30360       {'pixelTimeSeries': True, 'areaStats': True}   False   \n",
              "\n",
              "                                                 links  \n",
              "0    [{'rel': 'self', 'href': 'https://io.apps.fao....  \n",
              "1    [{'rel': 'self', 'href': 'https://io.apps.fao....  \n",
              "2    [{'rel': 'self', 'href': 'https://io.apps.fao....  \n",
              "3    [{'rel': 'self', 'href': 'https://io.apps.fao....  \n",
              "4    [{'rel': 'self', 'href': 'https://io.apps.fao....  \n",
              "..                                                 ...  \n",
              "337  [{'rel': 'self', 'href': 'https://io.apps.fao....  \n",
              "338  [{'rel': 'self', 'href': 'https://io.apps.fao....  \n",
              "339  [{'rel': 'self', 'href': 'https://io.apps.fao....  \n",
              "340  [{'rel': 'self', 'href': 'https://io.apps.fao....  \n",
              "341  [{'rel': 'self', 'href': 'https://io.apps.fao....  \n",
              "\n",
              "[342 rows x 11 columns]"
            ],
            "text/html": [
              "\n",
              "  <div id=\"df-da1e80fe-b439-415b-8c72-34becc9c2c16\">\n",
              "    <div class=\"colab-df-container\">\n",
              "      <div>\n",
              "<style scoped>\n",
              "    .dataframe tbody tr th:only-of-type {\n",
              "        vertical-align: middle;\n",
              "    }\n",
              "\n",
              "    .dataframe tbody tr th {\n",
              "        vertical-align: top;\n",
              "    }\n",
              "\n",
              "    .dataframe thead th {\n",
              "        text-align: right;\n",
              "    }\n",
              "</style>\n",
              "<table border=\"1\" class=\"dataframe\">\n",
              "  <thead>\n",
              "    <tr style=\"text-align: right;\">\n",
              "      <th></th>\n",
              "      <th>code</th>\n",
              "      <th>caption</th>\n",
              "      <th>description</th>\n",
              "      <th>additionalInfo</th>\n",
              "      <th>tags</th>\n",
              "      <th>workspaceCode</th>\n",
              "      <th>dataType</th>\n",
              "      <th>index</th>\n",
              "      <th>operation</th>\n",
              "      <th>hidden</th>\n",
              "      <th>links</th>\n",
              "    </tr>\n",
              "  </thead>\n",
              "  <tbody>\n",
              "    <tr>\n",
              "      <th>0</th>\n",
              "      <td>L1_GBWP_A</td>\n",
              "      <td>Gross Biomass Water Productivity</td>\n",
              "      <td>The annual Gross Biomass Water Productivity ex...</td>\n",
              "      <td>{'format': 'Raster Dataset', 'unit': 'kg/m³ is...</td>\n",
              "      <td>[{'name': 'L1', 'index': 1, 'context': 'LEVELS...</td>\n",
              "      <td>WAPOR_2</td>\n",
              "      <td>RASTER</td>\n",
              "      <td>101</td>\n",
              "      <td>{'pixelTimeSeries': True, 'areaStatsTimeSeries...</td>\n",
              "      <td>False</td>\n",
              "      <td>[{'rel': 'self', 'href': 'https://io.apps.fao....</td>\n",
              "    </tr>\n",
              "    <tr>\n",
              "      <th>1</th>\n",
              "      <td>L1_NBWP_A</td>\n",
              "      <td>Net Biomass Water Productivity</td>\n",
              "      <td>The annual Net Biomass Water Productivity expr...</td>\n",
              "      <td>{'format': 'Raster Dataset', 'unit': 'kg/m³ is...</td>\n",
              "      <td>[{'name': 'L1', 'index': 2, 'context': 'LEVELS...</td>\n",
              "      <td>WAPOR_2</td>\n",
              "      <td>RASTER</td>\n",
              "      <td>102</td>\n",
              "      <td>{'pixelTimeSeries': True, 'areaStatsTimeSeries...</td>\n",
              "      <td>False</td>\n",
              "      <td>[{'rel': 'self', 'href': 'https://io.apps.fao....</td>\n",
              "    </tr>\n",
              "    <tr>\n",
              "      <th>2</th>\n",
              "      <td>L1_AETI_A</td>\n",
              "      <td>Actual EvapoTranspiration and Interception (An...</td>\n",
              "      <td>The actual EvapoTranspiration and Interception...</td>\n",
              "      <td>{'format': 'Raster Dataset', 'unit': 'mm', 'da...</td>\n",
              "      <td>[{'name': 'L1', 'index': 3, 'context': 'LEVELS...</td>\n",
              "      <td>WAPOR_2</td>\n",
              "      <td>RASTER</td>\n",
              "      <td>103</td>\n",
              "      <td>{'pixelTimeSeries': True, 'areaStatsTimeSeries...</td>\n",
              "      <td>False</td>\n",
              "      <td>[{'rel': 'self', 'href': 'https://io.apps.fao....</td>\n",
              "    </tr>\n",
              "    <tr>\n",
              "      <th>3</th>\n",
              "      <td>L1_AETI_M</td>\n",
              "      <td>Actual EvapoTranspiration and Interception (Mo...</td>\n",
              "      <td>The actual EvapoTranspiration and Interception...</td>\n",
              "      <td>{'format': 'Raster Dataset', 'unit': 'mm', 'da...</td>\n",
              "      <td>[{'name': 'L1', 'index': 4, 'context': 'LEVELS...</td>\n",
              "      <td>WAPOR_2</td>\n",
              "      <td>RASTER</td>\n",
              "      <td>104</td>\n",
              "      <td>{'pixelTimeSeries': True, 'areaStatsTimeSeries...</td>\n",
              "      <td>False</td>\n",
              "      <td>[{'rel': 'self', 'href': 'https://io.apps.fao....</td>\n",
              "    </tr>\n",
              "    <tr>\n",
              "      <th>4</th>\n",
              "      <td>L1_AETI_D</td>\n",
              "      <td>Actual EvapoTranspiration and Interception (De...</td>\n",
              "      <td>The actual EvapoTranspiration and Interception...</td>\n",
              "      <td>{'format': 'Raster Dataset', 'unit': 'mm', 'da...</td>\n",
              "      <td>[{'name': 'L1', 'index': 5, 'context': 'LEVELS...</td>\n",
              "      <td>WAPOR_2</td>\n",
              "      <td>RASTER</td>\n",
              "      <td>105</td>\n",
              "      <td>{'pixelTimeSeries': True, 'areaStatsTimeSeries...</td>\n",
              "      <td>False</td>\n",
              "      <td>[{'rel': 'self', 'href': 'https://io.apps.fao....</td>\n",
              "    </tr>\n",
              "    <tr>\n",
              "      <th>...</th>\n",
              "      <td>...</td>\n",
              "      <td>...</td>\n",
              "      <td>...</td>\n",
              "      <td>...</td>\n",
              "      <td>...</td>\n",
              "      <td>...</td>\n",
              "      <td>...</td>\n",
              "      <td>...</td>\n",
              "      <td>...</td>\n",
              "      <td>...</td>\n",
              "      <td>...</td>\n",
              "    </tr>\n",
              "    <tr>\n",
              "      <th>337</th>\n",
              "      <td>L3_GEZ_QUAL_NDVI_LT</td>\n",
              "      <td>Quality of Normalized Difference Vegetation In...</td>\n",
              "      <td>The long-term NDVI quality layer is produced a...</td>\n",
              "      <td>{'format': 'Raster Dataset', 'unit': '%', 'dat...</td>\n",
              "      <td>[{'name': 'L3', 'index': 347, 'context': 'LEVE...</td>\n",
              "      <td>WAPOR_2</td>\n",
              "      <td>RASTER</td>\n",
              "      <td>30347</td>\n",
              "      <td>{'pixelTimeSeries': True, 'areaStats': True}</td>\n",
              "      <td>False</td>\n",
              "      <td>[{'rel': 'self', 'href': 'https://io.apps.fao....</td>\n",
              "    </tr>\n",
              "    <tr>\n",
              "      <th>338</th>\n",
              "      <td>L3_KOG_QUAL_NDVI_LT</td>\n",
              "      <td>Quality of Normalized Difference Vegetation In...</td>\n",
              "      <td>The long-term NDVI quality layer is produced a...</td>\n",
              "      <td>{'format': 'Raster Dataset', 'unit': '%', 'dat...</td>\n",
              "      <td>[{'name': 'L3', 'index': 349, 'context': 'LEVE...</td>\n",
              "      <td>WAPOR_2</td>\n",
              "      <td>RASTER</td>\n",
              "      <td>30349</td>\n",
              "      <td>{'pixelTimeSeries': True, 'areaStats': True}</td>\n",
              "      <td>False</td>\n",
              "      <td>[{'rel': 'self', 'href': 'https://io.apps.fao....</td>\n",
              "    </tr>\n",
              "    <tr>\n",
              "      <th>339</th>\n",
              "      <td>L3_LAM_QUAL_NDVI_LT</td>\n",
              "      <td>Quality of Normalized Difference Vegetation In...</td>\n",
              "      <td>The long-term NDVI quality layer is produced a...</td>\n",
              "      <td>{'format': 'Raster Dataset', 'unit': '%', 'dat...</td>\n",
              "      <td>[{'name': 'L3', 'index': 351, 'context': 'LEVE...</td>\n",
              "      <td>WAPOR_2</td>\n",
              "      <td>RASTER</td>\n",
              "      <td>30351</td>\n",
              "      <td>{'pixelTimeSeries': True, 'areaStats': True}</td>\n",
              "      <td>False</td>\n",
              "      <td>[{'rel': 'self', 'href': 'https://io.apps.fao....</td>\n",
              "    </tr>\n",
              "    <tr>\n",
              "      <th>340</th>\n",
              "      <td>L3_ODN_QUAL_NDVI_LT</td>\n",
              "      <td>Quality of Normalized Difference Vegetation In...</td>\n",
              "      <td>The long-term NDVI quality layer is produced a...</td>\n",
              "      <td>{'format': 'Raster Dataset', 'unit': '%', 'dat...</td>\n",
              "      <td>[{'name': 'L3', 'index': 357, 'context': 'LEVE...</td>\n",
              "      <td>WAPOR_2</td>\n",
              "      <td>RASTER</td>\n",
              "      <td>30357</td>\n",
              "      <td>{'pixelTimeSeries': True, 'areaStats': True}</td>\n",
              "      <td>False</td>\n",
              "      <td>[{'rel': 'self', 'href': 'https://io.apps.fao....</td>\n",
              "    </tr>\n",
              "    <tr>\n",
              "      <th>341</th>\n",
              "      <td>L3_ZAN_QUAL_NDVI_LT</td>\n",
              "      <td>Quality of Normalized Difference Vegetation In...</td>\n",
              "      <td>The long-term NDVI quality layer is produced a...</td>\n",
              "      <td>{'format': 'Raster Dataset', 'unit': '%', 'dat...</td>\n",
              "      <td>[{'name': 'L3', 'index': 360, 'context': 'LEVE...</td>\n",
              "      <td>WAPOR_2</td>\n",
              "      <td>RASTER</td>\n",
              "      <td>30360</td>\n",
              "      <td>{'pixelTimeSeries': True, 'areaStats': True}</td>\n",
              "      <td>False</td>\n",
              "      <td>[{'rel': 'self', 'href': 'https://io.apps.fao....</td>\n",
              "    </tr>\n",
              "  </tbody>\n",
              "</table>\n",
              "<p>342 rows × 11 columns</p>\n",
              "</div>\n",
              "      <button class=\"colab-df-convert\" onclick=\"convertToInteractive('df-da1e80fe-b439-415b-8c72-34becc9c2c16')\"\n",
              "              title=\"Convert this dataframe to an interactive table.\"\n",
              "              style=\"display:none;\">\n",
              "        \n",
              "  <svg xmlns=\"http://www.w3.org/2000/svg\" height=\"24px\"viewBox=\"0 0 24 24\"\n",
              "       width=\"24px\">\n",
              "    <path d=\"M0 0h24v24H0V0z\" fill=\"none\"/>\n",
              "    <path d=\"M18.56 5.44l.94 2.06.94-2.06 2.06-.94-2.06-.94-.94-2.06-.94 2.06-2.06.94zm-11 1L8.5 8.5l.94-2.06 2.06-.94-2.06-.94L8.5 2.5l-.94 2.06-2.06.94zm10 10l.94 2.06.94-2.06 2.06-.94-2.06-.94-.94-2.06-.94 2.06-2.06.94z\"/><path d=\"M17.41 7.96l-1.37-1.37c-.4-.4-.92-.59-1.43-.59-.52 0-1.04.2-1.43.59L10.3 9.45l-7.72 7.72c-.78.78-.78 2.05 0 2.83L4 21.41c.39.39.9.59 1.41.59.51 0 1.02-.2 1.41-.59l7.78-7.78 2.81-2.81c.8-.78.8-2.07 0-2.86zM5.41 20L4 18.59l7.72-7.72 1.47 1.35L5.41 20z\"/>\n",
              "  </svg>\n",
              "      </button>\n",
              "      \n",
              "  <style>\n",
              "    .colab-df-container {\n",
              "      display:flex;\n",
              "      flex-wrap:wrap;\n",
              "      gap: 12px;\n",
              "    }\n",
              "\n",
              "    .colab-df-convert {\n",
              "      background-color: #E8F0FE;\n",
              "      border: none;\n",
              "      border-radius: 50%;\n",
              "      cursor: pointer;\n",
              "      display: none;\n",
              "      fill: #1967D2;\n",
              "      height: 32px;\n",
              "      padding: 0 0 0 0;\n",
              "      width: 32px;\n",
              "    }\n",
              "\n",
              "    .colab-df-convert:hover {\n",
              "      background-color: #E2EBFA;\n",
              "      box-shadow: 0px 1px 2px rgba(60, 64, 67, 0.3), 0px 1px 3px 1px rgba(60, 64, 67, 0.15);\n",
              "      fill: #174EA6;\n",
              "    }\n",
              "\n",
              "    [theme=dark] .colab-df-convert {\n",
              "      background-color: #3B4455;\n",
              "      fill: #D2E3FC;\n",
              "    }\n",
              "\n",
              "    [theme=dark] .colab-df-convert:hover {\n",
              "      background-color: #434B5C;\n",
              "      box-shadow: 0px 1px 3px 1px rgba(0, 0, 0, 0.15);\n",
              "      filter: drop-shadow(0px 1px 2px rgba(0, 0, 0, 0.3));\n",
              "      fill: #FFFFFF;\n",
              "    }\n",
              "  </style>\n",
              "\n",
              "      <script>\n",
              "        const buttonEl =\n",
              "          document.querySelector('#df-da1e80fe-b439-415b-8c72-34becc9c2c16 button.colab-df-convert');\n",
              "        buttonEl.style.display =\n",
              "          google.colab.kernel.accessAllowed ? 'block' : 'none';\n",
              "\n",
              "        async function convertToInteractive(key) {\n",
              "          const element = document.querySelector('#df-da1e80fe-b439-415b-8c72-34becc9c2c16');\n",
              "          const dataTable =\n",
              "            await google.colab.kernel.invokeFunction('convertToInteractive',\n",
              "                                                     [key], {});\n",
              "          if (!dataTable) return;\n",
              "\n",
              "          const docLinkHtml = 'Like what you see? Visit the ' +\n",
              "            '<a target=\"_blank\" href=https://colab.research.google.com/notebooks/data_table.ipynb>data table notebook</a>'\n",
              "            + ' to learn more about interactive tables.';\n",
              "          element.innerHTML = '';\n",
              "          dataTable['output_type'] = 'display_data';\n",
              "          await google.colab.output.renderOutput(dataTable, element);\n",
              "          const docLink = document.createElement('div');\n",
              "          docLink.innerHTML = docLinkHtml;\n",
              "          element.appendChild(docLink);\n",
              "        }\n",
              "      </script>\n",
              "    </div>\n",
              "  </div>\n",
              "  "
            ]
          },
          "metadata": {},
          "execution_count": 9
        }
      ],
      "source": [
        "resp=requests.get(cubes_url).json()\n",
        "catalog=pd.DataFrame.from_dict(resp['response'])\n",
        "catalog"
      ]
    },
    {
      "cell_type": "markdown",
      "id": "ace4f1ef",
      "metadata": {
        "id": "ace4f1ef"
      },
      "source": [
        "As you can see, there are 342 rows representing 342 data cubes in WaPOR database. To request details of a data cube, we will use the cube code in the following request"
      ]
    },
    {
      "cell_type": "code",
      "execution_count": 10,
      "id": "9b2b044a",
      "metadata": {
        "scrolled": true,
        "id": "9b2b044a",
        "outputId": "2a60b501-5ac9-42f9-d087-5afa8d9ed61b",
        "colab": {
          "base_uri": "https://localhost:8080/"
        }
      },
      "outputs": [
        {
          "output_type": "execute_result",
          "data": {
            "text/plain": [
              "{'requestId': '56ec14be-e455-4552-ba60-6397feeacd69',\n",
              " 'timestamp': 1687808133002,\n",
              " 'runtime': 4,\n",
              " 'status': 200,\n",
              " 'message': 'OK',\n",
              " 'response': {'code': 'L2_AETI_A',\n",
              "  'caption': 'Actual EvapoTranspiration and Interception (Annual)',\n",
              "  'description': 'The actual EvapoTranspiration and Interception (ETIa) is the sum of the soil evaporation (E), canopy transpiration (T), and evaporation from rainfall intercepted by leaves (I). The value of each pixel represents the ETIa in a given year.',\n",
              "  'additionalInfo': {'format': 'Raster Dataset',\n",
              "   'unit': 'mm',\n",
              "   'dataType': 'Int32 (32bit Integer)',\n",
              "   'conversionFactor': 'the pixel value in the downloaded data must be multiplied by 0.1',\n",
              "   'noDataValue': -9999,\n",
              "   'spatialResolution': '100m (0.000992 degree)',\n",
              "   'spatialExtent': 'Africa and Near East',\n",
              "   'spatialReferenceSystem': 'EPSG:4326 - WGS84 - Geographic Coordinate System (lat/long)',\n",
              "   'temporalResolution': 'from January 2009 to present',\n",
              "   'temporalExtent': 'Annual',\n",
              "   'nearRealTime': 'New dekadal data layers are released approximately 5 days after the end of a dekad. A higher quality version of the same data layer is uploaded after 6 dekads have passed. This final version of the dekadal dataset has a higher quality because gap filling and interpolation processes, where needed, have been based on more data observations. This implies that other temporal aggregations (monthly, seasonal, annual), and layers that depend on those, are updated as well. Practically this means that a final annual aggregation of the most recent full calendar year can only be produced after the end of February. Likewise, the final monthly aggregation of the most recent calendar months can only be produced 2 full months later.',\n",
              "   'methodology': 'See ETIa by dekad for further information. The annual total is obtained by taking the ETIa in mm/day, multiplying by the number of days in a dekad, and summing the dekads of each year.\\n\\nUntil December 2019 the base input layers (NDVI, albedo, and fAPAR) for the Level 2 (100m) products were derived from the Proba-V satellite. Proba-V was decommissioned in June 2020. From January 2020 onwards the base input layers of NDVI, albedo and fAPAR for level 2 are derived from the Copernicus Sentinel-2 mission.'},\n",
              "  'tags': [{'name': 'L2', 'index': 3, 'context': 'LEVELS_LIST'},\n",
              "   {'name': 'WATER', 'index': 1, 'context': 'CATEGORIES_LIST'},\n",
              "   {'name': 'L2', 'index': 3, 'context': 'levels'},\n",
              "   {'name': 'C2', 'index': 1, 'context': 'categories'}],\n",
              "  'workspaceCode': 'WAPOR_2',\n",
              "  'dataType': 'RASTER',\n",
              "  'index': 203,\n",
              "  'operation': {'pixelTimeSeries': True, 'areaStatsTimeSeries': True},\n",
              "  'hidden': False,\n",
              "  'links': [{'rel': 'self',\n",
              "    'href': 'https://io.apps.fao.org/gismgr/api/v1/catalog/workspaces/WAPOR_2/cubes/L2_AETI_A'},\n",
              "   {'rel': 'dimensions',\n",
              "    'href': 'https://io.apps.fao.org/gismgr/api/v1/catalog/workspaces/WAPOR_2/cubes/L2_AETI_A/dimensions'},\n",
              "   {'rel': 'measures',\n",
              "    'href': 'https://io.apps.fao.org/gismgr/api/v1/catalog/workspaces/WAPOR_2/cubes/L2_AETI_A/measures'},\n",
              "   {'rel': 'styles',\n",
              "    'href': 'https://io.apps.fao.org/gismgr/api/v1/catalog/workspaces/WAPOR_2/cubes/L2_AETI_A/styles'},\n",
              "   {'rel': 'rasters',\n",
              "    'href': 'https://io.apps.fao.org/gismgr/api/v1/catalog/workspaces/WAPOR_2/cubes/L2_AETI_A/rasters'}]}}"
            ]
          },
          "metadata": {},
          "execution_count": 10
        }
      ],
      "source": [
        "cube_code='L2_AETI_A'\n",
        "workspace='WAPOR_2'\n",
        "cube_url=f'https://io.apps.fao.org/gismgr/api/v1/catalog/workspaces/{workspace}/cubes/{cube_code}'\n",
        "resp=requests.get(cube_url).json()\n",
        "resp"
      ]
    },
    {
      "cell_type": "markdown",
      "id": "e1849cd0",
      "metadata": {
        "id": "e1849cd0"
      },
      "source": [
        "The metadata of this cube code is presentend in JSON format. For example, you can get the unit and converion factor as follows"
      ]
    },
    {
      "cell_type": "code",
      "execution_count": 11,
      "id": "dc45816f",
      "metadata": {
        "id": "dc45816f",
        "outputId": "ffaaeec7-2479-4c0a-f74c-fd5f8162c634",
        "colab": {
          "base_uri": "https://localhost:8080/"
        }
      },
      "outputs": [
        {
          "output_type": "stream",
          "name": "stdout",
          "text": [
            "unit:  mm\n",
            "conversionFactor:  the pixel value in the downloaded data must be multiplied by 0.1\n"
          ]
        }
      ],
      "source": [
        "print('unit: ',resp['response']['additionalInfo']['unit'])\n",
        "print('conversionFactor: ',resp['response']['additionalInfo']['conversionFactor'])"
      ]
    },
    {
      "cell_type": "markdown",
      "id": "2616c387",
      "metadata": {
        "id": "2616c387"
      },
      "source": [
        "# 4. Get available data table<a name=\"datavail\"></a>"
      ]
    },
    {
      "cell_type": "markdown",
      "id": "331b552e",
      "metadata": {
        "id": "331b552e"
      },
      "source": [
        "In this section, we'll get a list of available raster data for a specific datacube given a time period using the *query* url"
      ]
    },
    {
      "cell_type": "code",
      "execution_count": 12,
      "id": "ee58c504",
      "metadata": {
        "id": "ee58c504"
      },
      "outputs": [],
      "source": [
        "path_query=r'https://io.apps.fao.org/gismgr/api/v1/query/'"
      ]
    },
    {
      "cell_type": "markdown",
      "id": "cdbc7f48",
      "metadata": {
        "id": "cdbc7f48"
      },
      "source": [
        "We will need to write a query payload with these information:\n",
        "\n",
        "- Workspace code\n",
        "- Datacube code\n",
        "- Time range\n",
        "- Measure (quantity)\n",
        "- Dimension (time-step)\n"
      ]
    },
    {
      "cell_type": "code",
      "execution_count": 13,
      "id": "39bfe242",
      "metadata": {
        "id": "39bfe242"
      },
      "outputs": [],
      "source": [
        "workspace='WAPOR_2'\n",
        "cube_code='L1_AETI_A'\n",
        "time_range=\"[2011-01-01,2014-01-01]\""
      ]
    },
    {
      "cell_type": "markdown",
      "id": "f1e7cb51",
      "metadata": {
        "id": "f1e7cb51"
      },
      "source": [
        "To get *measure* (quantity) of the datacube, we will use this request"
      ]
    },
    {
      "cell_type": "code",
      "execution_count": 14,
      "id": "d94fb68f",
      "metadata": {
        "id": "d94fb68f",
        "outputId": "78dc440a-96b9-4ed4-cbfd-4d2d0b061ad7",
        "colab": {
          "base_uri": "https://localhost:8080/",
          "height": 35
        }
      },
      "outputs": [
        {
          "output_type": "execute_result",
          "data": {
            "text/plain": [
              "'WATER_MM'"
            ],
            "application/vnd.google.colaboratory.intrinsic+json": {
              "type": "string"
            }
          },
          "metadata": {},
          "execution_count": 14
        }
      ],
      "source": [
        "#get datacube measure\n",
        "cube_url=f'https://io.apps.fao.org/gismgr/api/v1/catalog/workspaces/{workspace}/cubes/{cube_code}/measures'\n",
        "resp=requests.get(cube_url).json()\n",
        "measure=resp['response']['items'][0]['code']\n",
        "measure"
      ]
    },
    {
      "cell_type": "markdown",
      "id": "ea61d121",
      "metadata": {
        "id": "ea61d121"
      },
      "source": [
        "To get *dimension* (quantity) of the datacube, we will use this request"
      ]
    },
    {
      "cell_type": "code",
      "execution_count": 15,
      "id": "a1797bab",
      "metadata": {
        "id": "a1797bab",
        "outputId": "d2cd3644-23a9-4237-96c3-866e26877c86",
        "colab": {
          "base_uri": "https://localhost:8080/",
          "height": 35
        }
      },
      "outputs": [
        {
          "output_type": "execute_result",
          "data": {
            "text/plain": [
              "'YEAR'"
            ],
            "application/vnd.google.colaboratory.intrinsic+json": {
              "type": "string"
            }
          },
          "metadata": {},
          "execution_count": 15
        }
      ],
      "source": [
        "#get datacube time dimension\n",
        "cube_url=f'https://io.apps.fao.org/gismgr/api/v1/catalog/workspaces/{workspace}/cubes/{cube_code}/dimensions'\n",
        "resp=requests.get(cube_url).json()\n",
        "items=pd.DataFrame.from_dict(resp['response']['items'])\n",
        "dimension=items[items.type=='TIME']['code'].values[0]\n",
        "dimension"
      ]
    },
    {
      "cell_type": "markdown",
      "id": "91f894a2",
      "metadata": {
        "id": "91f894a2"
      },
      "source": [
        "Now, we will write all this information in a query payload as a python dictionary"
      ]
    },
    {
      "cell_type": "code",
      "execution_count": 16,
      "id": "7015fc39",
      "metadata": {
        "id": "7015fc39"
      },
      "outputs": [],
      "source": [
        "query={\n",
        "  \"type\": \"MDAQuery_Table\", #type of query\n",
        "  \"params\": {\n",
        "    \"properties\": {\n",
        "      \"metadata\": True,\n",
        "      \"paged\": False\n",
        "    },\n",
        "    \"cube\": {\n",
        "      \"code\": cube_code,\n",
        "      \"workspaceCode\": workspace,\n",
        "      \"language\": \"en\"\n",
        "    },\n",
        "    \"dimensions\": [\n",
        "      {\n",
        "        \"code\": dimension,\n",
        "        \"range\": time_range\n",
        "      }\n",
        "    ],\n",
        "    \"measures\": [\n",
        "      measure\n",
        "    ],\n",
        "    \"projection\": {\n",
        "      \"columns\": [\n",
        "        \"MEASURES\"\n",
        "      ],\n",
        "      \"rows\": [\n",
        "        dimension\n",
        "      ]\n",
        "    }\n",
        "  }\n",
        "}"
      ]
    },
    {
      "cell_type": "markdown",
      "id": "ff27b91d",
      "metadata": {
        "id": "ff27b91d"
      },
      "source": [
        "After that, we will use REST POST method to send this request"
      ]
    },
    {
      "cell_type": "code",
      "execution_count": 17,
      "id": "871e4a18",
      "metadata": {
        "id": "871e4a18",
        "outputId": "fc6014f4-704b-4291-ba67-b68be6ed452c",
        "colab": {
          "base_uri": "https://localhost:8080/"
        }
      },
      "outputs": [
        {
          "output_type": "execute_result",
          "data": {
            "text/plain": [
              "{'requestId': 'b6413e66-8572-473d-b42a-370cb08376f4',\n",
              " 'timestamp': 1687808133267,\n",
              " 'runtime': 11,\n",
              " 'status': 200,\n",
              " 'message': 'OK',\n",
              " 'response': {'properties': {'flat': True,\n",
              "   'metadata': True,\n",
              "   'showEmptyRows': False,\n",
              "   'paged': False,\n",
              "   'pageSize': 20,\n",
              "   'page': 0},\n",
              "  'header': {'height': 1,\n",
              "   'rows': [[{'value': 'Year',\n",
              "      'type': 'ROW_COLUMN_HEADER',\n",
              "      'width': 1,\n",
              "      'height': 1},\n",
              "     {'value': 'Amount of Water',\n",
              "      'type': 'COLUMN_HEADER',\n",
              "      'width': 1,\n",
              "      'height': 1}]]},\n",
              "  'items': [[{'value': '2011', 'type': 'ROW_HEADER', 'width': 1, 'height': 1},\n",
              "    {'type': 'DATA_CELL',\n",
              "     'value': 1,\n",
              "     'metadata': {'raster': {'id': 'L1_AETI_11',\n",
              "       'bbox': [{'srid': 'EPSG:4326',\n",
              "         'value': [-30.0044643, -40.0044644, 65.0044644, 40.0044643]}]}}}],\n",
              "   [{'value': '2012', 'type': 'ROW_HEADER', 'width': 1, 'height': 1},\n",
              "    {'type': 'DATA_CELL',\n",
              "     'value': 1,\n",
              "     'metadata': {'raster': {'id': 'L1_AETI_12',\n",
              "       'bbox': [{'srid': 'EPSG:4326',\n",
              "         'value': [-30.0044643, -40.0044644, 65.0044644, 40.0044643]}]}}}],\n",
              "   [{'value': '2013', 'type': 'ROW_HEADER', 'width': 1, 'height': 1},\n",
              "    {'type': 'DATA_CELL',\n",
              "     'value': 1,\n",
              "     'metadata': {'raster': {'id': 'L1_AETI_13',\n",
              "       'bbox': [{'srid': 'EPSG:4326',\n",
              "         'value': [-30.0044643, -40.0044644, 65.0044644, 40.0044643]}]}}}],\n",
              "   [{'value': '2014', 'type': 'ROW_HEADER', 'width': 1, 'height': 1},\n",
              "    {'type': 'DATA_CELL',\n",
              "     'value': 1,\n",
              "     'metadata': {'raster': {'id': 'L1_AETI_14',\n",
              "       'bbox': [{'srid': 'EPSG:4326',\n",
              "         'value': [-30.0044643, -40.0044644, 65.0044644, 40.0044643]}]}}}]]}}"
            ]
          },
          "metadata": {},
          "execution_count": 17
        }
      ],
      "source": [
        "resp=requests.post(path_query,json=query)\n",
        "resp_dict = resp.json() #read response JSON string\n",
        "resp_dict"
      ]
    },
    {
      "cell_type": "markdown",
      "id": "b7102f35",
      "metadata": {
        "id": "b7102f35"
      },
      "source": [
        "Again, the response is in JSON format. We will convert it to DataFrame for readability"
      ]
    },
    {
      "cell_type": "code",
      "execution_count": 18,
      "id": "7e1aac2c",
      "metadata": {
        "id": "7e1aac2c",
        "outputId": "ec384bef-ecee-4865-f0f1-27d95893d82b",
        "colab": {
          "base_uri": "https://localhost:8080/",
          "height": 175
        }
      },
      "outputs": [
        {
          "output_type": "execute_result",
          "data": {
            "text/plain": [
              "   YEAR    rasterId                                               bbox\n",
              "0  2011  L1_AETI_11  [{'srid': 'EPSG:4326', 'value': [-30.0044643, ...\n",
              "1  2012  L1_AETI_12  [{'srid': 'EPSG:4326', 'value': [-30.0044643, ...\n",
              "2  2013  L1_AETI_13  [{'srid': 'EPSG:4326', 'value': [-30.0044643, ...\n",
              "3  2014  L1_AETI_14  [{'srid': 'EPSG:4326', 'value': [-30.0044643, ..."
            ],
            "text/html": [
              "\n",
              "  <div id=\"df-be8b8fda-4ae7-488c-8fdc-a85ad07177ab\">\n",
              "    <div class=\"colab-df-container\">\n",
              "      <div>\n",
              "<style scoped>\n",
              "    .dataframe tbody tr th:only-of-type {\n",
              "        vertical-align: middle;\n",
              "    }\n",
              "\n",
              "    .dataframe tbody tr th {\n",
              "        vertical-align: top;\n",
              "    }\n",
              "\n",
              "    .dataframe thead th {\n",
              "        text-align: right;\n",
              "    }\n",
              "</style>\n",
              "<table border=\"1\" class=\"dataframe\">\n",
              "  <thead>\n",
              "    <tr style=\"text-align: right;\">\n",
              "      <th></th>\n",
              "      <th>YEAR</th>\n",
              "      <th>rasterId</th>\n",
              "      <th>bbox</th>\n",
              "    </tr>\n",
              "  </thead>\n",
              "  <tbody>\n",
              "    <tr>\n",
              "      <th>0</th>\n",
              "      <td>2011</td>\n",
              "      <td>L1_AETI_11</td>\n",
              "      <td>[{'srid': 'EPSG:4326', 'value': [-30.0044643, ...</td>\n",
              "    </tr>\n",
              "    <tr>\n",
              "      <th>1</th>\n",
              "      <td>2012</td>\n",
              "      <td>L1_AETI_12</td>\n",
              "      <td>[{'srid': 'EPSG:4326', 'value': [-30.0044643, ...</td>\n",
              "    </tr>\n",
              "    <tr>\n",
              "      <th>2</th>\n",
              "      <td>2013</td>\n",
              "      <td>L1_AETI_13</td>\n",
              "      <td>[{'srid': 'EPSG:4326', 'value': [-30.0044643, ...</td>\n",
              "    </tr>\n",
              "    <tr>\n",
              "      <th>3</th>\n",
              "      <td>2014</td>\n",
              "      <td>L1_AETI_14</td>\n",
              "      <td>[{'srid': 'EPSG:4326', 'value': [-30.0044643, ...</td>\n",
              "    </tr>\n",
              "  </tbody>\n",
              "</table>\n",
              "</div>\n",
              "      <button class=\"colab-df-convert\" onclick=\"convertToInteractive('df-be8b8fda-4ae7-488c-8fdc-a85ad07177ab')\"\n",
              "              title=\"Convert this dataframe to an interactive table.\"\n",
              "              style=\"display:none;\">\n",
              "        \n",
              "  <svg xmlns=\"http://www.w3.org/2000/svg\" height=\"24px\"viewBox=\"0 0 24 24\"\n",
              "       width=\"24px\">\n",
              "    <path d=\"M0 0h24v24H0V0z\" fill=\"none\"/>\n",
              "    <path d=\"M18.56 5.44l.94 2.06.94-2.06 2.06-.94-2.06-.94-.94-2.06-.94 2.06-2.06.94zm-11 1L8.5 8.5l.94-2.06 2.06-.94-2.06-.94L8.5 2.5l-.94 2.06-2.06.94zm10 10l.94 2.06.94-2.06 2.06-.94-2.06-.94-.94-2.06-.94 2.06-2.06.94z\"/><path d=\"M17.41 7.96l-1.37-1.37c-.4-.4-.92-.59-1.43-.59-.52 0-1.04.2-1.43.59L10.3 9.45l-7.72 7.72c-.78.78-.78 2.05 0 2.83L4 21.41c.39.39.9.59 1.41.59.51 0 1.02-.2 1.41-.59l7.78-7.78 2.81-2.81c.8-.78.8-2.07 0-2.86zM5.41 20L4 18.59l7.72-7.72 1.47 1.35L5.41 20z\"/>\n",
              "  </svg>\n",
              "      </button>\n",
              "      \n",
              "  <style>\n",
              "    .colab-df-container {\n",
              "      display:flex;\n",
              "      flex-wrap:wrap;\n",
              "      gap: 12px;\n",
              "    }\n",
              "\n",
              "    .colab-df-convert {\n",
              "      background-color: #E8F0FE;\n",
              "      border: none;\n",
              "      border-radius: 50%;\n",
              "      cursor: pointer;\n",
              "      display: none;\n",
              "      fill: #1967D2;\n",
              "      height: 32px;\n",
              "      padding: 0 0 0 0;\n",
              "      width: 32px;\n",
              "    }\n",
              "\n",
              "    .colab-df-convert:hover {\n",
              "      background-color: #E2EBFA;\n",
              "      box-shadow: 0px 1px 2px rgba(60, 64, 67, 0.3), 0px 1px 3px 1px rgba(60, 64, 67, 0.15);\n",
              "      fill: #174EA6;\n",
              "    }\n",
              "\n",
              "    [theme=dark] .colab-df-convert {\n",
              "      background-color: #3B4455;\n",
              "      fill: #D2E3FC;\n",
              "    }\n",
              "\n",
              "    [theme=dark] .colab-df-convert:hover {\n",
              "      background-color: #434B5C;\n",
              "      box-shadow: 0px 1px 3px 1px rgba(0, 0, 0, 0.15);\n",
              "      filter: drop-shadow(0px 1px 2px rgba(0, 0, 0, 0.3));\n",
              "      fill: #FFFFFF;\n",
              "    }\n",
              "  </style>\n",
              "\n",
              "      <script>\n",
              "        const buttonEl =\n",
              "          document.querySelector('#df-be8b8fda-4ae7-488c-8fdc-a85ad07177ab button.colab-df-convert');\n",
              "        buttonEl.style.display =\n",
              "          google.colab.kernel.accessAllowed ? 'block' : 'none';\n",
              "\n",
              "        async function convertToInteractive(key) {\n",
              "          const element = document.querySelector('#df-be8b8fda-4ae7-488c-8fdc-a85ad07177ab');\n",
              "          const dataTable =\n",
              "            await google.colab.kernel.invokeFunction('convertToInteractive',\n",
              "                                                     [key], {});\n",
              "          if (!dataTable) return;\n",
              "\n",
              "          const docLinkHtml = 'Like what you see? Visit the ' +\n",
              "            '<a target=\"_blank\" href=https://colab.research.google.com/notebooks/data_table.ipynb>data table notebook</a>'\n",
              "            + ' to learn more about interactive tables.';\n",
              "          element.innerHTML = '';\n",
              "          dataTable['output_type'] = 'display_data';\n",
              "          await google.colab.output.renderOutput(dataTable, element);\n",
              "          const docLink = document.createElement('div');\n",
              "          docLink.innerHTML = docLinkHtml;\n",
              "          element.appendChild(docLink);\n",
              "        }\n",
              "      </script>\n",
              "    </div>\n",
              "  </div>\n",
              "  "
            ]
          },
          "metadata": {},
          "execution_count": 18
        }
      ],
      "source": [
        "items=resp_dict['response']['items']\n",
        "items[0] #get first item\n",
        "values=[item[0]['value'] for item in items]\n",
        "rasterId=[item[1]['metadata']['raster']['id'] for item in items]\n",
        "bbox=[item[1]['metadata']['raster']['bbox'] for item in items]\n",
        "\n",
        "df=pd.DataFrame({dimension:values,\n",
        "                'rasterId':rasterId,\n",
        "                'bbox':bbox})\n",
        "df"
      ]
    },
    {
      "cell_type": "markdown",
      "id": "573eafb0",
      "metadata": {
        "id": "573eafb0"
      },
      "source": [
        "# 5. Get point timeseries<a name=\"point\"></a>"
      ]
    },
    {
      "cell_type": "markdown",
      "id": "5dafc4f8",
      "metadata": {
        "id": "5dafc4f8"
      },
      "source": [
        "In this section, we will request an average time-series of a WaPOR data layer for a point (coordinates). We will use the same *query* url but different query type *PixelTimeSeries*.\n",
        "\n",
        "Similar to the previous section, we will write a query payload with information on:\n",
        "- Coordinates of the point\n",
        "- Coordinate reference system\n",
        "- Workspace code\n",
        "- Datacube code\n",
        "- Time period\n",
        "- Measure\n",
        "- Dimension"
      ]
    },
    {
      "cell_type": "code",
      "execution_count": 19,
      "id": "381c2bb0",
      "metadata": {
        "id": "381c2bb0",
        "outputId": "4d083181-d158-4e9c-c258-7412f38d6dac",
        "colab": {
          "base_uri": "https://localhost:8080/"
        }
      },
      "outputs": [
        {
          "output_type": "stream",
          "name": "stdout",
          "text": [
            "MEASURE:  WATER_MM\n",
            "DIMENSION:  DAY\n"
          ]
        }
      ],
      "source": [
        "point= [37.95883206252312, 7.89534] #coordinates of a point\n",
        "crs=\"EPSG:4326\" #coordinate reference system\n",
        "cube_code=\"L1_PCP_E\" #Daily precipitation\n",
        "workspace='WAPOR_2'\n",
        "start_date=\"2009-01-01\"\n",
        "end_date=\"2019-01-01\"\n",
        "\n",
        "#get datacube measure\n",
        "cube_url=f'https://io.apps.fao.org/gismgr/api/v1/catalog/workspaces/{workspace}/cubes/{cube_code}/measures'\n",
        "resp=requests.get(cube_url).json()\n",
        "measure=resp['response']['items'][0]['code']\n",
        "print('MEASURE: ',measure)\n",
        "\n",
        "#get datacube time dimension\n",
        "cube_url=f'https://io.apps.fao.org/gismgr/api/v1/catalog/workspaces/{workspace}/cubes/{cube_code}/dimensions'\n",
        "resp=requests.get(cube_url).json()\n",
        "items=pd.DataFrame.from_dict(resp['response']['items'])\n",
        "dimension=items[items.type=='TIME']['code'].values[0]\n",
        "print('DIMENSION: ',dimension)"
      ]
    },
    {
      "cell_type": "markdown",
      "id": "bc083c47",
      "metadata": {
        "id": "bc083c47"
      },
      "source": [
        "Now we will write these parameters in a query payload:"
      ]
    },
    {
      "cell_type": "code",
      "execution_count": 20,
      "id": "0f07ed43",
      "metadata": {
        "id": "0f07ed43",
        "outputId": "45f7cbc0-0fcb-45ae-fa48-5dc8499137e1",
        "colab": {
          "base_uri": "https://localhost:8080/"
        }
      },
      "outputs": [
        {
          "output_type": "execute_result",
          "data": {
            "text/plain": [
              "{'type': 'PixelTimeSeries',\n",
              " 'params': {'cube': {'code': 'L1_PCP_E',\n",
              "   'workspaceCode': 'WAPOR_2',\n",
              "   'language': 'en'},\n",
              "  'dimensions': [{'code': 'DAY', 'range': '[2009-01-01,2019-01-01)'}],\n",
              "  'measures': ['WATER_MM'],\n",
              "  'point': {'crs': 'EPSG:4326', 'x': 37.95883206252312, 'y': 7.89534}}}"
            ]
          },
          "metadata": {},
          "execution_count": 20
        }
      ],
      "source": [
        "query_pixeltimeseries={\n",
        "  \"type\": \"PixelTimeSeries\",\n",
        "  \"params\": {\n",
        "    \"cube\": {\n",
        "      \"code\": cube_code,\n",
        "      \"workspaceCode\": workspace,\n",
        "      \"language\": \"en\"\n",
        "    },\n",
        "    \"dimensions\": [\n",
        "      {\n",
        "        \"code\": dimension,\n",
        "        \"range\": f\"[{start_date},{end_date})\"\n",
        "      }\n",
        "    ],\n",
        "    \"measures\": [\n",
        "      measure\n",
        "    ],\n",
        "    \"point\": {\n",
        "      \"crs\": crs, #latlon projection\n",
        "      \"x\":point[0],\n",
        "        \"y\":point[1]\n",
        "    }\n",
        "  }\n",
        "}\n",
        "\n",
        "query_pixeltimeseries"
      ]
    },
    {
      "cell_type": "markdown",
      "id": "b4e29e36",
      "metadata": {
        "id": "b4e29e36"
      },
      "source": [
        "Now, we can send this query payload using POST method. This step might take some time for the server to respond."
      ]
    },
    {
      "cell_type": "code",
      "execution_count": 21,
      "id": "5a68e65d",
      "metadata": {
        "id": "5a68e65d",
        "outputId": "6aa369a1-d5d4-49ea-9bf1-06810c5e4efa",
        "colab": {
          "base_uri": "https://localhost:8080/"
        }
      },
      "outputs": [
        {
          "output_type": "execute_result",
          "data": {
            "text/plain": [
              "{'requestId': '6cb22b12-3226-48fa-9171-4615a937b088',\n",
              " 'timestamp': 1687808385181,\n",
              " 'runtime': 251644,\n",
              " 'status': 200,\n",
              " 'message': 'OK',\n",
              " 'response': {'header': ['day', 'value'],\n",
              "  'items': [['2009-01-01', 0.0],\n",
              "   ['2009-01-02', 0.0],\n",
              "   ['2009-01-03', 0.0],\n",
              "   ['2009-01-04', 0.0],\n",
              "   ['2009-01-05', 0.0],\n",
              "   ['2009-01-06', 0.0],\n",
              "   ['2009-01-07', 0.0],\n",
              "   ['2009-01-08', 0.0],\n",
              "   ['2009-01-09', 0.0],\n",
              "   ['2009-01-10', 0.0],\n",
              "   ['2009-01-11', 0.0],\n",
              "   ['2009-01-12', 0.0],\n",
              "   ['2009-01-13', 0.0],\n",
              "   ['2009-01-14', 0.0],\n",
              "   ['2009-01-15', 0.0],\n",
              "   ['2009-01-16', 0.0],\n",
              "   ['2009-01-17', 0.0],\n",
              "   ['2009-01-18', 0.0],\n",
              "   ['2009-01-19', 0.0],\n",
              "   ['2009-01-20', 0.0],\n",
              "   ['2009-01-21', 0.0],\n",
              "   ['2009-01-22', 0.0],\n",
              "   ['2009-01-23', 24.0],\n",
              "   ['2009-01-24', 12.0],\n",
              "   ['2009-01-25', 24.0],\n",
              "   ['2009-01-26', 0.0],\n",
              "   ['2009-01-27', 0.0],\n",
              "   ['2009-01-28', 0.0],\n",
              "   ['2009-01-29', 0.0],\n",
              "   ['2009-01-30', 0.0],\n",
              "   ['2009-01-31', 0.0],\n",
              "   ['2009-02-01', 0.0],\n",
              "   ['2009-02-02', 0.0],\n",
              "   ['2009-02-03', 0.0],\n",
              "   ['2009-02-04', 0.0],\n",
              "   ['2009-02-05', 0.0],\n",
              "   ['2009-02-06', 0.0],\n",
              "   ['2009-02-07', 5.1000000000000005],\n",
              "   ['2009-02-08', 0.0],\n",
              "   ['2009-02-09', 0.0],\n",
              "   ['2009-02-10', 0.0],\n",
              "   ['2009-02-11', 0.0],\n",
              "   ['2009-02-12', 6.800000000000001],\n",
              "   ['2009-02-13', 0.0],\n",
              "   ['2009-02-14', 0.0],\n",
              "   ['2009-02-15', 0.0],\n",
              "   ['2009-02-16', 8.6],\n",
              "   ['2009-02-17', 0.0],\n",
              "   ['2009-02-18', 0.0],\n",
              "   ['2009-02-19', 0.0],\n",
              "   ['2009-02-20', 0.0],\n",
              "   ['2009-02-21', 0.0],\n",
              "   ['2009-02-22', 0.0],\n",
              "   ['2009-02-23', 0.0],\n",
              "   ['2009-02-24', 0.0],\n",
              "   ['2009-02-25', 0.0],\n",
              "   ['2009-02-26', 0.0],\n",
              "   ['2009-02-27', 0.0],\n",
              "   ['2009-02-28', 0.0],\n",
              "   ['2009-03-01', 0.0],\n",
              "   ['2009-03-02', 0.0],\n",
              "   ['2009-03-03', 0.0],\n",
              "   ['2009-03-04', 0.0],\n",
              "   ['2009-03-05', 0.0],\n",
              "   ['2009-03-06', 0.0],\n",
              "   ['2009-03-07', 0.0],\n",
              "   ['2009-03-08', 0.0],\n",
              "   ['2009-03-09', 0.0],\n",
              "   ['2009-03-10', 0.0],\n",
              "   ['2009-03-11', 0.0],\n",
              "   ['2009-03-12', 0.0],\n",
              "   ['2009-03-13', 0.0],\n",
              "   ['2009-03-14', 0.0],\n",
              "   ['2009-03-15', 0.0],\n",
              "   ['2009-03-16', 0.0],\n",
              "   ['2009-03-17', 0.0],\n",
              "   ['2009-03-18', 0.0],\n",
              "   ['2009-03-19', 0.0],\n",
              "   ['2009-03-20', 0.0],\n",
              "   ['2009-03-21', 0.0],\n",
              "   ['2009-03-22', 0.0],\n",
              "   ['2009-03-23', 0.0],\n",
              "   ['2009-03-24', 0.0],\n",
              "   ['2009-03-25', 0.0],\n",
              "   ['2009-03-26', 0.0],\n",
              "   ['2009-03-27', 0.0],\n",
              "   ['2009-03-28', 42.0],\n",
              "   ['2009-03-29', 0.0],\n",
              "   ['2009-03-30', 42.0],\n",
              "   ['2009-03-31', 0.0],\n",
              "   ['2009-04-01', 0.0],\n",
              "   ['2009-04-02', 0.0],\n",
              "   ['2009-04-03', 0.0],\n",
              "   ['2009-04-04', 0.0],\n",
              "   ['2009-04-05', 0.0],\n",
              "   ['2009-04-06', 0.0],\n",
              "   ['2009-04-07', 0.0],\n",
              "   ['2009-04-08', 11.3],\n",
              "   ['2009-04-09', 22.5],\n",
              "   ['2009-04-10', 11.3],\n",
              "   ['2009-04-11', 0.0],\n",
              "   ['2009-04-12', 0.0],\n",
              "   ['2009-04-13', 0.0],\n",
              "   ['2009-04-14', 0.0],\n",
              "   ['2009-04-15', 0.0],\n",
              "   ['2009-04-16', 7.5],\n",
              "   ['2009-04-17', 14.9],\n",
              "   ['2009-04-18', 0.0],\n",
              "   ['2009-04-19', 0.0],\n",
              "   ['2009-04-20', 0.0],\n",
              "   ['2009-04-21', 0.0],\n",
              "   ['2009-04-22', 0.0],\n",
              "   ['2009-04-23', 0.0],\n",
              "   ['2009-04-24', 0.0],\n",
              "   ['2009-04-25', 0.0],\n",
              "   ['2009-04-26', 0.0],\n",
              "   ['2009-04-27', 0.0],\n",
              "   ['2009-04-28', 0.0],\n",
              "   ['2009-04-29', 24.8],\n",
              "   ['2009-04-30', 0.0],\n",
              "   ['2009-05-01', 0.0],\n",
              "   ['2009-05-02', 0.0],\n",
              "   ['2009-05-03', 0.0],\n",
              "   ['2009-05-04', 0.0],\n",
              "   ['2009-05-05', 0.0],\n",
              "   ['2009-05-06', 0.0],\n",
              "   ['2009-05-07', 0.0],\n",
              "   ['2009-05-08', 0.0],\n",
              "   ['2009-05-09', 0.0],\n",
              "   ['2009-05-10', 0.0],\n",
              "   ['2009-05-11', 0.0],\n",
              "   ['2009-05-12', 8.8],\n",
              "   ['2009-05-13', 26.400000000000002],\n",
              "   ['2009-05-14', 26.400000000000002],\n",
              "   ['2009-05-15', 17.6],\n",
              "   ['2009-05-16', 0.0],\n",
              "   ['2009-05-17', 4.6000000000000005],\n",
              "   ['2009-05-18', 0.0],\n",
              "   ['2009-05-19', 0.0],\n",
              "   ['2009-05-20', 0.0],\n",
              "   ['2009-05-21', 0.0],\n",
              "   ['2009-05-22', 0.0],\n",
              "   ['2009-05-23', 0.0],\n",
              "   ['2009-05-24', 0.0],\n",
              "   ['2009-05-25', 0.0],\n",
              "   ['2009-05-26', 0.0],\n",
              "   ['2009-05-27', 0.0],\n",
              "   ['2009-05-28', 0.0],\n",
              "   ['2009-05-29', 0.0],\n",
              "   ['2009-05-30', 0.0],\n",
              "   ['2009-05-31', 0.0],\n",
              "   ['2009-06-01', 0.0],\n",
              "   ['2009-06-02', 0.0],\n",
              "   ['2009-06-03', 0.0],\n",
              "   ['2009-06-04', 0.0],\n",
              "   ['2009-06-05', 0.0],\n",
              "   ['2009-06-06', 0.0],\n",
              "   ['2009-06-07', 28.3],\n",
              "   ['2009-06-08', 0.0],\n",
              "   ['2009-06-09', 0.0],\n",
              "   ['2009-06-10', 0.0],\n",
              "   ['2009-06-11', 0.0],\n",
              "   ['2009-06-12', 0.0],\n",
              "   ['2009-06-13', 0.0],\n",
              "   ['2009-06-14', 15.100000000000001],\n",
              "   ['2009-06-15', 22.6],\n",
              "   ['2009-06-16', 0.0],\n",
              "   ['2009-06-17', 26.1],\n",
              "   ['2009-06-18', 26.1],\n",
              "   ['2009-06-19', 0.0],\n",
              "   ['2009-06-20', 0.0],\n",
              "   ['2009-06-21', 0.0],\n",
              "   ['2009-06-22', 0.0],\n",
              "   ['2009-06-23', 0.0],\n",
              "   ['2009-06-24', 0.0],\n",
              "   ['2009-06-25', 19.400000000000002],\n",
              "   ['2009-06-26', 0.0],\n",
              "   ['2009-06-27', 8.1],\n",
              "   ['2009-06-28', 0.0],\n",
              "   ['2009-06-29', 8.1],\n",
              "   ['2009-06-30', 0.0],\n",
              "   ['2009-07-01', 0.0],\n",
              "   ['2009-07-02', 0.0],\n",
              "   ['2009-07-03', 0.0],\n",
              "   ['2009-07-04', 0.0],\n",
              "   ['2009-07-05', 0.0],\n",
              "   ['2009-07-06', 0.0],\n",
              "   ['2009-07-07', 35.2],\n",
              "   ['2009-07-08', 0.0],\n",
              "   ['2009-07-09', 0.0],\n",
              "   ['2009-07-10', 0.0],\n",
              "   ['2009-07-11', 0.0],\n",
              "   ['2009-07-12', 0.0],\n",
              "   ['2009-07-13', 27.5],\n",
              "   ['2009-07-14', 13.8],\n",
              "   ['2009-07-15', 13.8],\n",
              "   ['2009-07-16', 37.5],\n",
              "   ['2009-07-17', 0.0],\n",
              "   ['2009-07-18', 0.0],\n",
              "   ['2009-07-19', 0.0],\n",
              "   ['2009-07-20', 0.0],\n",
              "   ['2009-07-21', 13.200000000000001],\n",
              "   ['2009-07-22', 13.200000000000001],\n",
              "   ['2009-07-23', 0.0],\n",
              "   ['2009-07-24', 0.0],\n",
              "   ['2009-07-25', 13.200000000000001],\n",
              "   ['2009-07-26', 0.0],\n",
              "   ['2009-07-27', 0.0],\n",
              "   ['2009-07-28', 0.0],\n",
              "   ['2009-07-29', 0.0],\n",
              "   ['2009-07-30', 0.0],\n",
              "   ['2009-07-31', 45.7],\n",
              "   ['2009-08-01', 0.0],\n",
              "   ['2009-08-02', 37.0],\n",
              "   ['2009-08-03', 0.0],\n",
              "   ['2009-08-04', 0.0],\n",
              "   ['2009-08-05', 0.0],\n",
              "   ['2009-08-06', 0.0],\n",
              "   ['2009-08-07', 0.0],\n",
              "   ['2009-08-08', 35.300000000000004],\n",
              "   ['2009-08-09', 0.0],\n",
              "   ['2009-08-10', 0.0],\n",
              "   ['2009-08-11', 0.0],\n",
              "   ['2009-08-12', 0.0],\n",
              "   ['2009-08-13', 15.3],\n",
              "   ['2009-08-14', 34.9],\n",
              "   ['2009-08-15', 0.0],\n",
              "   ['2009-08-16', 0.0],\n",
              "   ['2009-08-17', 0.0],\n",
              "   ['2009-08-18', 0.0],\n",
              "   ['2009-08-19', 0.0],\n",
              "   ['2009-08-20', 24.8],\n",
              "   ['2009-08-21', 54.2],\n",
              "   ['2009-08-22', 0.0],\n",
              "   ['2009-08-23', 0.0],\n",
              "   ['2009-08-24', 0.0],\n",
              "   ['2009-08-25', 0.0],\n",
              "   ['2009-08-26', 0.0],\n",
              "   ['2009-08-27', 0.0],\n",
              "   ['2009-08-28', 0.0],\n",
              "   ['2009-08-29', 0.0],\n",
              "   ['2009-08-30', 0.0],\n",
              "   ['2009-08-31', 0.0],\n",
              "   ['2009-09-01', 0.0],\n",
              "   ['2009-09-02', 0.0],\n",
              "   ['2009-09-03', 0.0],\n",
              "   ['2009-09-04', 0.0],\n",
              "   ['2009-09-05', 0.0],\n",
              "   ['2009-09-06', 80.5],\n",
              "   ['2009-09-07', 0.0],\n",
              "   ['2009-09-08', 0.0],\n",
              "   ['2009-09-09', 0.0],\n",
              "   ['2009-09-10', 0.0],\n",
              "   ['2009-09-11', 0.0],\n",
              "   ['2009-09-12', 0.0],\n",
              "   ['2009-09-13', 0.0],\n",
              "   ['2009-09-14', 0.0],\n",
              "   ['2009-09-15', 0.0],\n",
              "   ['2009-09-16', 0.0],\n",
              "   ['2009-09-17', 0.0],\n",
              "   ['2009-09-18', 0.0],\n",
              "   ['2009-09-19', 0.0],\n",
              "   ['2009-09-20', 0.0],\n",
              "   ['2009-09-21', 0.0],\n",
              "   ['2009-09-22', 0.0],\n",
              "   ['2009-09-23', 0.0],\n",
              "   ['2009-09-24', 60.1],\n",
              "   ['2009-09-25', 0.0],\n",
              "   ['2009-09-26', 0.0],\n",
              "   ['2009-09-27', 0.0],\n",
              "   ['2009-09-28', 0.0],\n",
              "   ['2009-09-29', 0.0],\n",
              "   ['2009-09-30', 0.0],\n",
              "   ['2009-10-01', 0.0],\n",
              "   ['2009-10-02', 0.0],\n",
              "   ['2009-10-03', 0.0],\n",
              "   ['2009-10-04', 0.0],\n",
              "   ['2009-10-05', 0.0],\n",
              "   ['2009-10-06', 0.0],\n",
              "   ['2009-10-07', 0.0],\n",
              "   ['2009-10-08', 21.900000000000002],\n",
              "   ['2009-10-09', 0.0],\n",
              "   ['2009-10-10', 21.900000000000002],\n",
              "   ['2009-10-11', 61.300000000000004],\n",
              "   ['2009-10-12', 30.700000000000003],\n",
              "   ['2009-10-13', 30.700000000000003],\n",
              "   ['2009-10-14', 0.0],\n",
              "   ['2009-10-15', 0.0],\n",
              "   ['2009-10-16', 0.0],\n",
              "   ['2009-10-17', 0.0],\n",
              "   ['2009-10-18', 0.0],\n",
              "   ['2009-10-19', 0.0],\n",
              "   ['2009-10-20', 0.0],\n",
              "   ['2009-10-21', 0.0],\n",
              "   ['2009-10-22', 0.0],\n",
              "   ['2009-10-23', 0.0],\n",
              "   ['2009-10-24', 0.0],\n",
              "   ['2009-10-25', 0.0],\n",
              "   ['2009-10-26', 0.0],\n",
              "   ['2009-10-27', 0.0],\n",
              "   ['2009-10-28', 0.0],\n",
              "   ['2009-10-29', 0.0],\n",
              "   ['2009-10-30', 0.0],\n",
              "   ['2009-10-31', 0.0],\n",
              "   ['2009-11-01', 0.0],\n",
              "   ['2009-11-02', 0.0],\n",
              "   ['2009-11-03', 5.5],\n",
              "   ['2009-11-04', 0.0],\n",
              "   ['2009-11-05', 0.0],\n",
              "   ['2009-11-06', 0.0],\n",
              "   ['2009-11-07', 0.0],\n",
              "   ['2009-11-08', 0.0],\n",
              "   ['2009-11-09', 0.0],\n",
              "   ['2009-11-10', 0.0],\n",
              "   ['2009-11-11', 0.0],\n",
              "   ['2009-11-12', 0.0],\n",
              "   ['2009-11-13', 0.0],\n",
              "   ['2009-11-14', 0.0],\n",
              "   ['2009-11-15', 0.0],\n",
              "   ['2009-11-16', 0.0],\n",
              "   ['2009-11-17', 0.0],\n",
              "   ['2009-11-18', 0.0],\n",
              "   ['2009-11-19', 0.0],\n",
              "   ['2009-11-20', 0.0],\n",
              "   ['2009-11-21', 0.0],\n",
              "   ['2009-11-22', 0.0],\n",
              "   ['2009-11-23', 0.0],\n",
              "   ['2009-11-24', 0.0],\n",
              "   ['2009-11-25', 0.0],\n",
              "   ['2009-11-26', 0.0],\n",
              "   ['2009-11-27', 0.0],\n",
              "   ['2009-11-28', 3.0],\n",
              "   ['2009-11-29', 0.0],\n",
              "   ['2009-11-30', 0.0],\n",
              "   ['2009-12-01', 0.0],\n",
              "   ['2009-12-02', 0.0],\n",
              "   ['2009-12-03', 0.0],\n",
              "   ['2009-12-04', 0.0],\n",
              "   ['2009-12-05', 0.0],\n",
              "   ['2009-12-06', 0.0],\n",
              "   ['2009-12-07', 0.0],\n",
              "   ['2009-12-08', 0.0],\n",
              "   ['2009-12-09', 0.0],\n",
              "   ['2009-12-10', 20.200000000000003],\n",
              "   ['2009-12-11', 8.5],\n",
              "   ['2009-12-12', 8.5],\n",
              "   ['2009-12-13', 0.0],\n",
              "   ['2009-12-14', 8.5],\n",
              "   ['2009-12-15', 0.0],\n",
              "   ['2009-12-16', 0.0],\n",
              "   ['2009-12-17', 0.0],\n",
              "   ['2009-12-18', 0.0],\n",
              "   ['2009-12-19', 0.0],\n",
              "   ['2009-12-20', 0.0],\n",
              "   ['2009-12-21', 0.0],\n",
              "   ['2009-12-22', 0.0],\n",
              "   ['2009-12-23', 0.0],\n",
              "   ['2009-12-24', 0.0],\n",
              "   ['2009-12-25', 0.0],\n",
              "   ['2009-12-26', 0.0],\n",
              "   ['2009-12-27', 0.0],\n",
              "   ['2009-12-28', 0.0],\n",
              "   ['2009-12-29', 0.0],\n",
              "   ['2009-12-30', 0.0],\n",
              "   ['2009-12-31', 0.0],\n",
              "   ['2010-01-01', 0.0],\n",
              "   ['2010-01-02', 8.1],\n",
              "   ['2010-01-03', 6.0],\n",
              "   ['2010-01-04', 0.0],\n",
              "   ['2010-01-05', 0.0],\n",
              "   ['2010-01-06', 0.0],\n",
              "   ['2010-01-07', 0.0],\n",
              "   ['2010-01-08', 0.0],\n",
              "   ['2010-01-09', 0.0],\n",
              "   ['2010-01-10', 0.0],\n",
              "   ['2010-01-11', 0.0],\n",
              "   ['2010-01-12', 0.0],\n",
              "   ['2010-01-13', 0.0],\n",
              "   ['2010-01-14', 0.0],\n",
              "   ['2010-01-15', 0.0],\n",
              "   ['2010-01-16', 0.0],\n",
              "   ['2010-01-17', 0.0],\n",
              "   ['2010-01-18', 0.0],\n",
              "   ['2010-01-19', 9.200000000000001],\n",
              "   ['2010-01-20', 0.0],\n",
              "   ['2010-01-21', 0.0],\n",
              "   ['2010-01-22', 0.0],\n",
              "   ['2010-01-23', 0.0],\n",
              "   ['2010-01-24', 0.0],\n",
              "   ['2010-01-25', 0.0],\n",
              "   ['2010-01-26', 0.0],\n",
              "   ['2010-01-27', 0.0],\n",
              "   ['2010-01-28', 0.0],\n",
              "   ['2010-01-29', 6.1000000000000005],\n",
              "   ['2010-01-30', 0.0],\n",
              "   ['2010-01-31', 0.0],\n",
              "   ['2010-02-01', 0.0],\n",
              "   ['2010-02-02', 0.0],\n",
              "   ['2010-02-03', 0.0],\n",
              "   ['2010-02-04', 0.0],\n",
              "   ['2010-02-05', 0.0],\n",
              "   ['2010-02-06', 0.0],\n",
              "   ['2010-02-07', 7.2],\n",
              "   ['2010-02-08', 0.0],\n",
              "   ['2010-02-09', 0.0],\n",
              "   ['2010-02-10', 0.0],\n",
              "   ['2010-02-11', 6.800000000000001],\n",
              "   ['2010-02-12', 0.0],\n",
              "   ['2010-02-13', 0.0],\n",
              "   ['2010-02-14', 6.800000000000001],\n",
              "   ['2010-02-15', 0.0],\n",
              "   ['2010-02-16', 0.0],\n",
              "   ['2010-02-17', 8.200000000000001],\n",
              "   ['2010-02-18', 0.0],\n",
              "   ['2010-02-19', 0.0],\n",
              "   ['2010-02-20', 0.0],\n",
              "   ['2010-02-21', 0.0],\n",
              "   ['2010-02-22', 0.0],\n",
              "   ['2010-02-23', 0.0],\n",
              "   ['2010-02-24', 0.0],\n",
              "   ['2010-02-25', 21.1],\n",
              "   ['2010-02-26', 0.0],\n",
              "   ['2010-02-27', 8.3],\n",
              "   ['2010-02-28', 6.300000000000001],\n",
              "   ['2010-03-01', 0.0],\n",
              "   ['2010-03-02', 0.0],\n",
              "   ['2010-03-03', 0.0],\n",
              "   ['2010-03-04', 0.0],\n",
              "   ['2010-03-05', 0.0],\n",
              "   ['2010-03-06', 0.0],\n",
              "   ['2010-03-07', 0.0],\n",
              "   ['2010-03-08', 0.0],\n",
              "   ['2010-03-09', 0.0],\n",
              "   ['2010-03-10', 0.0],\n",
              "   ['2010-03-11', 0.0],\n",
              "   ['2010-03-12', 0.0],\n",
              "   ['2010-03-13', 0.0],\n",
              "   ['2010-03-14', 0.0],\n",
              "   ['2010-03-15', 0.0],\n",
              "   ['2010-03-16', 0.0],\n",
              "   ['2010-03-17', 0.0],\n",
              "   ['2010-03-18', 37.800000000000004],\n",
              "   ['2010-03-19', 0.0],\n",
              "   ['2010-03-20', 0.0],\n",
              "   ['2010-03-21', 0.0],\n",
              "   ['2010-03-22', 0.0],\n",
              "   ['2010-03-23', 0.0],\n",
              "   ['2010-03-24', 0.0],\n",
              "   ['2010-03-25', 0.0],\n",
              "   ['2010-03-26', 26.8],\n",
              "   ['2010-03-27', 0.0],\n",
              "   ['2010-03-28', 26.8],\n",
              "   ['2010-03-29', 0.0],\n",
              "   ['2010-03-30', 0.0],\n",
              "   ['2010-03-31', 0.0],\n",
              "   ['2010-04-01', 0.0],\n",
              "   ['2010-04-02', 0.0],\n",
              "   ['2010-04-03', 0.0],\n",
              "   ['2010-04-04', 0.0],\n",
              "   ['2010-04-05', 0.0],\n",
              "   ['2010-04-06', 0.0],\n",
              "   ['2010-04-07', 0.0],\n",
              "   ['2010-04-08', 0.0],\n",
              "   ['2010-04-09', 0.0],\n",
              "   ['2010-04-10', 0.0],\n",
              "   ['2010-04-11', 11.600000000000001],\n",
              "   ['2010-04-12', 23.1],\n",
              "   ['2010-04-13', 11.600000000000001],\n",
              "   ['2010-04-14', 0.0],\n",
              "   ['2010-04-15', 0.0],\n",
              "   ['2010-04-16', 0.0],\n",
              "   ['2010-04-17', 0.0],\n",
              "   ['2010-04-18', 18.5],\n",
              "   ['2010-04-19', 18.5],\n",
              "   ['2010-04-20', 18.5],\n",
              "   ['2010-04-21', 10.9],\n",
              "   ['2010-04-22', 0.0],\n",
              "   ['2010-04-23', 0.0],\n",
              "   ['2010-04-24', 0.0],\n",
              "   ['2010-04-25', 0.0],\n",
              "   ['2010-04-26', 4.2],\n",
              "   ['2010-04-27', 0.0],\n",
              "   ['2010-04-28', 4.2],\n",
              "   ['2010-04-29', 4.2],\n",
              "   ['2010-04-30', 0.0],\n",
              "   ['2010-05-01', 10.9],\n",
              "   ['2010-05-02', 0.0],\n",
              "   ['2010-05-03', 0.0],\n",
              "   ['2010-05-04', 10.9],\n",
              "   ['2010-05-05', 10.9],\n",
              "   ['2010-05-06', 15.8],\n",
              "   ['2010-05-07', 7.9],\n",
              "   ['2010-05-08', 7.9],\n",
              "   ['2010-05-09', 0.0],\n",
              "   ['2010-05-10', 7.9],\n",
              "   ['2010-05-11', 0.0],\n",
              "   ['2010-05-12', 0.0],\n",
              "   ['2010-05-13', 0.0],\n",
              "   ['2010-05-14', 0.0],\n",
              "   ['2010-05-15', 0.0],\n",
              "   ['2010-05-16', 0.0],\n",
              "   ['2010-05-17', 0.0],\n",
              "   ['2010-05-18', 19.3],\n",
              "   ['2010-05-19', 19.3],\n",
              "   ['2010-05-20', 0.0],\n",
              "   ['2010-05-21', 0.0],\n",
              "   ['2010-05-22', 7.300000000000001],\n",
              "   ['2010-05-23', 7.300000000000001],\n",
              "   ['2010-05-24', 7.300000000000001],\n",
              "   ['2010-05-25', 0.0],\n",
              "   ['2010-05-26', 0.0],\n",
              "   ['2010-05-27', 0.0],\n",
              "   ['2010-05-28', 0.0],\n",
              "   ['2010-05-29', 28.0],\n",
              "   ['2010-05-30', 0.0],\n",
              "   ['2010-05-31', 0.0],\n",
              "   ['2010-06-01', 0.0],\n",
              "   ['2010-06-02', 0.0],\n",
              "   ['2010-06-03', 7.9],\n",
              "   ['2010-06-04', 0.0],\n",
              "   ['2010-06-05', 7.9],\n",
              "   ['2010-06-06', 0.0],\n",
              "   ['2010-06-07', 0.0],\n",
              "   ['2010-06-08', 12.3],\n",
              "   ['2010-06-09', 12.3],\n",
              "   ['2010-06-10', 24.700000000000003],\n",
              "   ['2010-06-11', 8.0],\n",
              "   ['2010-06-12', 16.1],\n",
              "   ['2010-06-13', 8.0],\n",
              "   ['2010-06-14', 0.0],\n",
              "   ['2010-06-15', 0.0],\n",
              "   ['2010-06-16', 10.8],\n",
              "   ['2010-06-17', 0.0],\n",
              "   ['2010-06-18', 10.8],\n",
              "   ['2010-06-19', 0.0],\n",
              "   ['2010-06-20', 21.6],\n",
              "   ['2010-06-21', 14.100000000000001],\n",
              "   ['2010-06-22', 0.0],\n",
              "   ['2010-06-23', 0.0],\n",
              "   ['2010-06-24', 14.100000000000001],\n",
              "   ['2010-06-25', 0.0],\n",
              "   ['2010-06-26', 0.0],\n",
              "   ['2010-06-27', 0.0],\n",
              "   ['2010-06-28', 0.0],\n",
              "   ['2010-06-29', 0.0],\n",
              "   ['2010-06-30', 0.0],\n",
              "   ['2010-07-01', 0.0],\n",
              "   ['2010-07-02', 21.400000000000002],\n",
              "   ['2010-07-03', 0.0],\n",
              "   ['2010-07-04', 21.400000000000002],\n",
              "   ['2010-07-05', 0.0],\n",
              "   ['2010-07-06', 0.0],\n",
              "   ['2010-07-07', 0.0],\n",
              "   ['2010-07-08', 0.0],\n",
              "   ['2010-07-09', 0.0],\n",
              "   ['2010-07-10', 0.0],\n",
              "   ['2010-07-11', 0.0],\n",
              "   ['2010-07-12', 0.0],\n",
              "   ['2010-07-13', 0.0],\n",
              "   ['2010-07-14', 0.0],\n",
              "   ['2010-07-15', 0.0],\n",
              "   ['2010-07-16', 0.0],\n",
              "   ['2010-07-17', 0.0],\n",
              "   ['2010-07-18', 0.0],\n",
              "   ['2010-07-19', 0.0],\n",
              "   ['2010-07-20', 30.0],\n",
              "   ['2010-07-21', 0.0],\n",
              "   ['2010-07-22', 0.0],\n",
              "   ['2010-07-23', 44.2],\n",
              "   ['2010-07-24', 0.0],\n",
              "   ['2010-07-25', 66.4],\n",
              "   ['2010-07-26', 0.0],\n",
              "   ['2010-07-27', 0.0],\n",
              "   ['2010-07-28', 22.8],\n",
              "   ['2010-07-29', 0.0],\n",
              "   ['2010-07-30', 22.8],\n",
              "   ['2010-07-31', 0.0],\n",
              "   ['2010-08-01', 0.0],\n",
              "   ['2010-08-02', 0.0],\n",
              "   ['2010-08-03', 0.0],\n",
              "   ['2010-08-04', 0.0],\n",
              "   ['2010-08-05', 18.7],\n",
              "   ['2010-08-06', 28.5],\n",
              "   ['2010-08-07', 0.0],\n",
              "   ['2010-08-08', 0.0],\n",
              "   ['2010-08-09', 0.0],\n",
              "   ['2010-08-10', 0.0],\n",
              "   ['2010-08-11', 0.0],\n",
              "   ['2010-08-12', 0.0],\n",
              "   ['2010-08-13', 0.0],\n",
              "   ['2010-08-14', 0.0],\n",
              "   ['2010-08-15', 31.5],\n",
              "   ['2010-08-16', 11.200000000000001],\n",
              "   ['2010-08-17', 22.400000000000002],\n",
              "   ['2010-08-18', 0.0],\n",
              "   ['2010-08-19', 0.0],\n",
              "   ['2010-08-20', 0.0],\n",
              "   ['2010-08-21', 0.0],\n",
              "   ['2010-08-22', 16.900000000000002],\n",
              "   ['2010-08-23', 0.0],\n",
              "   ['2010-08-24', 16.900000000000002],\n",
              "   ['2010-08-25', 33.7],\n",
              "   ['2010-08-26', 29.8],\n",
              "   ['2010-08-27', 29.8],\n",
              "   ['2010-08-28', 0.0],\n",
              "   ['2010-08-29', 0.0],\n",
              "   ['2010-08-30', 0.0],\n",
              "   ['2010-08-31', 19.900000000000002],\n",
              "   ['2010-09-01', 0.0],\n",
              "   ['2010-09-02', 0.0],\n",
              "   ['2010-09-03', 0.0],\n",
              "   ['2010-09-04', 0.0],\n",
              "   ['2010-09-05', 46.900000000000006],\n",
              "   ['2010-09-06', 0.0],\n",
              "   ['2010-09-07', 0.0],\n",
              "   ['2010-09-08', 0.0],\n",
              "   ['2010-09-09', 0.0],\n",
              "   ['2010-09-10', 61.1],\n",
              "   ['2010-09-11', 38.400000000000006],\n",
              "   ['2010-09-12', 19.200000000000003],\n",
              "   ['2010-09-13', 19.200000000000003],\n",
              "   ['2010-09-14', 0.0],\n",
              "   ['2010-09-15', 0.0],\n",
              "   ['2010-09-16', 0.0],\n",
              "   ['2010-09-17', 0.0],\n",
              "   ['2010-09-18', 0.0],\n",
              "   ['2010-09-19', 0.0],\n",
              "   ['2010-09-20', 0.0],\n",
              "   ['2010-09-21', 0.0],\n",
              "   ['2010-09-22', 0.0],\n",
              "   ['2010-09-23', 0.0],\n",
              "   ['2010-09-24', 24.5],\n",
              "   ['2010-09-25', 0.0],\n",
              "   ['2010-09-26', 0.0],\n",
              "   ['2010-09-27', 0.0],\n",
              "   ['2010-09-28', 0.0],\n",
              "   ['2010-09-29', 0.0],\n",
              "   ['2010-09-30', 0.0],\n",
              "   ['2010-10-01', 0.0],\n",
              "   ['2010-10-02', 0.0],\n",
              "   ['2010-10-03', 0.0],\n",
              "   ['2010-10-04', 0.0],\n",
              "   ['2010-10-05', 0.0],\n",
              "   ['2010-10-06', 0.0],\n",
              "   ['2010-10-07', 0.0],\n",
              "   ['2010-10-08', 4.9],\n",
              "   ['2010-10-09', 0.0],\n",
              "   ['2010-10-10', 0.0],\n",
              "   ['2010-10-11', 0.0],\n",
              "   ['2010-10-12', 0.0],\n",
              "   ['2010-10-13', 0.0],\n",
              "   ['2010-10-14', 0.0],\n",
              "   ['2010-10-15', 0.0],\n",
              "   ['2010-10-16', 0.0],\n",
              "   ['2010-10-17', 0.0],\n",
              "   ['2010-10-18', 9.600000000000001],\n",
              "   ['2010-10-19', 0.0],\n",
              "   ['2010-10-20', 0.0],\n",
              "   ['2010-10-21', 0.0],\n",
              "   ['2010-10-22', 0.0],\n",
              "   ['2010-10-23', 0.0],\n",
              "   ['2010-10-24', 5.1000000000000005],\n",
              "   ['2010-10-25', 0.0],\n",
              "   ['2010-10-26', 0.0],\n",
              "   ['2010-10-27', 0.0],\n",
              "   ['2010-10-28', 0.0],\n",
              "   ['2010-10-29', 0.0],\n",
              "   ['2010-10-30', 0.0],\n",
              "   ['2010-10-31', 0.0],\n",
              "   ['2010-11-01', 0.0],\n",
              "   ['2010-11-02', 0.0],\n",
              "   ['2010-11-03', 0.0],\n",
              "   ['2010-11-04', 0.0],\n",
              "   ['2010-11-05', 0.0],\n",
              "   ['2010-11-06', 0.0],\n",
              "   ['2010-11-07', 0.0],\n",
              "   ['2010-11-08', 0.0],\n",
              "   ['2010-11-09', 0.0],\n",
              "   ['2010-11-10', 0.0],\n",
              "   ['2010-11-11', 0.0],\n",
              "   ['2010-11-12', 0.0],\n",
              "   ['2010-11-13', 8.700000000000001],\n",
              "   ['2010-11-14', 0.0],\n",
              "   ['2010-11-15', 0.0],\n",
              "   ['2010-11-16', 0.0],\n",
              "   ['2010-11-17', 0.0],\n",
              "   ['2010-11-18', 0.0],\n",
              "   ['2010-11-19', 0.0],\n",
              "   ['2010-11-20', 0.0],\n",
              "   ['2010-11-21', 0.0],\n",
              "   ['2010-11-22', 0.0],\n",
              "   ['2010-11-23', 0.0],\n",
              "   ['2010-11-24', 5.6000000000000005],\n",
              "   ['2010-11-25', 5.6000000000000005],\n",
              "   ['2010-11-26', 0.0],\n",
              "   ['2010-11-27', 0.0],\n",
              "   ['2010-11-28', 0.0],\n",
              "   ['2010-11-29', 0.0],\n",
              "   ['2010-11-30', 0.0],\n",
              "   ['2010-12-01', 0.0],\n",
              "   ['2010-12-02', 0.0],\n",
              "   ['2010-12-03', 0.0],\n",
              "   ['2010-12-04', 0.0],\n",
              "   ['2010-12-05', 0.0],\n",
              "   ['2010-12-06', 0.0],\n",
              "   ['2010-12-07', 0.0],\n",
              "   ['2010-12-08', 0.0],\n",
              "   ['2010-12-09', 0.0],\n",
              "   ['2010-12-10', 7.0],\n",
              "   ['2010-12-11', 3.1],\n",
              "   ['2010-12-12', 0.0],\n",
              "   ['2010-12-13', 0.0],\n",
              "   ['2010-12-14', 0.0],\n",
              "   ['2010-12-15', 0.0],\n",
              "   ['2010-12-16', 0.0],\n",
              "   ['2010-12-17', 0.0],\n",
              "   ['2010-12-18', 0.0],\n",
              "   ['2010-12-19', 0.0],\n",
              "   ['2010-12-20', 0.0],\n",
              "   ['2010-12-21', 0.0],\n",
              "   ['2010-12-22', 0.0],\n",
              "   ['2010-12-23', 0.0],\n",
              "   ['2010-12-24', 0.0],\n",
              "   ['2010-12-25', 0.0],\n",
              "   ['2010-12-26', 0.0],\n",
              "   ['2010-12-27', 0.0],\n",
              "   ['2010-12-28', 0.0],\n",
              "   ['2010-12-29', 0.0],\n",
              "   ['2010-12-30', 6.2],\n",
              "   ['2010-12-31', 0.0],\n",
              "   ['2011-01-01', 0.0],\n",
              "   ['2011-01-02', 0.0],\n",
              "   ['2011-01-03', 4.4],\n",
              "   ['2011-01-04', 0.0],\n",
              "   ['2011-01-05', 0.0],\n",
              "   ['2011-01-06', 0.0],\n",
              "   ['2011-01-07', 0.0],\n",
              "   ['2011-01-08', 0.0],\n",
              "   ['2011-01-09', 0.0],\n",
              "   ['2011-01-10', 0.0],\n",
              "   ['2011-01-11', 0.0],\n",
              "   ['2011-01-12', 0.0],\n",
              "   ['2011-01-13', 0.0],\n",
              "   ['2011-01-14', 0.0],\n",
              "   ['2011-01-15', 0.0],\n",
              "   ['2011-01-16', 0.0],\n",
              "   ['2011-01-17', 0.0],\n",
              "   ['2011-01-18', 0.0],\n",
              "   ['2011-01-19', 0.0],\n",
              "   ['2011-01-20', 9.600000000000001],\n",
              "   ['2011-01-21', 4.2],\n",
              "   ['2011-01-22', 0.0],\n",
              "   ['2011-01-23', 0.0],\n",
              "   ['2011-01-24', 0.0],\n",
              "   ['2011-01-25', 0.0],\n",
              "   ['2011-01-26', 0.0],\n",
              "   ['2011-01-27', 0.0],\n",
              "   ['2011-01-28', 0.0],\n",
              "   ['2011-01-29', 0.0],\n",
              "   ['2011-01-30', 0.0],\n",
              "   ['2011-01-31', 0.0],\n",
              "   ['2011-02-01', 0.0],\n",
              "   ['2011-02-02', 0.0],\n",
              "   ['2011-02-03', 0.0],\n",
              "   ['2011-02-04', 0.0],\n",
              "   ['2011-02-05', 0.0],\n",
              "   ['2011-02-06', 0.0],\n",
              "   ['2011-02-07', 0.0],\n",
              "   ['2011-02-08', 0.0],\n",
              "   ['2011-02-09', 0.0],\n",
              "   ['2011-02-10', 0.0],\n",
              "   ['2011-02-11', 0.0],\n",
              "   ['2011-02-12', 0.0],\n",
              "   ['2011-02-13', 0.0],\n",
              "   ['2011-02-14', 0.0],\n",
              "   ['2011-02-15', 12.200000000000001],\n",
              "   ['2011-02-16', 5.9],\n",
              "   ['2011-02-17', 0.0],\n",
              "   ['2011-02-18', 0.0],\n",
              "   ['2011-02-19', 0.0],\n",
              "   ['2011-02-20', 0.0],\n",
              "   ['2011-02-21', 0.0],\n",
              "   ['2011-02-22', 0.0],\n",
              "   ['2011-02-23', 0.0],\n",
              "   ['2011-02-24', 0.0],\n",
              "   ['2011-02-25', 0.0],\n",
              "   ['2011-02-26', 0.0],\n",
              "   ['2011-02-27', 0.0],\n",
              "   ['2011-02-28', 0.0],\n",
              "   ['2011-03-01', 0.0],\n",
              "   ['2011-03-02', 0.0],\n",
              "   ['2011-03-03', 0.0],\n",
              "   ['2011-03-04', 0.0],\n",
              "   ['2011-03-05', 0.0],\n",
              "   ['2011-03-06', 0.0],\n",
              "   ['2011-03-07', 0.0],\n",
              "   ['2011-03-08', 0.0],\n",
              "   ['2011-03-09', 0.0],\n",
              "   ['2011-03-10', 0.0],\n",
              "   ['2011-03-11', 0.0],\n",
              "   ['2011-03-12', 0.0],\n",
              "   ['2011-03-13', 0.0],\n",
              "   ['2011-03-14', 0.0],\n",
              "   ['2011-03-15', 63.800000000000004],\n",
              "   ['2011-03-16', 0.0],\n",
              "   ['2011-03-17', 0.0],\n",
              "   ['2011-03-18', 0.0],\n",
              "   ['2011-03-19', 0.0],\n",
              "   ['2011-03-20', 0.0],\n",
              "   ['2011-03-21', 0.0],\n",
              "   ['2011-03-22', 0.0],\n",
              "   ['2011-03-23', 0.0],\n",
              "   ['2011-03-24', 0.0],\n",
              "   ['2011-03-25', 0.0],\n",
              "   ['2011-03-26', 0.0],\n",
              "   ['2011-03-27', 0.0],\n",
              "   ['2011-03-28', 0.0],\n",
              "   ['2011-03-29', 0.0],\n",
              "   ['2011-03-30', 0.0],\n",
              "   ['2011-03-31', 0.0],\n",
              "   ['2011-04-01', 0.0],\n",
              "   ['2011-04-02', 0.0],\n",
              "   ['2011-04-03', 0.0],\n",
              "   ['2011-04-04', 0.0],\n",
              "   ['2011-04-05', 0.0],\n",
              "   ['2011-04-06', 9.5],\n",
              "   ['2011-04-07', 9.5],\n",
              "   ['2011-04-08', 19.0],\n",
              "   ['2011-04-09', 0.0],\n",
              "   ['2011-04-10', 0.0],\n",
              "   ['2011-04-11', 0.0],\n",
              "   ['2011-04-12', 0.0],\n",
              "   ['2011-04-13', 0.0],\n",
              "   ['2011-04-14', 0.0],\n",
              "   ['2011-04-15', 0.0],\n",
              "   ['2011-04-16', 0.0],\n",
              "   ['2011-04-17', 0.0],\n",
              "   ['2011-04-18', 0.0],\n",
              "   ['2011-04-19', 0.0],\n",
              "   ['2011-04-20', 12.200000000000001],\n",
              "   ['2011-04-21', 0.0],\n",
              "   ['2011-04-22', 0.0],\n",
              "   ['2011-04-23', 0.0],\n",
              "   ['2011-04-24', 0.0],\n",
              "   ['2011-04-25', 0.0],\n",
              "   ['2011-04-26', 0.0],\n",
              "   ['2011-04-27', 11.8],\n",
              "   ['2011-04-28', 0.0],\n",
              "   ['2011-04-29', 0.0],\n",
              "   ['2011-04-30', 11.8],\n",
              "   ['2011-05-01', 0.0],\n",
              "   ['2011-05-02', 0.0],\n",
              "   ['2011-05-03', 0.0],\n",
              "   ['2011-05-04', 0.0],\n",
              "   ['2011-05-05', 0.0],\n",
              "   ['2011-05-06', 0.0],\n",
              "   ['2011-05-07', 0.0],\n",
              "   ['2011-05-08', 7.5],\n",
              "   ['2011-05-09', 0.0],\n",
              "   ['2011-05-10', 15.0],\n",
              "   ['2011-05-11', 0.0],\n",
              "   ['2011-05-12', 0.0],\n",
              "   ['2011-05-13', 0.0],\n",
              "   ['2011-05-14', 0.0],\n",
              "   ['2011-05-15', 0.0],\n",
              "   ['2011-05-16', 14.0],\n",
              "   ['2011-05-17', 28.0],\n",
              "   ['2011-05-18', 14.0],\n",
              "   ['2011-05-19', 28.0],\n",
              "   ['2011-05-20', 0.0],\n",
              "   ['2011-05-21', 0.0],\n",
              "   ['2011-05-22', 17.6],\n",
              "   ['2011-05-23', 0.0],\n",
              "   ['2011-05-24', 0.0],\n",
              "   ['2011-05-25', 17.6],\n",
              "   ['2011-05-26', 13.600000000000001],\n",
              "   ['2011-05-27', 27.1],\n",
              "   ['2011-05-28', 13.600000000000001],\n",
              "   ['2011-05-29', 0.0],\n",
              "   ['2011-05-30', 0.0],\n",
              "   ['2011-05-31', 13.600000000000001],\n",
              "   ['2011-06-01', 0.0],\n",
              "   ['2011-06-02', 0.0],\n",
              "   ['2011-06-03', 0.0],\n",
              "   ['2011-06-04', 0.0],\n",
              "   ['2011-06-05', 17.3],\n",
              "   ['2011-06-06', 0.0],\n",
              "   ['2011-06-07', 0.0],\n",
              "   ['2011-06-08', 0.0],\n",
              "   ['2011-06-09', 17.5],\n",
              "   ['2011-06-10', 5.800000000000001],\n",
              "   ['2011-06-11', 0.0],\n",
              "   ['2011-06-12', 29.8],\n",
              "   ['2011-06-13', 0.0],\n",
              "   ['2011-06-14', 0.0],\n",
              "   ['2011-06-15', 0.0],\n",
              "   ['2011-06-16', 3.8000000000000003],\n",
              "   ['2011-06-17', 0.0],\n",
              "   ['2011-06-18', 0.0],\n",
              "   ['2011-06-19', 7.6000000000000005],\n",
              "   ['2011-06-20', 0.0],\n",
              "   ['2011-06-21', 0.0],\n",
              "   ['2011-06-22', 22.400000000000002],\n",
              "   ['2011-06-23', 0.0],\n",
              "   ['2011-06-24', 0.0],\n",
              "   ['2011-06-25', 0.0],\n",
              "   ['2011-06-26', 11.3],\n",
              "   ['2011-06-27', 11.3],\n",
              "   ['2011-06-28', 11.3],\n",
              "   ['2011-06-29', 0.0],\n",
              "   ['2011-06-30', 0.0],\n",
              "   ['2011-07-01', 0.0],\n",
              "   ['2011-07-02', 0.0],\n",
              "   ['2011-07-03', 0.0],\n",
              "   ['2011-07-04', 11.5],\n",
              "   ['2011-07-05', 11.5],\n",
              "   ['2011-07-06', 14.600000000000001],\n",
              "   ['2011-07-07', 0.0],\n",
              "   ['2011-07-08', 14.600000000000001],\n",
              "   ['2011-07-09', 14.600000000000001],\n",
              "   ['2011-07-10', 0.0],\n",
              "   ['2011-07-11', 0.0],\n",
              "   ['2011-07-12', 0.0],\n",
              "   ['2011-07-13', 0.0],\n",
              "   ['2011-07-14', 0.0],\n",
              "   ['2011-07-15', 24.200000000000003],\n",
              "   ['2011-07-16', 8.1],\n",
              "   ['2011-07-17', 0.0],\n",
              "   ['2011-07-18', 16.2],\n",
              "   ['2011-07-19', 16.2],\n",
              "   ['2011-07-20', 0.0],\n",
              "   ['2011-07-21', 0.0],\n",
              "   ['2011-07-22', 0.0],\n",
              "   ['2011-07-23', 0.0],\n",
              "   ['2011-07-24', 0.0],\n",
              "   ['2011-07-25', 27.0],\n",
              "   ['2011-07-26', 0.0],\n",
              "   ['2011-07-27', 16.2],\n",
              "   ['2011-07-28', 16.2],\n",
              "   ['2011-07-29', 0.0],\n",
              "   ['2011-07-30', 24.3],\n",
              "   ['2011-07-31', 0.0],\n",
              "   ['2011-08-01', 0.0],\n",
              "   ['2011-08-02', 0.0],\n",
              "   ['2011-08-03', 0.0],\n",
              "   ['2011-08-04', 0.0],\n",
              "   ['2011-08-05', 0.0],\n",
              "   ['2011-08-06', 0.0],\n",
              "   ['2011-08-07', 0.0],\n",
              "   ['2011-08-08', 0.0],\n",
              "   ['2011-08-09', 0.0],\n",
              "   ['2011-08-10', 0.0],\n",
              "   ['2011-08-11', 23.6],\n",
              "   ['2011-08-12', 0.0],\n",
              "   ['2011-08-13', 10.3],\n",
              "   ['2011-08-14', 20.6],\n",
              "   ['2011-08-15', 41.2],\n",
              "   ['2011-08-16', 0.0],\n",
              "   ['2011-08-17', 45.6],\n",
              "   ['2011-08-18', 0.0],\n",
              "   ['2011-08-19', 0.0],\n",
              "   ['2011-08-20', 0.0],\n",
              "   ['2011-08-21', 0.0],\n",
              "   ['2011-08-22', 0.0],\n",
              "   ['2011-08-23', 0.0],\n",
              "   ['2011-08-24', 0.0],\n",
              "   ['2011-08-25', 0.0],\n",
              "   ['2011-08-26', 37.800000000000004],\n",
              "   ['2011-08-27', 0.0],\n",
              "   ['2011-08-28', 18.900000000000002],\n",
              "   ['2011-08-29', 18.900000000000002],\n",
              "   ['2011-08-30', 18.900000000000002],\n",
              "   ['2011-08-31', 0.0],\n",
              "   ['2011-09-01', 0.0],\n",
              "   ['2011-09-02', 13.700000000000001],\n",
              "   ['2011-09-03', 13.700000000000001],\n",
              "   ['2011-09-04', 13.700000000000001],\n",
              "   ['2011-09-05', 0.0],\n",
              "   ['2011-09-06', 0.0],\n",
              "   ['2011-09-07', 0.0],\n",
              "   ['2011-09-08', 0.0],\n",
              "   ['2011-09-09', 33.6],\n",
              "   ['2011-09-10', 0.0],\n",
              "   ['2011-09-11', 0.0],\n",
              "   ['2011-09-12', 0.0],\n",
              "   ['2011-09-13', 0.0],\n",
              "   ['2011-09-14', 17.2],\n",
              "   ['2011-09-15', 8.6],\n",
              "   ['2011-09-16', 0.0],\n",
              "   ['2011-09-17', 0.0],\n",
              "   ['2011-09-18', 28.0],\n",
              "   ['2011-09-19', 0.0],\n",
              "   ['2011-09-20', 0.0],\n",
              "   ['2011-09-21', 0.0],\n",
              "   ['2011-09-22', 0.0],\n",
              "   ['2011-09-23', 0.0],\n",
              "   ['2011-09-24', 16.400000000000002],\n",
              "   ['2011-09-25', 16.400000000000002],\n",
              "   ['2011-09-26', 0.0],\n",
              "   ['2011-09-27', 0.0],\n",
              "   ...],\n",
              "  'stats': {'count': 3652,\n",
              "   'min': 0.0,\n",
              "   'max': 80.5,\n",
              "   'range': 80.5,\n",
              "   'sum': 12425.000000000011,\n",
              "   'mean': 3.4022453450164325,\n",
              "   'std': 8.493821631711386}}}"
            ]
          },
          "metadata": {},
          "execution_count": 21
        }
      ],
      "source": [
        "resp_query=requests.post(path_query,json=query_pixeltimeseries)\n",
        "resp=resp_query.json()\n",
        "resp"
      ]
    },
    {
      "cell_type": "markdown",
      "id": "2f982c1a",
      "metadata": {
        "id": "2f982c1a"
      },
      "source": [
        "We will convert the response to DataFrame format and visualize it"
      ]
    },
    {
      "cell_type": "code",
      "execution_count": 22,
      "id": "d6ea0023",
      "metadata": {
        "id": "d6ea0023",
        "outputId": "f8251dda-4d2c-40fc-c591-1b89f963a62b",
        "colab": {
          "base_uri": "https://localhost:8080/",
          "height": 488
        }
      },
      "outputs": [
        {
          "output_type": "execute_result",
          "data": {
            "text/plain": [
              "Text(0.5, 1.0, 'L1_PCP_E')"
            ]
          },
          "metadata": {},
          "execution_count": 22
        },
        {
          "output_type": "display_data",
          "data": {
            "text/plain": [
              "<Figure size 640x480 with 1 Axes>"
            ],
            "image/png": "[encoded data removed]"
          },
          "metadata": {}
        }
      ],
      "source": [
        "results=resp['response']\n",
        "df=pd.DataFrame(results['items'],columns=results['header'])\n",
        "df.index=pd.to_datetime(df.day,format='%Y-%m-%d') #conver 'day' column from string to datetime format\n",
        "ax=df.plot() #plot time-series\n",
        "ax.set_ylabel(measure) #y axis label\n",
        "ax.set_title(cube_code) #title"
      ]
    },
    {
      "cell_type": "markdown",
      "id": "ec6145e9",
      "metadata": {
        "id": "ec6145e9"
      },
      "source": [
        "To make the graph more meaningful, change the title to \"Daily Precipitation\" and y axis lable to \"Precipitation (mm/day)\"."
      ]
    },
    {
      "cell_type": "markdown",
      "id": "3f06215f",
      "metadata": {
        "id": "3f06215f"
      },
      "source": [
        "**Optional:**\n",
        "\n",
        "For some applications, you might have multiple points. You can use a loop in python to request their timeseries in one go.\n",
        "\n",
        "First, define a list of points."
      ]
    },
    {
      "cell_type": "code",
      "execution_count": 23,
      "id": "287ce246",
      "metadata": {
        "id": "287ce246"
      },
      "outputs": [],
      "source": [
        "points=[\n",
        "        [37.95883206252312, 7.89534],\n",
        "       [37.45883206252312, 7.39534],\n",
        "       [37.45883206252312, 8.39534]\n",
        "        ] #list of point coordinates (X,Y)"
      ]
    },
    {
      "cell_type": "markdown",
      "id": "6e4a38ee",
      "metadata": {
        "id": "6e4a38ee"
      },
      "source": [
        "Use a FOR loop to send requests for each point."
      ]
    },
    {
      "cell_type": "code",
      "execution_count": 24,
      "id": "e8fa0d37",
      "metadata": {
        "id": "e8fa0d37",
        "outputId": "20a0b1df-6621-43b9-d5a6-d33d3d7be86b",
        "colab": {
          "base_uri": "https://localhost:8080/",
          "height": 424
        }
      },
      "outputs": [
        {
          "output_type": "execute_result",
          "data": {
            "text/plain": [
              "            Date  Lat: 7.89534, Lon: 37.95883206252312  \\\n",
              "0     2009-01-01                                   0.0   \n",
              "1     2009-01-02                                   0.0   \n",
              "2     2009-01-03                                   0.0   \n",
              "3     2009-01-04                                   0.0   \n",
              "4     2009-01-05                                   0.0   \n",
              "...          ...                                   ...   \n",
              "3647  2018-12-27                                   3.8   \n",
              "3648  2018-12-28                                   0.0   \n",
              "3649  2018-12-29                                   0.0   \n",
              "3650  2018-12-30                                   0.0   \n",
              "3651  2018-12-31                                   0.0   \n",
              "\n",
              "      Lat: 7.39534, Lon: 37.45883206252312  \\\n",
              "0                                      0.0   \n",
              "1                                      0.0   \n",
              "2                                      0.0   \n",
              "3                                      0.0   \n",
              "4                                      0.0   \n",
              "...                                    ...   \n",
              "3647                                   0.0   \n",
              "3648                                   0.0   \n",
              "3649                                   0.0   \n",
              "3650                                   0.0   \n",
              "3651                                   0.0   \n",
              "\n",
              "      Lat: 8.39534, Lon: 37.45883206252312  \n",
              "0                                      0.0  \n",
              "1                                      0.0  \n",
              "2                                      0.0  \n",
              "3                                      0.0  \n",
              "4                                      0.0  \n",
              "...                                    ...  \n",
              "3647                                   2.6  \n",
              "3648                                   0.0  \n",
              "3649                                   0.0  \n",
              "3650                                   0.0  \n",
              "3651                                   0.0  \n",
              "\n",
              "[3652 rows x 4 columns]"
            ],
            "text/html": [
              "\n",
              "  <div id=\"df-f8d244f5-8162-4355-9478-2a307a950750\">\n",
              "    <div class=\"colab-df-container\">\n",
              "      <div>\n",
              "<style scoped>\n",
              "    .dataframe tbody tr th:only-of-type {\n",
              "        vertical-align: middle;\n",
              "    }\n",
              "\n",
              "    .dataframe tbody tr th {\n",
              "        vertical-align: top;\n",
              "    }\n",
              "\n",
              "    .dataframe thead th {\n",
              "        text-align: right;\n",
              "    }\n",
              "</style>\n",
              "<table border=\"1\" class=\"dataframe\">\n",
              "  <thead>\n",
              "    <tr style=\"text-align: right;\">\n",
              "      <th></th>\n",
              "      <th>Date</th>\n",
              "      <th>Lat: 7.89534, Lon: 37.95883206252312</th>\n",
              "      <th>Lat: 7.39534, Lon: 37.45883206252312</th>\n",
              "      <th>Lat: 8.39534, Lon: 37.45883206252312</th>\n",
              "    </tr>\n",
              "  </thead>\n",
              "  <tbody>\n",
              "    <tr>\n",
              "      <th>0</th>\n",
              "      <td>2009-01-01</td>\n",
              "      <td>0.0</td>\n",
              "      <td>0.0</td>\n",
              "      <td>0.0</td>\n",
              "    </tr>\n",
              "    <tr>\n",
              "      <th>1</th>\n",
              "      <td>2009-01-02</td>\n",
              "      <td>0.0</td>\n",
              "      <td>0.0</td>\n",
              "      <td>0.0</td>\n",
              "    </tr>\n",
              "    <tr>\n",
              "      <th>2</th>\n",
              "      <td>2009-01-03</td>\n",
              "      <td>0.0</td>\n",
              "      <td>0.0</td>\n",
              "      <td>0.0</td>\n",
              "    </tr>\n",
              "    <tr>\n",
              "      <th>3</th>\n",
              "      <td>2009-01-04</td>\n",
              "      <td>0.0</td>\n",
              "      <td>0.0</td>\n",
              "      <td>0.0</td>\n",
              "    </tr>\n",
              "    <tr>\n",
              "      <th>4</th>\n",
              "      <td>2009-01-05</td>\n",
              "      <td>0.0</td>\n",
              "      <td>0.0</td>\n",
              "      <td>0.0</td>\n",
              "    </tr>\n",
              "    <tr>\n",
              "      <th>...</th>\n",
              "      <td>...</td>\n",
              "      <td>...</td>\n",
              "      <td>...</td>\n",
              "      <td>...</td>\n",
              "    </tr>\n",
              "    <tr>\n",
              "      <th>3647</th>\n",
              "      <td>2018-12-27</td>\n",
              "      <td>3.8</td>\n",
              "      <td>0.0</td>\n",
              "      <td>2.6</td>\n",
              "    </tr>\n",
              "    <tr>\n",
              "      <th>3648</th>\n",
              "      <td>2018-12-28</td>\n",
              "      <td>0.0</td>\n",
              "      <td>0.0</td>\n",
              "      <td>0.0</td>\n",
              "    </tr>\n",
              "    <tr>\n",
              "      <th>3649</th>\n",
              "      <td>2018-12-29</td>\n",
              "      <td>0.0</td>\n",
              "      <td>0.0</td>\n",
              "      <td>0.0</td>\n",
              "    </tr>\n",
              "    <tr>\n",
              "      <th>3650</th>\n",
              "      <td>2018-12-30</td>\n",
              "      <td>0.0</td>\n",
              "      <td>0.0</td>\n",
              "      <td>0.0</td>\n",
              "    </tr>\n",
              "    <tr>\n",
              "      <th>3651</th>\n",
              "      <td>2018-12-31</td>\n",
              "      <td>0.0</td>\n",
              "      <td>0.0</td>\n",
              "      <td>0.0</td>\n",
              "    </tr>\n",
              "  </tbody>\n",
              "</table>\n",
              "<p>3652 rows × 4 columns</p>\n",
              "</div>\n",
              "      <button class=\"colab-df-convert\" onclick=\"convertToInteractive('df-f8d244f5-8162-4355-9478-2a307a950750')\"\n",
              "              title=\"Convert this dataframe to an interactive table.\"\n",
              "              style=\"display:none;\">\n",
              "        \n",
              "  <svg xmlns=\"http://www.w3.org/2000/svg\" height=\"24px\"viewBox=\"0 0 24 24\"\n",
              "       width=\"24px\">\n",
              "    <path d=\"M0 0h24v24H0V0z\" fill=\"none\"/>\n",
              "    <path d=\"M18.56 5.44l.94 2.06.94-2.06 2.06-.94-2.06-.94-.94-2.06-.94 2.06-2.06.94zm-11 1L8.5 8.5l.94-2.06 2.06-.94-2.06-.94L8.5 2.5l-.94 2.06-2.06.94zm10 10l.94 2.06.94-2.06 2.06-.94-2.06-.94-.94-2.06-.94 2.06-2.06.94z\"/><path d=\"M17.41 7.96l-1.37-1.37c-.4-.4-.92-.59-1.43-.59-.52 0-1.04.2-1.43.59L10.3 9.45l-7.72 7.72c-.78.78-.78 2.05 0 2.83L4 21.41c.39.39.9.59 1.41.59.51 0 1.02-.2 1.41-.59l7.78-7.78 2.81-2.81c.8-.78.8-2.07 0-2.86zM5.41 20L4 18.59l7.72-7.72 1.47 1.35L5.41 20z\"/>\n",
              "  </svg>\n",
              "      </button>\n",
              "      \n",
              "  <style>\n",
              "    .colab-df-container {\n",
              "      display:flex;\n",
              "      flex-wrap:wrap;\n",
              "      gap: 12px;\n",
              "    }\n",
              "\n",
              "    .colab-df-convert {\n",
              "      background-color: #E8F0FE;\n",
              "      border: none;\n",
              "      border-radius: 50%;\n",
              "      cursor: pointer;\n",
              "      display: none;\n",
              "      fill: #1967D2;\n",
              "      height: 32px;\n",
              "      padding: 0 0 0 0;\n",
              "      width: 32px;\n",
              "    }\n",
              "\n",
              "    .colab-df-convert:hover {\n",
              "      background-color: #E2EBFA;\n",
              "      box-shadow: 0px 1px 2px rgba(60, 64, 67, 0.3), 0px 1px 3px 1px rgba(60, 64, 67, 0.15);\n",
              "      fill: #174EA6;\n",
              "    }\n",
              "\n",
              "    [theme=dark] .colab-df-convert {\n",
              "      background-color: #3B4455;\n",
              "      fill: #D2E3FC;\n",
              "    }\n",
              "\n",
              "    [theme=dark] .colab-df-convert:hover {\n",
              "      background-color: #434B5C;\n",
              "      box-shadow: 0px 1px 3px 1px rgba(0, 0, 0, 0.15);\n",
              "      filter: drop-shadow(0px 1px 2px rgba(0, 0, 0, 0.3));\n",
              "      fill: #FFFFFF;\n",
              "    }\n",
              "  </style>\n",
              "\n",
              "      <script>\n",
              "        const buttonEl =\n",
              "          document.querySelector('#df-f8d244f5-8162-4355-9478-2a307a950750 button.colab-df-convert');\n",
              "        buttonEl.style.display =\n",
              "          google.colab.kernel.accessAllowed ? 'block' : 'none';\n",
              "\n",
              "        async function convertToInteractive(key) {\n",
              "          const element = document.querySelector('#df-f8d244f5-8162-4355-9478-2a307a950750');\n",
              "          const dataTable =\n",
              "            await google.colab.kernel.invokeFunction('convertToInteractive',\n",
              "                                                     [key], {});\n",
              "          if (!dataTable) return;\n",
              "\n",
              "          const docLinkHtml = 'Like what you see? Visit the ' +\n",
              "            '<a target=\"_blank\" href=https://colab.research.google.com/notebooks/data_table.ipynb>data table notebook</a>'\n",
              "            + ' to learn more about interactive tables.';\n",
              "          element.innerHTML = '';\n",
              "          dataTable['output_type'] = 'display_data';\n",
              "          await google.colab.output.renderOutput(dataTable, element);\n",
              "          const docLink = document.createElement('div');\n",
              "          docLink.innerHTML = docLinkHtml;\n",
              "          element.appendChild(docLink);\n",
              "        }\n",
              "      </script>\n",
              "    </div>\n",
              "  </div>\n",
              "  "
            ]
          },
          "metadata": {},
          "execution_count": 24
        }
      ],
      "source": [
        "for i,point in enumerate(points):\n",
        "    query_pixeltimeseries={\n",
        "      \"type\": \"PixelTimeSeries\",\n",
        "      \"params\": {\n",
        "        \"cube\": {\n",
        "          \"code\": cube_code,\n",
        "          \"workspaceCode\": workspace,\n",
        "          \"language\": \"en\"\n",
        "        },\n",
        "        \"dimensions\": [\n",
        "          {\n",
        "            \"code\": dimension,\n",
        "            \"range\": \"[2009-01-01,2019-01-01)\"\n",
        "          }\n",
        "        ],\n",
        "        \"measures\": [\n",
        "          measure\n",
        "        ],\n",
        "        \"point\": {\n",
        "          \"crs\": crs, #latlon projection\n",
        "          \"x\":point[0],\n",
        "            \"y\":point[1]\n",
        "        }\n",
        "      }\n",
        "    }\n",
        "\n",
        "    resp_query=requests.post(path_query,json=query_pixeltimeseries)\n",
        "    resp_vp=resp_query.json()\n",
        "    if resp_vp['message']=='OK':\n",
        "        results=resp_vp['response']\n",
        "        df=pd.DataFrame(results['items'],columns=['Date','Lat: {0}, Lon: {1}'.format(point[1],point[0])])\n",
        "        if i==0:\n",
        "            df_all=df\n",
        "        else:\n",
        "            df_all=pd.merge(df_all,df)\n",
        "    else:\n",
        "        print(resp_vp['message'])\n",
        "\n",
        "df_all"
      ]
    },
    {
      "cell_type": "markdown",
      "id": "5b24cf61",
      "metadata": {
        "id": "5b24cf61"
      },
      "source": [
        "Now, we can plot the timeseries of multiple points at once"
      ]
    },
    {
      "cell_type": "code",
      "execution_count": 25,
      "id": "db6be6e8",
      "metadata": {
        "id": "db6be6e8",
        "outputId": "8018e7f1-5e8d-4c64-f68f-be09cdcf9fd8",
        "colab": {
          "base_uri": "https://localhost:8080/",
          "height": 466
        }
      },
      "outputs": [
        {
          "output_type": "execute_result",
          "data": {
            "text/plain": [
              "<Axes: xlabel='Date'>"
            ]
          },
          "metadata": {},
          "execution_count": 25
        },
        {
          "output_type": "display_data",
          "data": {
            "text/plain": [
              "<Figure size 640x480 with 1 Axes>"
            ],
            "image/png": "[encoded data removed]"
          },
          "metadata": {}
        }
      ],
      "source": [
        "df_all.index=pd.to_datetime(df_all.Date,format='%Y-%m-%d') #conver 'day' column from string to datetime format\n",
        "df_all.plot() #plot time-series of all points"
      ]
    },
    {
      "cell_type": "markdown",
      "id": "a81653fb",
      "metadata": {
        "id": "a81653fb"
      },
      "source": [
        "# 6. Get areal statistics timeseries<a name=\"area\"></a>"
      ]
    },
    {
      "cell_type": "markdown",
      "id": "ebbcb4a6",
      "metadata": {
        "id": "ebbcb4a6"
      },
      "source": [
        "We can also request timeseries of an area of interest (polygon) using the *query* url. For this type of query, you will need to authorize your access using the API token acquired before."
      ]
    },
    {
      "cell_type": "code",
      "execution_count": null,
      "id": "4db0914e",
      "metadata": {
        "id": "4db0914e"
      },
      "outputs": [],
      "source": [
        "import requests\n",
        "import pandas as pd\n",
        "\n",
        "path_query=r'https://io.apps.fao.org/gismgr/api/v1/query/'\n",
        "path_sign_in=r'https://io.apps.fao.org/gismgr/api/v1/iam/sign-in/'\n",
        "\n",
        "APIToken=input('Your API token: ')"
      ]
    },
    {
      "cell_type": "markdown",
      "id": "0813f0c0",
      "metadata": {
        "id": "0813f0c0"
      },
      "source": [
        "We will use our API token to authorize our access. After this step, we will have an access token, which is needed for our query payload."
      ]
    },
    {
      "cell_type": "code",
      "execution_count": 27,
      "id": "60ae3977",
      "metadata": {
        "id": "60ae3977",
        "outputId": "d73e95cb-0c17-4a10-d349-291dd05f9d85",
        "colab": {
          "base_uri": "https://localhost:8080/",
          "height": 122
        }
      },
      "outputs": [
        {
          "output_type": "execute_result",
          "data": {
            "text/plain": [
              "'eyJhbGciOiJSUzI1NiIsImtpZCI6IjhkMDNhZTdmNDczZjJjNmIyNTI3NmMwNjM2MGViOTk4ODdlMjNhYTkiLCJ0eXAiOiJKV1QifQ.eyJuYW1lIjoiQmljaCBUcmFuIiwicGljdHVyZSI6Imh0dHBzOi8vbGg0Lmdvb2dsZXVzZXJjb250ZW50LmNvbS8tQkxvTDhOYUVLNm8vQUFBQUFBQUFBQUkvQUFBQUFBQUFCTDgvMlFJTzFRQUlxbW8vcGhvdG8uanBnIiwiaXNzIjoiaHR0cHM6Ly9zZWN1cmV0b2tlbi5nb29nbGUuY29tL3VuZmFvLWFwcHMtZGV2IiwiYXVkIjoidW5mYW8tYXBwcy1kZXYiLCJhdXRoX3RpbWUiOjE2ODc4MDg2MTEsInVzZXJfaWQiOiJSNk5Ibkd5dDRUT3p1M212T2tteE04UkxFMnUxIiwic3ViIjoiUjZOSG5HeXQ0VE96dTNtdk9rbXhNOFJMRTJ1MSIsImlhdCI6MTY4NzgwODYxMSwiZXhwIjoxNjg3ODEyMjExLCJlbWFpbCI6ImJpY2h0bjk0QGdtYWlsLmNvbSIsImVtYWlsX3ZlcmlmaWVkIjp0cnVlLCJmaXJlYmFzZSI6eyJpZGVudGl0aWVzIjp7Imdvb2dsZS5jb20iOlsiMTAyMTY0MjA1NjAzMjU1NDMxMjQzIl0sImVtYWlsIjpbImJpY2h0bjk0QGdtYWlsLmNvbSJdfSwic2lnbl9pbl9wcm92aWRlciI6ImN1c3RvbSJ9fQ.xoq_vMJRVmsN3j7jLulh1j8I9SvN6qHU5UUENym_vwJBXwPdvCjAhFz31oMXxKcyfEcNZ-fFHcDCE8QpDlKUY9PAOcdYR6SG3PMAQEWezTNB0chQwx3r7QlIyMIlHnSZbjuCbHbPlql8sN9j0r4WcySnTPX7DvDftE6IoXlyH7yVcZtRBuozIhDVnmQ-b6SSJt6EVTQNELyV1n3-3NuwyWDLhNVNN918m7zDwHNKXJ6TWQfpYqd3iG8yEA-Vucx2j6NDlAOTiXACec1N-7stAMj4AhjBgnRHNaBHzmcDMiH9Jif51ZPcKadYMn80zv2T5LlOSz97VW6AVlNgS4vRkQ'"
            ],
            "application/vnd.google.colaboratory.intrinsic+json": {
              "type": "string"
            }
          },
          "metadata": {},
          "execution_count": 27
        }
      ],
      "source": [
        "resp_signin=requests.post(path_sign_in,headers={'X-GISMGR-API-KEY':APIToken})\n",
        "resp_signin = resp_signin.json()\n",
        "AccessToken=resp_signin['response']['accessToken']\n",
        "AccessToken"
      ]
    },
    {
      "cell_type": "markdown",
      "id": "31a1cd32",
      "metadata": {
        "id": "31a1cd32"
      },
      "source": [
        "Similar to previous sections, we will write a query payload with these information:\n",
        "- Workspace code\n",
        "- Datacube code\n",
        "- Time period\n",
        "- Measure\n",
        "- Dimention\n",
        "- Polygon coordinates"
      ]
    },
    {
      "cell_type": "code",
      "execution_count": 28,
      "id": "4f9555e1",
      "metadata": {
        "id": "4f9555e1",
        "outputId": "00bf6cfc-6a04-46be-e9a2-a227b2ef8c4c",
        "colab": {
          "base_uri": "https://localhost:8080/"
        }
      },
      "outputs": [
        {
          "output_type": "stream",
          "name": "stdout",
          "text": [
            "MEASURE:  WATER_MM\n",
            "DIMENSION:  DAY\n"
          ]
        }
      ],
      "source": [
        "crs=\"EPSG:4326\" #coordinate reference system\n",
        "cube_code=\"L1_PCP_E\"\n",
        "workspace='WAPOR_2'\n",
        "start_date=\"2009-01-01\"\n",
        "end_date=\"2019-01-01\"\n",
        "\n",
        "#get datacube measure\n",
        "cube_url=f'https://io.apps.fao.org/gismgr/api/v1/catalog/workspaces/{workspace}/cubes/{cube_code}/measures'\n",
        "resp=requests.get(cube_url).json()\n",
        "measure=resp['response']['items'][0]['code']\n",
        "print('MEASURE: ',measure)\n",
        "\n",
        "#get datacube time dimension\n",
        "cube_url=f'https://io.apps.fao.org/gismgr/api/v1/catalog/workspaces/{workspace}/cubes/{cube_code}/dimensions'\n",
        "resp=requests.get(cube_url).json()\n",
        "items=pd.DataFrame.from_dict(resp['response']['items'])\n",
        "dimension=items[items.type=='TIME']['code'].values[0]\n",
        "print('DIMENSION: ',dimension)"
      ]
    },
    {
      "cell_type": "markdown",
      "id": "9bd5f4c7",
      "metadata": {
        "id": "9bd5f4c7"
      },
      "source": [
        "Now, we will define our area of interest. You can do this either by defining the coordinates of a bounding box or reading a shapefile.\n",
        "\n",
        "If you want to use a bounding box, use the code below:"
      ]
    },
    {
      "cell_type": "code",
      "execution_count": 29,
      "id": "fe4695d5",
      "metadata": {
        "id": "fe4695d5",
        "outputId": "f81e3ea4-035c-4d41-da89-9358dcc8da40",
        "colab": {
          "base_uri": "https://localhost:8080/"
        }
      },
      "outputs": [
        {
          "output_type": "execute_result",
          "data": {
            "text/plain": [
              "{'type': 'AreaStatsTimeSeries',\n",
              " 'params': {'cube': {'code': 'L1_PCP_E',\n",
              "   'workspaceCode': 'WAPOR_2',\n",
              "   'language': 'en'},\n",
              "  'dimensions': [{'code': 'DAY', 'range': '[2009-01-01,2019-01-01)'}],\n",
              "  'measures': ['WATER_MM'],\n",
              "  'shape': {'type': 'Polygon',\n",
              "   'properties': {'name': 'EPSG:4326'},\n",
              "   'coordinates': [[[37.95883206252312, 7.89534],\n",
              "     [37.95883206252312, 12.3873979377346],\n",
              "     [43.32093, 12.3873979377346],\n",
              "     [43.32093, 7.89534],\n",
              "     [37.95883206252312, 7.89534]]]}}}"
            ]
          },
          "metadata": {},
          "execution_count": 29
        }
      ],
      "source": [
        "bbox= [37.95883206252312, 7.89534, 43.32093, 12.3873979377346] #latlon\n",
        "xmin,ymin,xmax,ymax=bbox[0],bbox[1],bbox[2],bbox[3]\n",
        "Polygon=[\n",
        "          [xmin,ymin],\n",
        "          [xmin,ymax],\n",
        "          [xmax,ymax],\n",
        "          [xmax,ymin],\n",
        "          [xmin,ymin]\n",
        "        ]\n",
        "query_areatimeseries={\n",
        "  \"type\": \"AreaStatsTimeSeries\",\n",
        "  \"params\": {\n",
        "    \"cube\": {\n",
        "      \"code\": cube_code, #cube_code\n",
        "      \"workspaceCode\": workspace, #workspace code: use WAPOR for v1.0 and WAPOR_2 for v2.1\n",
        "      \"language\": \"en\"\n",
        "    },\n",
        "    \"dimensions\": [\n",
        "      {\n",
        "        \"code\": dimension, #use DAY DEKAD MONTH or YEAR\n",
        "        \"range\": f\"[{start_date},{end_date})\" #start date and endate\n",
        "      }\n",
        "    ],\n",
        "    \"measures\": [\n",
        "      measure\n",
        "    ],\n",
        "    \"shape\": {\n",
        "      \"type\": \"Polygon\",\n",
        "      \"properties\": {\n",
        "      \"name\": crs #coordinate reference system\n",
        "              },\n",
        "      \"coordinates\": [\n",
        "       Polygon\n",
        "      ]\n",
        "    }\n",
        "  }\n",
        "}\n",
        "\n",
        "query_areatimeseries"
      ]
    },
    {
      "cell_type": "markdown",
      "id": "9aa4f54c",
      "metadata": {
        "id": "9aa4f54c"
      },
      "source": [
        "Now, we will use POST method to request the timeseries for our area of interest."
      ]
    },
    {
      "cell_type": "code",
      "execution_count": 30,
      "id": "b3472277",
      "metadata": {
        "id": "b3472277",
        "outputId": "6e7eceb9-a842-46a4-dcd6-1fa6b155b3a7",
        "colab": {
          "base_uri": "https://localhost:8080/"
        }
      },
      "outputs": [
        {
          "output_type": "execute_result",
          "data": {
            "text/plain": [
              "{'requestId': '69718885-1e11-43a8-ab6d-aa502c931d99',\n",
              " 'timestamp': 1687808612078,\n",
              " 'runtime': 17,\n",
              " 'status': 200,\n",
              " 'message': 'OK',\n",
              " 'response': {'workspaceCode': 'WAPOR_2',\n",
              "  'code': '69718885-1e11-43a8-ab6d-aa502c931d99',\n",
              "  'type': 'AREA STATS',\n",
              "  'priority': 20,\n",
              "  'additionalInfo': {'cube': {'code': 'L1_PCP_E',\n",
              "    'workspaceCode': 'WAPOR_2',\n",
              "    'language': 'en'},\n",
              "   'dimensions': [{'code': 'DAY', 'range': '[2009-01-01,2019-01-01)'}],\n",
              "   'measures': ['WATER_MM'],\n",
              "   'shape': {'type': 'Polygon',\n",
              "    'properties': {'name': 'EPSG:4326'},\n",
              "    'coordinates': [[[37.95883206252312, 7.89534],\n",
              "      [37.95883206252312, 12.3873979377346],\n",
              "      [43.32093, 12.3873979377346],\n",
              "      [43.32093, 7.89534],\n",
              "      [37.95883206252312, 7.89534]]]}},\n",
              "  'userId': 'R6NHnGyt4TOzu3mvOkmxM8RLE2u1',\n",
              "  'created': '2023-06-26 19:43:32',\n",
              "  'status': 'WAITING',\n",
              "  'links': [{'rel': 'self',\n",
              "    'href': 'https://io.apps.fao.org/gismgr/api/v1/catalog/workspaces/WAPOR_2/jobs/69718885-1e11-43a8-ab6d-aa502c931d99'}]}}"
            ]
          },
          "metadata": {},
          "execution_count": 30
        }
      ],
      "source": [
        "resp_query=requests.post(path_query,headers={'Authorization':'Bearer {0}'.format(AccessToken)},\n",
        "                                          json=query_areatimeseries)\n",
        "resp_query = resp_query.json()\n",
        "resp_query"
      ]
    },
    {
      "cell_type": "markdown",
      "id": "8817f818",
      "metadata": {
        "id": "8817f818"
      },
      "source": [
        "Unlike PointTimeSeries query, the AreaStatsTimeSeries query will not respond with timeseries data directly, but it will provide an url of the request (job)."
      ]
    },
    {
      "cell_type": "code",
      "execution_count": 31,
      "id": "af53e444",
      "metadata": {
        "id": "af53e444",
        "outputId": "05c1f2d3-d60c-41fe-9f65-55d42d14c92d",
        "colab": {
          "base_uri": "https://localhost:8080/",
          "height": 35
        }
      },
      "outputs": [
        {
          "output_type": "execute_result",
          "data": {
            "text/plain": [
              "'https://io.apps.fao.org/gismgr/api/v1/catalog/workspaces/WAPOR_2/jobs/69718885-1e11-43a8-ab6d-aa502c931d99'"
            ],
            "application/vnd.google.colaboratory.intrinsic+json": {
              "type": "string"
            }
          },
          "metadata": {},
          "execution_count": 31
        }
      ],
      "source": [
        "job_url=resp_query['response']['links'][0]['href']\n",
        "\n",
        "job_url"
      ]
    },
    {
      "cell_type": "markdown",
      "id": "db435780",
      "metadata": {
        "id": "db435780"
      },
      "source": [
        "We use this url in a GET request to get the results of the areal statistics computation."
      ]
    },
    {
      "cell_type": "code",
      "execution_count": 32,
      "id": "42c03b07",
      "metadata": {
        "id": "42c03b07",
        "outputId": "a8ac1365-0bf1-4af0-90e1-87deaedd10f4",
        "colab": {
          "base_uri": "https://localhost:8080/"
        }
      },
      "outputs": [
        {
          "output_type": "execute_result",
          "data": {
            "text/plain": [
              "{'requestId': 'ada30dd3-c228-44bc-a6a4-2c13e23530e5',\n",
              " 'timestamp': 1687808612163,\n",
              " 'runtime': 3,\n",
              " 'status': 200,\n",
              " 'message': 'OK',\n",
              " 'response': {'workspaceCode': 'WAPOR_2',\n",
              "  'code': '69718885-1e11-43a8-ab6d-aa502c931d99',\n",
              "  'type': 'AREA STATS',\n",
              "  'priority': 20,\n",
              "  'additionalInfo': {'cube': {'code': 'L1_PCP_E',\n",
              "    'workspaceCode': 'WAPOR_2',\n",
              "    'language': 'en'},\n",
              "   'dimensions': [{'code': 'DAY', 'range': '[2009-01-01,2019-01-01)'}],\n",
              "   'measures': ['WATER_MM'],\n",
              "   'shape': {'type': 'Polygon',\n",
              "    'properties': {'name': 'EPSG:4326'},\n",
              "    'coordinates': [[[37.95883206252312, 7.89534],\n",
              "      [37.95883206252312, 12.3873979377346],\n",
              "      [43.32093, 12.3873979377346],\n",
              "      [43.32093, 7.89534],\n",
              "      [37.95883206252312, 7.89534]]]}},\n",
              "  'userId': 'R6NHnGyt4TOzu3mvOkmxM8RLE2u1',\n",
              "  'created': '2023-06-26 19:43:32',\n",
              "  'status': 'WAITING',\n",
              "  'links': [{'rel': 'self',\n",
              "    'href': 'https://io.apps.fao.org/gismgr/api/v1/catalog/workspaces/WAPOR_2/jobs/69718885-1e11-43a8-ab6d-aa502c931d99'}]}}"
            ]
          },
          "metadata": {},
          "execution_count": 32
        }
      ],
      "source": [
        "resp = requests.get(job_url)\n",
        "resp=resp.json()\n",
        "resp"
      ]
    },
    {
      "cell_type": "markdown",
      "id": "64ec4b00",
      "metadata": {
        "id": "64ec4b00"
      },
      "source": [
        "It will take some time for the calculation to be finished. When it is finished, the response status will be changed from 'RUNNING' to 'COMPLETED' or 'COMPLETED WITH ERRORS'. If it is COMPLETED, the area time series results can be achieved from Response 'output'.\n",
        "\n",
        "We can use a WHILE loop to check when the *\"job\"* is done."
      ]
    },
    {
      "cell_type": "code",
      "execution_count": 33,
      "id": "576471fe",
      "metadata": {
        "id": "576471fe",
        "outputId": "2c6f45f5-e0e4-468b-91c5-d5c4f3594ded",
        "colab": {
          "base_uri": "https://localhost:8080/",
          "height": 441
        }
      },
      "outputs": [
        {
          "output_type": "stream",
          "name": "stdout",
          "text": [
            "RUNNING . . . . . . . . . . . . . . . . . . . . . . . . . . . . . . . . . . . . . . . . . . . . . . . . . . . . . . . . . . . . . . . . . . . . . . . . . . . . . "
          ]
        },
        {
          "output_type": "execute_result",
          "data": {
            "text/plain": [
              "             day       avg  min  max  range\n",
              "0     2009-01-01  0.000157  0.0  0.3    0.3\n",
              "1     2009-01-02  0.000251  0.0  0.5    0.5\n",
              "2     2009-01-03  0.000292  0.0  0.6    0.6\n",
              "3     2009-01-04  0.000000  0.0  0.0    0.0\n",
              "4     2009-01-05  0.000616  0.0  0.3    0.3\n",
              "...          ...       ...  ...  ...    ...\n",
              "3647  2018-12-27  0.145076  0.0  6.5    6.5\n",
              "3648  2018-12-28  0.425117  0.0  7.2    7.2\n",
              "3649  2018-12-29  0.112115  0.0  6.4    6.4\n",
              "3650  2018-12-30  0.105399  0.0  6.4    6.4\n",
              "3651  2018-12-31  0.345734  0.0  9.6    9.6\n",
              "\n",
              "[3652 rows x 5 columns]"
            ],
            "text/html": [
              "\n",
              "  <div id=\"df-ffe4f2ff-aad4-4029-8d5a-c287948aa499\">\n",
              "    <div class=\"colab-df-container\">\n",
              "      <div>\n",
              "<style scoped>\n",
              "    .dataframe tbody tr th:only-of-type {\n",
              "        vertical-align: middle;\n",
              "    }\n",
              "\n",
              "    .dataframe tbody tr th {\n",
              "        vertical-align: top;\n",
              "    }\n",
              "\n",
              "    .dataframe thead th {\n",
              "        text-align: right;\n",
              "    }\n",
              "</style>\n",
              "<table border=\"1\" class=\"dataframe\">\n",
              "  <thead>\n",
              "    <tr style=\"text-align: right;\">\n",
              "      <th></th>\n",
              "      <th>day</th>\n",
              "      <th>avg</th>\n",
              "      <th>min</th>\n",
              "      <th>max</th>\n",
              "      <th>range</th>\n",
              "    </tr>\n",
              "  </thead>\n",
              "  <tbody>\n",
              "    <tr>\n",
              "      <th>0</th>\n",
              "      <td>2009-01-01</td>\n",
              "      <td>0.000157</td>\n",
              "      <td>0.0</td>\n",
              "      <td>0.3</td>\n",
              "      <td>0.3</td>\n",
              "    </tr>\n",
              "    <tr>\n",
              "      <th>1</th>\n",
              "      <td>2009-01-02</td>\n",
              "      <td>0.000251</td>\n",
              "      <td>0.0</td>\n",
              "      <td>0.5</td>\n",
              "      <td>0.5</td>\n",
              "    </tr>\n",
              "    <tr>\n",
              "      <th>2</th>\n",
              "      <td>2009-01-03</td>\n",
              "      <td>0.000292</td>\n",
              "      <td>0.0</td>\n",
              "      <td>0.6</td>\n",
              "      <td>0.6</td>\n",
              "    </tr>\n",
              "    <tr>\n",
              "      <th>3</th>\n",
              "      <td>2009-01-04</td>\n",
              "      <td>0.000000</td>\n",
              "      <td>0.0</td>\n",
              "      <td>0.0</td>\n",
              "      <td>0.0</td>\n",
              "    </tr>\n",
              "    <tr>\n",
              "      <th>4</th>\n",
              "      <td>2009-01-05</td>\n",
              "      <td>0.000616</td>\n",
              "      <td>0.0</td>\n",
              "      <td>0.3</td>\n",
              "      <td>0.3</td>\n",
              "    </tr>\n",
              "    <tr>\n",
              "      <th>...</th>\n",
              "      <td>...</td>\n",
              "      <td>...</td>\n",
              "      <td>...</td>\n",
              "      <td>...</td>\n",
              "      <td>...</td>\n",
              "    </tr>\n",
              "    <tr>\n",
              "      <th>3647</th>\n",
              "      <td>2018-12-27</td>\n",
              "      <td>0.145076</td>\n",
              "      <td>0.0</td>\n",
              "      <td>6.5</td>\n",
              "      <td>6.5</td>\n",
              "    </tr>\n",
              "    <tr>\n",
              "      <th>3648</th>\n",
              "      <td>2018-12-28</td>\n",
              "      <td>0.425117</td>\n",
              "      <td>0.0</td>\n",
              "      <td>7.2</td>\n",
              "      <td>7.2</td>\n",
              "    </tr>\n",
              "    <tr>\n",
              "      <th>3649</th>\n",
              "      <td>2018-12-29</td>\n",
              "      <td>0.112115</td>\n",
              "      <td>0.0</td>\n",
              "      <td>6.4</td>\n",
              "      <td>6.4</td>\n",
              "    </tr>\n",
              "    <tr>\n",
              "      <th>3650</th>\n",
              "      <td>2018-12-30</td>\n",
              "      <td>0.105399</td>\n",
              "      <td>0.0</td>\n",
              "      <td>6.4</td>\n",
              "      <td>6.4</td>\n",
              "    </tr>\n",
              "    <tr>\n",
              "      <th>3651</th>\n",
              "      <td>2018-12-31</td>\n",
              "      <td>0.345734</td>\n",
              "      <td>0.0</td>\n",
              "      <td>9.6</td>\n",
              "      <td>9.6</td>\n",
              "    </tr>\n",
              "  </tbody>\n",
              "</table>\n",
              "<p>3652 rows × 5 columns</p>\n",
              "</div>\n",
              "      <button class=\"colab-df-convert\" onclick=\"convertToInteractive('df-ffe4f2ff-aad4-4029-8d5a-c287948aa499')\"\n",
              "              title=\"Convert this dataframe to an interactive table.\"\n",
              "              style=\"display:none;\">\n",
              "        \n",
              "  <svg xmlns=\"http://www.w3.org/2000/svg\" height=\"24px\"viewBox=\"0 0 24 24\"\n",
              "       width=\"24px\">\n",
              "    <path d=\"M0 0h24v24H0V0z\" fill=\"none\"/>\n",
              "    <path d=\"M18.56 5.44l.94 2.06.94-2.06 2.06-.94-2.06-.94-.94-2.06-.94 2.06-2.06.94zm-11 1L8.5 8.5l.94-2.06 2.06-.94-2.06-.94L8.5 2.5l-.94 2.06-2.06.94zm10 10l.94 2.06.94-2.06 2.06-.94-2.06-.94-.94-2.06-.94 2.06-2.06.94z\"/><path d=\"M17.41 7.96l-1.37-1.37c-.4-.4-.92-.59-1.43-.59-.52 0-1.04.2-1.43.59L10.3 9.45l-7.72 7.72c-.78.78-.78 2.05 0 2.83L4 21.41c.39.39.9.59 1.41.59.51 0 1.02-.2 1.41-.59l7.78-7.78 2.81-2.81c.8-.78.8-2.07 0-2.86zM5.41 20L4 18.59l7.72-7.72 1.47 1.35L5.41 20z\"/>\n",
              "  </svg>\n",
              "      </button>\n",
              "      \n",
              "  <style>\n",
              "    .colab-df-container {\n",
              "      display:flex;\n",
              "      flex-wrap:wrap;\n",
              "      gap: 12px;\n",
              "    }\n",
              "\n",
              "    .colab-df-convert {\n",
              "      background-color: #E8F0FE;\n",
              "      border: none;\n",
              "      border-radius: 50%;\n",
              "      cursor: pointer;\n",
              "      display: none;\n",
              "      fill: #1967D2;\n",
              "      height: 32px;\n",
              "      padding: 0 0 0 0;\n",
              "      width: 32px;\n",
              "    }\n",
              "\n",
              "    .colab-df-convert:hover {\n",
              "      background-color: #E2EBFA;\n",
              "      box-shadow: 0px 1px 2px rgba(60, 64, 67, 0.3), 0px 1px 3px 1px rgba(60, 64, 67, 0.15);\n",
              "      fill: #174EA6;\n",
              "    }\n",
              "\n",
              "    [theme=dark] .colab-df-convert {\n",
              "      background-color: #3B4455;\n",
              "      fill: #D2E3FC;\n",
              "    }\n",
              "\n",
              "    [theme=dark] .colab-df-convert:hover {\n",
              "      background-color: #434B5C;\n",
              "      box-shadow: 0px 1px 3px 1px rgba(0, 0, 0, 0.15);\n",
              "      filter: drop-shadow(0px 1px 2px rgba(0, 0, 0, 0.3));\n",
              "      fill: #FFFFFF;\n",
              "    }\n",
              "  </style>\n",
              "\n",
              "      <script>\n",
              "        const buttonEl =\n",
              "          document.querySelector('#df-ffe4f2ff-aad4-4029-8d5a-c287948aa499 button.colab-df-convert');\n",
              "        buttonEl.style.display =\n",
              "          google.colab.kernel.accessAllowed ? 'block' : 'none';\n",
              "\n",
              "        async function convertToInteractive(key) {\n",
              "          const element = document.querySelector('#df-ffe4f2ff-aad4-4029-8d5a-c287948aa499');\n",
              "          const dataTable =\n",
              "            await google.colab.kernel.invokeFunction('convertToInteractive',\n",
              "                                                     [key], {});\n",
              "          if (!dataTable) return;\n",
              "\n",
              "          const docLinkHtml = 'Like what you see? Visit the ' +\n",
              "            '<a target=\"_blank\" href=https://colab.research.google.com/notebooks/data_table.ipynb>data table notebook</a>'\n",
              "            + ' to learn more about interactive tables.';\n",
              "          element.innerHTML = '';\n",
              "          dataTable['output_type'] = 'display_data';\n",
              "          await google.colab.output.renderOutput(dataTable, element);\n",
              "          const docLink = document.createElement('div');\n",
              "          docLink.innerHTML = docLinkHtml;\n",
              "          element.appendChild(docLink);\n",
              "        }\n",
              "      </script>\n",
              "    </div>\n",
              "  </div>\n",
              "  "
            ]
          },
          "metadata": {},
          "execution_count": 33
        }
      ],
      "source": [
        "i=0\n",
        "print('RUNNING',end=\" \")\n",
        "while i==0:\n",
        "    resp = requests.get(job_url)\n",
        "    resp=resp.json()\n",
        "\n",
        "    if resp['response']['status']=='RUNNING':\n",
        "        print('.',end =\" \")\n",
        "    if resp['response']['status']=='COMPLETED':\n",
        "        results=resp['response']['output']\n",
        "        df=pd.DataFrame(results['items'],columns=results['header'])\n",
        "        i=1\n",
        "    if resp['response']['status']=='COMPLETED WITH ERRORS':\n",
        "        print(resp['response']['log'])\n",
        "        i=1\n",
        "df"
      ]
    },
    {
      "cell_type": "markdown",
      "id": "dcacfcf6",
      "metadata": {
        "id": "dcacfcf6"
      },
      "source": [
        "The output includes average, minimum, maximum, and range of all the pixels within the defined area."
      ]
    },
    {
      "cell_type": "code",
      "execution_count": 34,
      "id": "f15d5600",
      "metadata": {
        "id": "f15d5600",
        "outputId": "8826f627-92a2-4c72-a8c5-1f6e09710c06",
        "colab": {
          "base_uri": "https://localhost:8080/",
          "height": 468
        }
      },
      "outputs": [
        {
          "output_type": "execute_result",
          "data": {
            "text/plain": [
              "<Axes: xlabel='day'>"
            ]
          },
          "metadata": {},
          "execution_count": 34
        },
        {
          "output_type": "display_data",
          "data": {
            "text/plain": [
              "<Figure size 640x480 with 1 Axes>"
            ],
            "image/png": "[encoded data removed]"
          },
          "metadata": {}
        }
      ],
      "source": [
        "df.index=pd.to_datetime(df.day,format='%Y-%m-%d')\n",
        "df.plot()"
      ]
    },
    {
      "cell_type": "markdown",
      "id": "59f0f293",
      "metadata": {
        "id": "59f0f293"
      },
      "source": [
        "# 7. Get cropped raster<a name=\"raster\"></a>"
      ]
    },
    {
      "cell_type": "markdown",
      "id": "4f2379e4",
      "metadata": {
        "id": "4f2379e4"
      },
      "source": [
        "With the REST API, we can also request the server to crop a raster layer to our area of interest. Similar to the previous type of query, we will also need to authorize our access and have an access token.\n",
        "\n",
        "If you have run [Section 6](#area), you should have an access token ready."
      ]
    },
    {
      "cell_type": "code",
      "execution_count": 35,
      "id": "955d01cf",
      "metadata": {
        "id": "955d01cf",
        "outputId": "bc561e98-0f6f-461a-e3fa-a5cf1db2027e",
        "colab": {
          "base_uri": "https://localhost:8080/",
          "height": 122
        }
      },
      "outputs": [
        {
          "output_type": "execute_result",
          "data": {
            "text/plain": [
              "'eyJhbGciOiJSUzI1NiIsImtpZCI6IjhkMDNhZTdmNDczZjJjNmIyNTI3NmMwNjM2MGViOTk4ODdlMjNhYTkiLCJ0eXAiOiJKV1QifQ.eyJuYW1lIjoiQmljaCBUcmFuIiwicGljdHVyZSI6Imh0dHBzOi8vbGg0Lmdvb2dsZXVzZXJjb250ZW50LmNvbS8tQkxvTDhOYUVLNm8vQUFBQUFBQUFBQUkvQUFBQUFBQUFCTDgvMlFJTzFRQUlxbW8vcGhvdG8uanBnIiwiaXNzIjoiaHR0cHM6Ly9zZWN1cmV0b2tlbi5nb29nbGUuY29tL3VuZmFvLWFwcHMtZGV2IiwiYXVkIjoidW5mYW8tYXBwcy1kZXYiLCJhdXRoX3RpbWUiOjE2ODc4MDg2MTEsInVzZXJfaWQiOiJSNk5Ibkd5dDRUT3p1M212T2tteE04UkxFMnUxIiwic3ViIjoiUjZOSG5HeXQ0VE96dTNtdk9rbXhNOFJMRTJ1MSIsImlhdCI6MTY4NzgwODYxMSwiZXhwIjoxNjg3ODEyMjExLCJlbWFpbCI6ImJpY2h0bjk0QGdtYWlsLmNvbSIsImVtYWlsX3ZlcmlmaWVkIjp0cnVlLCJmaXJlYmFzZSI6eyJpZGVudGl0aWVzIjp7Imdvb2dsZS5jb20iOlsiMTAyMTY0MjA1NjAzMjU1NDMxMjQzIl0sImVtYWlsIjpbImJpY2h0bjk0QGdtYWlsLmNvbSJdfSwic2lnbl9pbl9wcm92aWRlciI6ImN1c3RvbSJ9fQ.xoq_vMJRVmsN3j7jLulh1j8I9SvN6qHU5UUENym_vwJBXwPdvCjAhFz31oMXxKcyfEcNZ-fFHcDCE8QpDlKUY9PAOcdYR6SG3PMAQEWezTNB0chQwx3r7QlIyMIlHnSZbjuCbHbPlql8sN9j0r4WcySnTPX7DvDftE6IoXlyH7yVcZtRBuozIhDVnmQ-b6SSJt6EVTQNELyV1n3-3NuwyWDLhNVNN918m7zDwHNKXJ6TWQfpYqd3iG8yEA-Vucx2j6NDlAOTiXACec1N-7stAMj4AhjBgnRHNaBHzmcDMiH9Jif51ZPcKadYMn80zv2T5LlOSz97VW6AVlNgS4vRkQ'"
            ],
            "application/vnd.google.colaboratory.intrinsic+json": {
              "type": "string"
            }
          },
          "metadata": {},
          "execution_count": 35
        }
      ],
      "source": [
        "AccessToken"
      ]
    },
    {
      "cell_type": "markdown",
      "id": "c03186c9",
      "metadata": {
        "id": "c03186c9"
      },
      "source": [
        "We will write a query payload with these information:\n",
        "- Workspace code\n",
        "- Datacube code\n",
        "- Measure\n",
        "- Dimensions\n",
        "- Polygon coordinates"
      ]
    },
    {
      "cell_type": "code",
      "execution_count": 36,
      "id": "933eda3a",
      "metadata": {
        "id": "933eda3a",
        "outputId": "23eddfae-ff7e-476f-8954-8157def5e582",
        "colab": {
          "base_uri": "https://localhost:8080/",
          "height": 98
        }
      },
      "outputs": [
        {
          "output_type": "stream",
          "name": "stdout",
          "text": [
            "MEASURE:  WATER_MM\n"
          ]
        },
        {
          "output_type": "execute_result",
          "data": {
            "text/plain": [
              "    code caption workspaceCode  hierarchical  type  index  \\\n",
              "0  MONTH   Month       WAPOR_2         False  TIME      1   \n",
              "\n",
              "                                               links  \n",
              "0  [{'rel': 'self', 'href': 'https://io.apps.fao....  "
            ],
            "text/html": [
              "\n",
              "  <div id=\"df-7e81cd35-2c95-4f86-ad84-68b5372cbc8b\">\n",
              "    <div class=\"colab-df-container\">\n",
              "      <div>\n",
              "<style scoped>\n",
              "    .dataframe tbody tr th:only-of-type {\n",
              "        vertical-align: middle;\n",
              "    }\n",
              "\n",
              "    .dataframe tbody tr th {\n",
              "        vertical-align: top;\n",
              "    }\n",
              "\n",
              "    .dataframe thead th {\n",
              "        text-align: right;\n",
              "    }\n",
              "</style>\n",
              "<table border=\"1\" class=\"dataframe\">\n",
              "  <thead>\n",
              "    <tr style=\"text-align: right;\">\n",
              "      <th></th>\n",
              "      <th>code</th>\n",
              "      <th>caption</th>\n",
              "      <th>workspaceCode</th>\n",
              "      <th>hierarchical</th>\n",
              "      <th>type</th>\n",
              "      <th>index</th>\n",
              "      <th>links</th>\n",
              "    </tr>\n",
              "  </thead>\n",
              "  <tbody>\n",
              "    <tr>\n",
              "      <th>0</th>\n",
              "      <td>MONTH</td>\n",
              "      <td>Month</td>\n",
              "      <td>WAPOR_2</td>\n",
              "      <td>False</td>\n",
              "      <td>TIME</td>\n",
              "      <td>1</td>\n",
              "      <td>[{'rel': 'self', 'href': 'https://io.apps.fao....</td>\n",
              "    </tr>\n",
              "  </tbody>\n",
              "</table>\n",
              "</div>\n",
              "      <button class=\"colab-df-convert\" onclick=\"convertToInteractive('df-7e81cd35-2c95-4f86-ad84-68b5372cbc8b')\"\n",
              "              title=\"Convert this dataframe to an interactive table.\"\n",
              "              style=\"display:none;\">\n",
              "        \n",
              "  <svg xmlns=\"http://www.w3.org/2000/svg\" height=\"24px\"viewBox=\"0 0 24 24\"\n",
              "       width=\"24px\">\n",
              "    <path d=\"M0 0h24v24H0V0z\" fill=\"none\"/>\n",
              "    <path d=\"M18.56 5.44l.94 2.06.94-2.06 2.06-.94-2.06-.94-.94-2.06-.94 2.06-2.06.94zm-11 1L8.5 8.5l.94-2.06 2.06-.94-2.06-.94L8.5 2.5l-.94 2.06-2.06.94zm10 10l.94 2.06.94-2.06 2.06-.94-2.06-.94-.94-2.06-.94 2.06-2.06.94z\"/><path d=\"M17.41 7.96l-1.37-1.37c-.4-.4-.92-.59-1.43-.59-.52 0-1.04.2-1.43.59L10.3 9.45l-7.72 7.72c-.78.78-.78 2.05 0 2.83L4 21.41c.39.39.9.59 1.41.59.51 0 1.02-.2 1.41-.59l7.78-7.78 2.81-2.81c.8-.78.8-2.07 0-2.86zM5.41 20L4 18.59l7.72-7.72 1.47 1.35L5.41 20z\"/>\n",
              "  </svg>\n",
              "      </button>\n",
              "      \n",
              "  <style>\n",
              "    .colab-df-container {\n",
              "      display:flex;\n",
              "      flex-wrap:wrap;\n",
              "      gap: 12px;\n",
              "    }\n",
              "\n",
              "    .colab-df-convert {\n",
              "      background-color: #E8F0FE;\n",
              "      border: none;\n",
              "      border-radius: 50%;\n",
              "      cursor: pointer;\n",
              "      display: none;\n",
              "      fill: #1967D2;\n",
              "      height: 32px;\n",
              "      padding: 0 0 0 0;\n",
              "      width: 32px;\n",
              "    }\n",
              "\n",
              "    .colab-df-convert:hover {\n",
              "      background-color: #E2EBFA;\n",
              "      box-shadow: 0px 1px 2px rgba(60, 64, 67, 0.3), 0px 1px 3px 1px rgba(60, 64, 67, 0.15);\n",
              "      fill: #174EA6;\n",
              "    }\n",
              "\n",
              "    [theme=dark] .colab-df-convert {\n",
              "      background-color: #3B4455;\n",
              "      fill: #D2E3FC;\n",
              "    }\n",
              "\n",
              "    [theme=dark] .colab-df-convert:hover {\n",
              "      background-color: #434B5C;\n",
              "      box-shadow: 0px 1px 3px 1px rgba(0, 0, 0, 0.15);\n",
              "      filter: drop-shadow(0px 1px 2px rgba(0, 0, 0, 0.3));\n",
              "      fill: #FFFFFF;\n",
              "    }\n",
              "  </style>\n",
              "\n",
              "      <script>\n",
              "        const buttonEl =\n",
              "          document.querySelector('#df-7e81cd35-2c95-4f86-ad84-68b5372cbc8b button.colab-df-convert');\n",
              "        buttonEl.style.display =\n",
              "          google.colab.kernel.accessAllowed ? 'block' : 'none';\n",
              "\n",
              "        async function convertToInteractive(key) {\n",
              "          const element = document.querySelector('#df-7e81cd35-2c95-4f86-ad84-68b5372cbc8b');\n",
              "          const dataTable =\n",
              "            await google.colab.kernel.invokeFunction('convertToInteractive',\n",
              "                                                     [key], {});\n",
              "          if (!dataTable) return;\n",
              "\n",
              "          const docLinkHtml = 'Like what you see? Visit the ' +\n",
              "            '<a target=\"_blank\" href=https://colab.research.google.com/notebooks/data_table.ipynb>data table notebook</a>'\n",
              "            + ' to learn more about interactive tables.';\n",
              "          element.innerHTML = '';\n",
              "          dataTable['output_type'] = 'display_data';\n",
              "          await google.colab.output.renderOutput(dataTable, element);\n",
              "          const docLink = document.createElement('div');\n",
              "          docLink.innerHTML = docLinkHtml;\n",
              "          element.appendChild(docLink);\n",
              "        }\n",
              "      </script>\n",
              "    </div>\n",
              "  </div>\n",
              "  "
            ]
          },
          "metadata": {},
          "execution_count": 36
        }
      ],
      "source": [
        "cube_code='L2_AETI_M'\n",
        "workspace='WAPOR_2'\n",
        "outputFileName='L2_AETI_M_201701_clipped.tif'\n",
        "\n",
        "#get datacube measure\n",
        "cube_url=f'https://io.apps.fao.org/gismgr/api/v1/catalog/workspaces/{workspace}/cubes/{cube_code}/measures'\n",
        "resp=requests.get(cube_url).json()\n",
        "measure=resp['response']['items'][0]['code']\n",
        "print('MEASURE: ',measure)\n",
        "\n",
        "#get datacube time dimension\n",
        "cube_url=f'https://io.apps.fao.org/gismgr/api/v1/catalog/workspaces/{workspace}/cubes/{cube_code}/dimensions'\n",
        "resp=requests.get(cube_url).json()\n",
        "items=pd.DataFrame.from_dict(resp['response']['items'])\n",
        "items"
      ]
    },
    {
      "cell_type": "markdown",
      "id": "20d7b364",
      "metadata": {
        "id": "20d7b364"
      },
      "source": [
        "For the Actual Evapotranspiration and Interception layer, there is MONTH dimension. We will define which month we want to request raster. For example, we will get the raster data of January 2017."
      ]
    },
    {
      "cell_type": "code",
      "execution_count": 37,
      "id": "67fe9f56",
      "metadata": {
        "id": "67fe9f56"
      },
      "outputs": [],
      "source": [
        "month=\"[2017-01-01,2017-02-01)\""
      ]
    },
    {
      "cell_type": "markdown",
      "id": "03ef7e45",
      "metadata": {
        "id": "03ef7e45"
      },
      "source": [
        "For this example, we will the same area of interest as [Section 6](#area)"
      ]
    },
    {
      "cell_type": "code",
      "execution_count": 38,
      "id": "e444485d",
      "metadata": {
        "id": "e444485d",
        "outputId": "fc6ec4cd-7dcf-4220-fea4-bf1d17d1b75c",
        "colab": {
          "base_uri": "https://localhost:8080/"
        }
      },
      "outputs": [
        {
          "output_type": "execute_result",
          "data": {
            "text/plain": [
              "[[37.95883206252312, 7.89534],\n",
              " [37.95883206252312, 12.3873979377346],\n",
              " [43.32093, 12.3873979377346],\n",
              " [43.32093, 7.89534],\n",
              " [37.95883206252312, 7.89534]]"
            ]
          },
          "metadata": {},
          "execution_count": 38
        }
      ],
      "source": [
        "Polygon"
      ]
    },
    {
      "cell_type": "markdown",
      "id": "2515cd4f",
      "metadata": {
        "id": "2515cd4f"
      },
      "source": [
        "Now, we will write these information in a payload."
      ]
    },
    {
      "cell_type": "code",
      "execution_count": 39,
      "id": "5884d567",
      "metadata": {
        "id": "5884d567",
        "outputId": "7e57a713-a24b-4a74-a686-72867e6bd787",
        "colab": {
          "base_uri": "https://localhost:8080/"
        }
      },
      "outputs": [
        {
          "output_type": "execute_result",
          "data": {
            "text/plain": [
              "{'type': 'CropRaster',\n",
              " 'params': {'properties': {'outputFileName': 'L2_AETI_M_201701_clipped.tif',\n",
              "   'cutline': True,\n",
              "   'tiled': True,\n",
              "   'compressed': True,\n",
              "   'overviews': True},\n",
              "  'cube': {'code': 'L2_AETI_M', 'workspaceCode': 'WAPOR_2', 'language': 'en'},\n",
              "  'dimensions': [{'code': 'MONTH', 'values': ['[2017-01-01,2017-02-01)']}],\n",
              "  'measures': ['WATER_MM'],\n",
              "  'shape': {'type': 'Polygon',\n",
              "   'coordinates': [[[37.95883206252312, 7.89534],\n",
              "     [37.95883206252312, 12.3873979377346],\n",
              "     [43.32093, 12.3873979377346],\n",
              "     [43.32093, 7.89534],\n",
              "     [37.95883206252312, 7.89534]]]}}}"
            ]
          },
          "metadata": {},
          "execution_count": 39
        }
      ],
      "source": [
        "query_payload={\n",
        "  \"type\": \"CropRaster\",\n",
        "  \"params\": {\n",
        "    \"properties\": {\n",
        "      \"outputFileName\": outputFileName,\n",
        "      \"cutline\": True,\n",
        "      \"tiled\": True,\n",
        "      \"compressed\": True,\n",
        "      \"overviews\": True\n",
        "    },\n",
        "    \"cube\": {\n",
        "      \"code\": cube_code,\n",
        "      \"workspaceCode\": workspace,\n",
        "      \"language\": \"en\"\n",
        "    },\n",
        "    \"dimensions\": [\n",
        "      {\n",
        "        \"code\": \"MONTH\",\n",
        "        \"values\": [\n",
        "          month\n",
        "        ]\n",
        "      }\n",
        "    ],\n",
        "    \"measures\": [\n",
        "      measure\n",
        "    ],\n",
        "    \"shape\": {\n",
        "      \"type\": \"Polygon\",\n",
        "      \"coordinates\": [Polygon]\n",
        "    }\n",
        "  }\n",
        "}\n",
        "\n",
        "query_payload"
      ]
    },
    {
      "cell_type": "markdown",
      "id": "3ac7c850",
      "metadata": {
        "id": "3ac7c850"
      },
      "source": [
        "Similar to Section 6, we will use POST method and obtain an url for our request."
      ]
    },
    {
      "cell_type": "code",
      "execution_count": 40,
      "id": "96011a40",
      "metadata": {
        "id": "96011a40",
        "outputId": "a367d88b-4ed3-40b0-ade3-da51ad0fbd6e",
        "colab": {
          "base_uri": "https://localhost:8080/",
          "height": 35
        }
      },
      "outputs": [
        {
          "output_type": "execute_result",
          "data": {
            "text/plain": [
              "'https://io.apps.fao.org/gismgr/api/v1/catalog/workspaces/WAPOR_2/jobs/87a1759c-783f-42bc-8e6e-ab335ba714db'"
            ],
            "application/vnd.google.colaboratory.intrinsic+json": {
              "type": "string"
            }
          },
          "metadata": {},
          "execution_count": 40
        }
      ],
      "source": [
        "resp_query=requests.post(path_query,headers={'Authorization':'Bearer {0}'.format(AccessToken)},\n",
        "                                          json=query_payload)\n",
        "resp_query = resp_query.json()\n",
        "job_url=resp_query['response']['links'][0]['href']\n",
        "\n",
        "job_url"
      ]
    },
    {
      "cell_type": "markdown",
      "id": "a6fb1a4f",
      "metadata": {
        "id": "a6fb1a4f"
      },
      "source": [
        "We have to wait the job to be completed."
      ]
    },
    {
      "cell_type": "code",
      "execution_count": 41,
      "id": "91e2cb66",
      "metadata": {
        "id": "91e2cb66",
        "outputId": "2cfa7a0f-c173-46e5-b1e5-0c667401d4cb",
        "colab": {
          "base_uri": "https://localhost:8080/"
        }
      },
      "outputs": [
        {
          "output_type": "stream",
          "name": "stdout",
          "text": [
            "RUNNING . . . . . . . . . . . . . . . . . . . . . . . . . . . . . . . . . . . . . . . . . . . . . . . . . . . . . . . . . . . . . . . . . . . . . . . . . . . . . . . . . . . . . . . . . . . . . . . . . . . . . . . . . . . . . . . . . . . . . . . . . . . . . . . . . . . . . . . . . . . . . . . . . . . . . . . . . . . . . . . . . . . . . . . . . . . . . . . . . . . . . . . . . . . . . . . . . . . . . . . . . . . . . . . . . . . . . . . . . . . . . . . . . . . . . . . . . . . . . . . . . . . . . . . . . . . . . . . . . . . . . . . . . . . . . . . . . . . . . . . . . . . . . . . . . . . . . . . . . . . . . . . . . . . . . . . . . . . . . . . . . . . . . . . . . . . . . . . . . . . . . . . . . . . . . . . . . . . . . . . . . . . . . . . . . . . . . . . . . . . . . . . . . . . . . . . . . . . . . . . . . . . . . . . . . . . . . . . . . . . . . . . . . . . . . . . . . . . . . . . . . . . . . . . . . . . . . . . . . . . . . . . . . . . . . . . . . . . . . . . . . . . . . . . . . . . . . . . . . . . . . . . . . . . . . . . . . . . . . . . . . . . . . . . . . . . . . . . . . . . . . . . . . . . . . . . . . . . . . . . . . . . . . . . . . . . . . . . . . . . . . . . . . . . . . . . . . . . . . . . . . . . . . . . . . . . . . . . . . . . . . . . . . . . . . . . . . . . . . . . . . . . . . . . . . . . . . . . . . . . . . . . . . . . . . . . . . . . . . . . . . . . . . . . . . . . . . . . . . . . . . . . . . . . . . . . . . . . . . . . . . . . . . . . . . . . . . . . . . . . . . . . . . . . . . . . . . . . . . . . . . . . . . . . . . . . . . . . . . . . . . . . . . . . . . . . . . . . . . . . . . . . . . . . . . . . . . . . . . . . . . . . . . . . . . . . . . . . . . . . . . . . . . . . . . . . . . . . . . . . . . . . . . . . . . . . . . . . . . . {'downloadUrl': 'https://io.apps.fao.org/gismgr/download/6d1f74b9-b8c9-4deb-918c-2787a5e779a5/L2_AETI_M_201701_clipped.tif'}\n"
          ]
        }
      ],
      "source": [
        "i=0\n",
        "print('RUNNING',end=\" \")\n",
        "while i==0:\n",
        "    resp = requests.get(job_url)\n",
        "    resp=resp.json()\n",
        "\n",
        "    if resp['response']['status']=='RUNNING':\n",
        "        print('.',end =\" \")\n",
        "    if resp['response']['status']=='COMPLETED':\n",
        "        results=resp['response']['output']\n",
        "        print(resp['response']['output'])\n",
        "        i=1\n",
        "    if resp['response']['status']=='COMPLETED WITH ERRORS':\n",
        "        print(resp['response']['log'])\n",
        "        i=1"
      ]
    },
    {
      "cell_type": "markdown",
      "id": "aa8ef653",
      "metadata": {
        "id": "aa8ef653"
      },
      "source": [
        "After that, the response will contain an url to geoTIFF file in the output."
      ]
    },
    {
      "cell_type": "code",
      "execution_count": 42,
      "id": "660a1000",
      "metadata": {
        "id": "660a1000",
        "outputId": "7e892826-867e-4541-abf4-747f021e97fd",
        "colab": {
          "base_uri": "https://localhost:8080/",
          "height": 35
        }
      },
      "outputs": [
        {
          "output_type": "execute_result",
          "data": {
            "text/plain": [
              "'https://io.apps.fao.org/gismgr/download/6d1f74b9-b8c9-4deb-918c-2787a5e779a5/L2_AETI_M_201701_clipped.tif'"
            ],
            "application/vnd.google.colaboratory.intrinsic+json": {
              "type": "string"
            }
          },
          "metadata": {},
          "execution_count": 42
        }
      ],
      "source": [
        "raster_url=resp['response']['output']['downloadUrl']\n",
        "raster_url"
      ]
    },
    {
      "cell_type": "markdown",
      "id": "51b30585",
      "metadata": {
        "id": "51b30585"
      },
      "source": [
        "We can now use this url to download the cropped raster."
      ]
    },
    {
      "cell_type": "code",
      "execution_count": 43,
      "id": "8b67dd2a",
      "metadata": {
        "id": "8b67dd2a"
      },
      "outputs": [],
      "source": [
        "import os\n",
        "\n",
        "if not os.path.exists('data'):\n",
        "    os.makedirs('data')\n",
        "\n",
        "response = requests.get(raster_url)\n",
        "file_path = os.path.join('./data',outputFileName)\n",
        "\n",
        "if response.status_code == 200:\n",
        "    with open(file_path, 'wb') as file:\n",
        "        file.write(response.content)"
      ]
    },
    {
      "cell_type": "markdown",
      "id": "11fb0801",
      "metadata": {
        "id": "11fb0801"
      },
      "source": [
        "Then, we can visualize the raster using rasterio."
      ]
    },
    {
      "cell_type": "code",
      "source": [
        "!pip install rasterio"
      ],
      "metadata": {
        "id": "Pocz1eCcVIqV",
        "outputId": "3e2e2a19-b5ef-43b7-b411-1b6f49f496a2",
        "colab": {
          "base_uri": "https://localhost:8080/"
        }
      },
      "id": "Pocz1eCcVIqV",
      "execution_count": 44,
      "outputs": [
        {
          "output_type": "stream",
          "name": "stdout",
          "text": [
            "Looking in indexes: https://pypi.org/simple, https://us-python.pkg.dev/colab-wheels/public/simple/\n",
            "Collecting rasterio\n",
            "  Downloading rasterio-1.3.7-cp310-cp310-manylinux_2_17_x86_64.manylinux2014_x86_64.whl (21.3 MB)\n",
            "\u001b[2K     \u001b[90m━━━━━━━━━━━━━━━━━━━━━━━━━━━━━━━━━━━━━━━━\u001b[0m \u001b[32m21.3/21.3 MB\u001b[0m \u001b[31m60.7 MB/s\u001b[0m eta \u001b[36m0:00:00\u001b[0m\n",
            "\u001b[?25hCollecting affine (from rasterio)\n",
            "  Downloading affine-2.4.0-py3-none-any.whl (15 kB)\n",
            "Requirement already satisfied: attrs in /usr/local/lib/python3.10/dist-packages (from rasterio) (23.1.0)\n",
            "Requirement already satisfied: certifi in /usr/local/lib/python3.10/dist-packages (from rasterio) (2023.5.7)\n",
            "Requirement already satisfied: click>=4.0 in /usr/local/lib/python3.10/dist-packages (from rasterio) (8.1.3)\n",
            "Requirement already satisfied: cligj>=0.5 in /usr/local/lib/python3.10/dist-packages (from rasterio) (0.7.2)\n",
            "Requirement already satisfied: numpy>=1.18 in /usr/local/lib/python3.10/dist-packages (from rasterio) (1.22.4)\n",
            "Collecting snuggs>=1.4.1 (from rasterio)\n",
            "  Downloading snuggs-1.4.7-py3-none-any.whl (5.4 kB)\n",
            "Requirement already satisfied: click-plugins in /usr/local/lib/python3.10/dist-packages (from rasterio) (1.1.1)\n",
            "Requirement already satisfied: setuptools in /usr/local/lib/python3.10/dist-packages (from rasterio) (67.7.2)\n",
            "Requirement already satisfied: pyparsing>=2.1.6 in /usr/local/lib/python3.10/dist-packages (from snuggs>=1.4.1->rasterio) (3.1.0)\n",
            "Installing collected packages: snuggs, affine, rasterio\n",
            "Successfully installed affine-2.4.0 rasterio-1.3.7 snuggs-1.4.7\n"
          ]
        }
      ]
    },
    {
      "cell_type": "code",
      "source": [
        "import rasterio\n",
        "from rasterio.plot import show\n",
        "\n",
        "# open the raster layer\n",
        "aeti = rasterio.open(file_path, driver='GTiff')\n",
        "\n",
        "# print the metadata\n",
        "print(aeti.meta)\n",
        "\n",
        "# plot the map\n",
        "show(aeti, title='AETI')"
      ],
      "metadata": {
        "id": "TZ-fGaMaU7m2",
        "outputId": "e1d38fb5-9c74-49e4-8943-bafc53d4ac9c",
        "colab": {
          "base_uri": "https://localhost:8080/",
          "height": 504
        }
      },
      "id": "TZ-fGaMaU7m2",
      "execution_count": 45,
      "outputs": [
        {
          "output_type": "stream",
          "name": "stdout",
          "text": [
            "{'driver': 'GTiff', 'dtype': 'int16', 'nodata': -9999.0, 'width': 5405, 'height': 4528, 'count': 1, 'crs': CRS.from_epsg(4326), 'transform': Affine(0.000992063492, 0.0, 37.95882934644399,\n",
            "       0.0, -0.000992063492, 12.387400809704005)}\n"
          ]
        },
        {
          "output_type": "display_data",
          "data": {
            "text/plain": [
              "<Figure size 640x480 with 1 Axes>"
            ],
            "image/png": "[encoded data removed]"
          },
          "metadata": {}
        },
        {
          "output_type": "execute_result",
          "data": {
            "text/plain": [
              "<Axes: title={'center': 'AETI'}>"
            ]
          },
          "metadata": {},
          "execution_count": 45
        }
      ]
    },
    {
      "cell_type": "markdown",
      "id": "688eef17",
      "metadata": {
        "id": "688eef17"
      },
      "source": [
        "# 8. Get crop water productivity<a name=\"wp\"></a>"
      ]
    },
    {
      "cell_type": "markdown",
      "id": "fc322ff2",
      "metadata": {
        "id": "fc322ff2"
      },
      "source": [
        "WaPOR database provide Gross Biomass Water Productivity, which is the Total Biomass Production divided by Actual Evapotranspiration and Interception (AETI). In case of crop-specific water productivity, it is calculated as the crop yield (kg/ha) divided by AETI (m$^3$/ha) over the growing season. The crop yield is calculated by multiplying Total Biomass Production crop parameters:\n",
        "\n",
        "$Yield = TBP * cropMultiplier = TBP * LUE * HI * AoT / (1 - Θ)$\n",
        "\n",
        "Where\n",
        "1. Light Use Efficiency (LUE) is a coefficient for the efficiency by which vegetation converts energy\n",
        "into biomass. A fixed value of 2.7 is applied to cropland in WaPOR and, through this interface,\n",
        "the value is multiplied by 1.8 for C4 crops, which have higher LUE.\n",
        "2. The Harvest Index (HI) indicates how much of the biomass production contributes to the harvestable fraction of a crop (yield). It is expressed as the ratio of weight of dry grains over the above-ground dry matter.\n",
        "3. Above ground over Total biomass (AoT) ratio is influenced by several factors, including root development.\n",
        "4. The Moisture content ratio (θ) allows for converting fresh yield into dry yield by accounting for water content in harvested product.\n",
        "\n",
        "\n",
        "We can request this computation directly using WaPOR API when the crop parameters and growing season are known."
      ]
    },
    {
      "cell_type": "code",
      "source": [
        "waterProductivity=\"GBWP\" #\"GBWP\" or \"NBWP\"\n",
        "cropMultiplier=0.5\n",
        "startSeason=\"2015-01\" # \"YYYY-DK\" (Dekad)\n",
        "endSeason= \"2015-18\" # \"YYYY-DK\" (Dekad)\n",
        "resolution=\"100m\" #\"250m\" or \"100m\" , maybe \"30m\" works for some area"
      ],
      "metadata": {
        "id": "aynZSPjGKA3q"
      },
      "id": "aynZSPjGKA3q",
      "execution_count": 46,
      "outputs": []
    },
    {
      "cell_type": "markdown",
      "source": [
        "We will write these parameters into a query payload. The query type is CustomWaterProductivity.\n",
        "\n",
        "We will use the same Polygon in the previous example."
      ],
      "metadata": {
        "id": "sbdM5w9xOrSe"
      },
      "id": "sbdM5w9xOrSe"
    },
    {
      "cell_type": "code",
      "source": [
        "query_payload ={\n",
        "  \"type\": \"CustomWaterProductivity\",\n",
        "  \"params\": {\n",
        "    \"waterProductivity\": waterProductivity, #\"GBWP\" or \"NBWP\"\n",
        "    \"resolution\": resolution, #\"250m\" or \"100m\" , maybe \"30m\" works for some area\n",
        "    \"startSeason\": startSeason, # \"YYYY-DK\" (Dekad)\n",
        "    \"endSeason\": endSeason, # \"YYYY-DK\" (Dekad),\n",
        "    \"cropMultiplier\":cropMultiplier,\n",
        "    \"shape\": {\n",
        "      \"type\": \"Polygon\", #define coordinates of the area in geojson format\n",
        "      \"coordinates\": [Polygon]\n",
        "    }\n",
        "  }\n",
        "}"
      ],
      "metadata": {
        "id": "4KSTmy-8MwY0"
      },
      "id": "4KSTmy-8MwY0",
      "execution_count": 49,
      "outputs": []
    },
    {
      "cell_type": "markdown",
      "source": [
        "For this query, we wil the same AccessToken as before. Similar to the previous section, we will also get job_url in the response of POST query."
      ],
      "metadata": {
        "id": "uWhxv7zpOzkG"
      },
      "id": "uWhxv7zpOzkG"
    },
    {
      "cell_type": "code",
      "source": [
        "resp_query=requests.post(path_query,headers={'Authorization':'Bearer {0}'.format(AccessToken)},\n",
        "                                          json=query_payload)\n",
        "resp_query = resp_query.json()\n",
        "job_url=resp_query['response']['links'][0]['href']\n",
        "\n",
        "job_url"
      ],
      "metadata": {
        "id": "YXzdOyV-NHhl",
        "outputId": "3ee0e8e8-cc6a-415b-ca1b-cf85699ae1c6",
        "colab": {
          "base_uri": "https://localhost:8080/",
          "height": 35
        }
      },
      "id": "YXzdOyV-NHhl",
      "execution_count": 52,
      "outputs": [
        {
          "output_type": "execute_result",
          "data": {
            "text/plain": [
              "'https://io.apps.fao.org/gismgr/api/v1/catalog/workspaces/WAPOR_2/jobs/96639652-2a8a-4bdd-bfbb-838bb618d9ef'"
            ],
            "application/vnd.google.colaboratory.intrinsic+json": {
              "type": "string"
            }
          },
          "metadata": {},
          "execution_count": 52
        }
      ]
    },
    {
      "cell_type": "markdown",
      "source": [
        "After the computation is completed, the response will contain the url to download 3 rasters. The raster files for download are named as in the following example:\n",
        "\n",
        "- L2_AETI_1931_2009.tif = Total actual evapotranspiration and interception generated between dekad 31 in 2019 and dekad 09 in 2020 (1st of December 2019 – 31 March 2020) in m³/ha;\n",
        "- L2_TBP_1931_2009.tif = Yield generated in the same growing season, in kg/ha;\n",
        "- L2_GBWP_1931_2009.tif = Crop Water Productivity, with a scaling factor of 1000."
      ],
      "metadata": {
        "id": "zCK8VNYxPCf6"
      },
      "id": "zCK8VNYxPCf6"
    },
    {
      "cell_type": "code",
      "source": [
        "i=0\n",
        "print('RUNNING',end=\" \")\n",
        "while i==0:\n",
        "    resp = requests.get(job_url)\n",
        "    resp=resp.json()\n",
        "\n",
        "    if resp['response']['status']=='RUNNING':\n",
        "        print('.',end =\" \")\n",
        "    if resp['response']['status']=='COMPLETED':\n",
        "        results=resp['response']['output']\n",
        "        print('Link to download GBWP',results['bwpDownloadUrl'])\n",
        "        print('Link to download TBP',results['tbpDownloadUrl'])\n",
        "        print('Link to download AETI',results['wtrDownloadUrl'])\n",
        "        i=1\n",
        "    if resp['response']['status']=='COMPLETED WITH ERRORS':\n",
        "        print(resp['response']['log'])\n",
        "        i=1"
      ],
      "metadata": {
        "id": "JzmtqD4rNKIt",
        "outputId": "0f13099e-9870-4131-82f3-0a94f9a423eb",
        "colab": {
          "base_uri": "https://localhost:8080/"
        }
      },
      "id": "JzmtqD4rNKIt",
      "execution_count": null,
      "outputs": [
        {
          "output_type": "stream",
          "name": "stdout",
          "text": [
            "RUNNING . . . . . . . . . . . . . . . . . . . . . . . . . . . . . . . . . . . . . . . . . . . . . . . . . . . . . . . . . . . . . . . . . . . . . . . . . . . . . . . . . . . . . . . . . . . . . . . . . . . . . . . . . . . . . . . . . . . . . . . . . . . . . . . . . . . . . . . . . . . . . . . . . . . . . . . . . . . . . . . . . . . . . . . . . . . . . . . . . . . . . . . . . . . . . . . . . . . . . . . . . . . . . . . . . . . . . . . . . . . . . . . . . . . . . . . . . . . . . . . . . . . . . . . . . . . . . . . . . . . . . . . . . . . . . . . . . . . . . . . . . . . . . . . . . . . . . . . . . . . . . . . . . . . . . . . . . . . . . . . . . . . . . . . . . . . . . . . . . . . . . . . . . . . . . . . . . . . . . . . . . . . . . . . . . . . . . . . . . . . . . . . . . . . . . . . . . . . . . . . . . . . . . . . . . . . . . . . . . . . . . . . . . . . . . . . . . . . . . . . . . . . . . . . . . . . . . . . . . . . . . . . . . . . . . . . . . . . . . . . . . . . . . . . . . . . . . . . . . . . . . . . . . . . . . . . . . . . . . . . . . . . . . . . . . . . . . . . . . . . . . . . . . . . . . . . . . . . . . . . . . . . . . . . . . . . . . . . . . . . . . . . . . . . . . . . . . . . . . . . . . . . . . . . . . . . . . . . . . . . . . . . . . . . . . . . . . . . . . . . . . . . . . . . . . . . . . . . . . . . . . . . . . . . . . . . . . . . . . . . . . . . . . . . . . . . . . . . . . . . . . . . . . . . . . . . . . . . . . . . . . . . . . . . . . . . . . . . . . . . . . . . . . . . . . . . . . . . . . . . . . . . . . . . . . . . . . . . . . . . . . . . . . . . . . . . . . . . . . . . . . . . . . . . . . . . . . . . . . . . . . . . . . . . . . . . . . . . . . . . . . . . . . . . . . . . . . . . . . . . . . . . . . . . . . . . . . . . . . . . . . . . . . . . . . . . . . . . . . . . . . . . . . . . . . . . . . . . . . . . . . . . . . . . . . . . . . . . . . . . . . . . . . . . . . . . . . . . . . . . . . . . . . . . . . . . . . . . . . . . . . . . . . . . . . . . . . . . . . . . . . . . . . . . . . . . . . . . . . . . . . . . . . . . . . . . . . . . . . . . . . . . . . . . . . . . . . . . . . . . . . . . . . . . . . . . . . . . . . . . . . . . . . . . . . . . . . . . . . . . . . . . . . . . . . . . . . . . . . . . . . . . . . . . . . . . . . . . . . . . . . . . . . . . . . . . . . . . . . . . . . . . . . . . . . . . . . . . . . . . . . . . . . . . . . . . . . . . . . . . . . . . . . . . . . . . . . . . . . . . . . . . . . . . . . . . . . . . . . . . . . . . . . . . . . . . . . . . . . . . . . . . . . . . . . . . . . . . . . . . . . . . . . . . . . . . . . . . . . . . . . . . . . . . . . . . . . . . . . . . . . . . . . . . . . . . . . . . . . . . . . . . . . . . . . . . . . . . . . . . . . . . . . . . . . . . . . . . . . . . . . . . . . . . . . . . . . . . . . . . . . . . . . . . . . . . . . . . . . . . . . . . . . . . . . . . . . . . . . . . . . . . . . . . . . . . . . . . . . . . . . . . . . . . . . . . . . . . . . . . . . . . . . . . . . . . . . . . . . . . . . . . . . . . . . . . . . . . . . . . . . . . . . . . . . . . . . . . . . . . . . . . . . . . . . . . . . . . . . . . . . . . . . . . . . . . . . . . . . . . . . . . . . . . . . . . . . . . . . . . . . . . . . . . . . . . . . . . . . . . . . . . . . . . . . . . . . . . . . . . . . . . . . . . . . . . . . . . . . . . . . . . . . . . . . . . . . . . . . . . . . . . . . . . . . . . . . . . . . . . . . . . . . . . . . . . . . . . . . . . . . . . . . . . . . . . . . . . . . . . . . . . . . . . . . . . . . . . . . . . . . . . . . . . . . . . . . . . . . . . . . . . . . . . . . . . . . . . . . . . . . . . . . . . . . . . . . . . . . . . . . . . . . . . . . . . . . . . . . . . . . . . . . . . . . . . . . . . . . . . . . . . . . . . . . . . . . . . . . . . . . . . . . . . . . . . . . . . . . . . . . . . . . . . . . . . . . . . . . . . . . . . . . . . . . . . . . . . . . . . . . . . . . . . . . . . . . . . . . . . . . . . . . . . . . . . . . . . . . . . . . . . . . . . . . . . . . . . . . . . . . . . . . . . . . . . . . . . . . . . . . . . . . . . . . . . . . . . . . . . . . . . . . . . . . . . . . . . . . . . . . . . . . . . . . . . . . . . . . . . . . . . . . . . . . . . . . . . . . . . . . . . . . . . . . . . . . . . . . . . . . . . . . . . . . . . . . . . . . . . . . . . . . . . . . . . . . . . . . . . . . . . . . . . . . . . . . . . . . . . . . . . . . . . . . . . . . . . . . . . . . . . . . . . . . . . . . . . . . . . . . . . . . . . . . . . . . . . . . . . . . . . . . . . . . . . . . . . . . . . . . . . . . . . . . . . . . . . . . . . . . . . . . . . . . . . . . . . . . . . . . . . . . . . . . . . . . . . . . . . . . . . . . . . . . . . . . . . . . . . . . . . . . . . . . . . . . . . . . . . . . . . . . . . . . . . . . . . . . . . . . . . . . . . . . . . . . . . . . . . . . . . . . . . . . . . . . . . . . . . . . . . . . . . . . . . . . . . . . . . . . . . . . . . . . . . . . . . . . . . . . . . . . . . . . . . . . . . . . . . . . . . . . . . . . . . . . . . . . . . . . . . . . . . . . . . . . . . . . . . . . . . . . . . . . . . . . . . . . . . . . . . . . . . . . . . . . . . . . . . . . . . . . . . . . . . . . . . . . . . . . . . . . . . . . . . . . . . . . . . . . . . . . . . . . . . . . . . . . . . . . . . . . . . . . . . . . . . . . . . . . . . . . . . . . . . . . . . . . . . . . . . . . . . . . . . . . . . . . . . . . . . . . . . . . . . . . . . . . . . . . . . . . . . . . . . . . . . . . . . . . . . . . . . . . . . . . . . . . . . . . . . . . . . . . . . . . . . . . . . . . . . . . . . . . . . . . . . . . . . . . . . . . . . . . . . . . . . . . . . . . . . . . . . . . . . . . . . . . . . . . . . . . . . . . . . . . . . . . . . . . . . . . . . . . . . . . . . . . . . . . . . . . . . . . . . . . . . . . . . . . . . . . . . . . . . . . . . . . . . . . . . . . . . . . . . . . . . . . . . . . . . . . . . . . . . . . . . . . . . . . . . . . . . . . . . . . . . . . . . . . . . . . . . . . . . . . . . . . . . . . . . . . . . . . . . . . . . . . . . . . . . . . . . . . . . . . . . . . . . . . . . . . . . . . . . . . . . . . . . . . . . . . . . . . . . . . . . . . . . . . . . . . . . . . . . . . . . . . . . . . . . . . . . . . . . . . . . . . . . . . . . . . . . . . . . . . . . . . . . . . . . . . . . . . . . . . . . . . . . . . . . . . . . . . . . . . . . . . . . . . . . . . . . . . . . . . . . . . . . . . . . . . . . . . . . . . . . . . . . . . . . . . . . . . . . . . . . . . . . . . . . . . . . . . . . . . . . . . . . . . . . . . . . . . . . . . . . . . . . . . . . . . . . . . . . . . . . . . . . . . . . . . . . . . . . . . . . . . . . . . . . . . . . . . . . . . . . . . . . . . . . . . . . . . . . . . . . . . . . . . . . . . . . . . . . . . . . . . . . . . . . . . . . . . . . . . . . . . . . . . . . . . . . . . . . . . . . . . . . . . . . . . . . . . . . . . . . . . . . . . . . . . . . . . . . . . . . . . . . . . . . . . . . . . . . . . . . . . . . . . . . . . . . . . . . . . . . . . . . . . . . . . . . . . . . . . . . . . . . . . . . . . . . . . . . . . . . . . . . . . . . . . . . . . . . . . . . . . . . . . . . . . . . . . . . . . . . . . . . . . . . . . . . . . . . . . . . . . . . . . . . . . . . . . . . . . . . . . . . . . . . . . . . . . . . . . . . . . . . . . . . . . . . . . . . . . . . . . . . . . . . . . . . . . . . . . . . . . . . . . . . . . . . . . . . . . . . . . . . . . . . . . . . . . . . . . . . . . . . . . . . . . . . . . . . . . . . . . . . . . . . . . . . . . . . . . . . . . . . . . . . . . . . . . . . . . . . . . . . . . . . . . . . . . . . . . . . . . . . . . . . . . . . . . . . . . . . . . . . . . . . . . . . . . . . . . . . . . . . . . . . . . . . . . . . . . . . . . . . . . . . . . . . . . . . . . . . . . . . . . . . . . . . . . . . . . . . . . . . . . . . . . . . . . . . . . . . . . . . . . . . . . . . . . . . . . . . . . . . . . . . . . . . . . . . . . . . . . . . . . . . . . . . . . . . . . . . . . . . . . . . . . . . . . . . . . . . . . . . . . . . . . . . . . . . . . . . . . . . . . . . . . . . . . . . . . . . . . . . . . . . . . . . . . . . . . . . . . . . . . . . . . . . . . . . . . . . . . . . . . . . . . . . . . . . . . . . . . . . . . . . . . . . . . . . . . . . . . . . . . . . . . . . . . . . . . . . . . . . . . . . . . . . . . . . . . . . . . . . . . . . . . . . . . . . . . . . . . . . . . . . . . . . . . . . . . . . . . . . . . . . . . . . . . . . . . . . . . . . . . . . . . . . . . . . . . . . . . . . . . . . . . . . . . . . . . . . . . . . . . . . . . . . . . . . . . . . . . . . . . . . . . . . . . . . . . . . . . . . . . . . . . . . . . . . . . . . . . . . . . . . . . . . . . . . . . . . . . . . . . . . . . . . . . . . . . . . . . . . . . . . . . . . . . . . . . . . . . . . . . . . . . . . . . . . . . . . . . . . . . . . . . . . . . . . . . . . . . . . . . . . . . . . . . . . . . . . . . . . . . . . . . . . . . . . . . . . . . . . . . . . . . . . . . . . . . . . . . . . . . . . . . . . . . . . . . . . . . . . . . . . . . . . . . . . . . . . . . . . . . . . . . . . . . . . . . . . . . . . . . . . . . . . . . . . . . . . . . . . . . . . . . . . . . . . . . . . . . . . . . . . . . . . . . . . . . . . . . . . . . . . . . . . . . . . . . . . . . . . . . . . . . . . . . . . . . . . . . . . . . . . . . . . . . . . . . . . . . . . . . . . . . . . . . . . . . . . . . . . . . . . . . . . . . . . . . . . . . . . . . . . . . . . . . . . . . . . . . . . . . . . . . . . . . . . . . . . . . . . . . . . . . . . . . . . . . . . . . . . . . . . . . . . . . . . . . . . . . . . . . . . . . . . . . . . . . . . . . . . . . . . . . . . . . . . . . . . . . . . . . . . . . . . . . . . . . . . . . . . . . . . . . . . . . . . . . . . . . . . . . . . . . . . . . . . . . . . . . . . . . . . . . . . . . . . . . . . . . . . . . . . . . . . . . . . . . . . . . . . . . . . . . . . . . . . . . . . . . . . . . . . . . . . . . . . . . . . . . . . . . . . . . . . . . . . . . . . . . . . . . . . . . . . . . . . . . . . . . . . . . . . . . . . . . . . . . . . . . . . . . . . . . . . . . . . . . . . . . . . . . . . . . . . . . . . . . . . . . . . . . . . . . . . . . . . . . . . . . . . . . . . . . . . . . . . . . . . . . . . . . . . . . . . . . . . . . . . . . . . . . . . . . . . . . . . . . . . . . . . . . . . . . . . . . . . . . . . . . . . . . . . . . . . . . . . . . . . . . . . . . . . . . . . . . . . . . . . . . . . . . . . . . . . . . . . . . . . . . . . . . . . . . . . . . . . . . . . . . . . . . . . . . . . . . . . . . . . . . . . . . . . . . . . . . . . . . . . . . . . . . . . . . . . . . . . . . . . . . . . . . . . . . . . . . . . . . . . . . . . . . . . . . . . . . . . . . . . . . . . . . . . . . . . . . . . . . . . . . . . . . . . . . . . . . . . . . . . . . . . . . . . . . . . . . . . . . . . . . . . . . . . . . . . . . . . . . . . . . . . . . . . . . . . . . . . . . . . . . . . . . . . . . . . . . . . . . . . . . . . . . . . . . . . . . . . . . . . . . . . . . . . . . . . . . . . . . . . . . . . . . . . . . . . . . . . . . . . . . . . . . . . . . . . . . . . . . . . . . . . . . . . . . . . . . . . . . . . . . . . . . . . . . . . . . . . . . . . . . . . . . . . . . . . . . . . . . . . . . . . . . . . . . . . . . . . . . . . . . . . . . . . . . . . . . . . . . . . . . . . . . . . . . . . . . . . . . . . . . . . . . . . . . . . . . . . . . . . . . . . . . . . . . . . . . . . . . . . . . . . . . . . . . . . . . . . . . . . . . . . . . . . . . . . . . . . . . . . . . . . . . . . . . . . . . . . . . . . . . . . . . . . . . . . . . . . . . . . . . . . . . . . . . . . . . . . . . . . . . . . . . . . . . . . . . . . . . . . . . . . . . . . . . . . . . . . . . . . . . . . . . . . . . . . . . . . . . . . . . . . . . . . . . . . . . . . . . . . . . . . . . . . . . . . . . . . . . . . . . . . . . . . . . . . . . . . . . . . . . . . . . . . . . . . . . . . . . . . . . . . . . . . . . . . . . . . . . . . . . . . . . . . . . . . . . . . . . . . . . . . . . . . . . . . . . . . . . . . . . . . . . . . . . . . . . . . . . . . . . . . . . . . . . . . . . . . . . . . . . . . . . . . . . . . . . . . . . . . . . . . . . . . . . . . . . . . . . . . . . . . . . . . . . . . . . . . . . . . . . . . . . . . . . . . . . . . . . . . . . . . . . . . . . . . . . . . . . . . . . . . . . . . . . . . . . . . . . . . . . . . . . . . . . . . . . . . . . . . . . . . . . . . . . . . . . . . . . . . . . . . . . . . . . . . . . . . . . . . . . . . . . . . . . . . . . . . . . . . . . . . . . . . . . . . . . . . . . . . . . . . . . . . . . . . . . . . . . . . . . . . . . . . . . . . . . . . . . . . . . . . . . . . . . . . . . . . . . . . . . . . . . . . . . . . . . . . . . . . . . . . . . . . . . . . . . . . . . . . . . . . . . . . . . . . . . . . . . . . . . . . . . . . . . . . . . . . . . . . . . . . . . . . . . . . . . . . . . . . . . . . . . . . . . . . . . . . . . . . . . . . . . . . . . . . . . . . . . . . . . . . . . . . . . . . . . . . . . . . . . . . . . . . . . . . . . . . . . . . . . . . . . . . . . . . . . . . . . . . . . . . . . . . . . . . . . . . . . . . . . . . . . . . . . . . . . . . . . . . . . . . . . . . . . . . . . . . . . . . . . . . . . . . . . . . . . . . . . . . . . . . . . . . . . . . . . . . . . . . . . . . . . . . . . . . . . . . . . . . . . . . . . . . . . . . . . . . . . . . . . . . . . . . . . . . . . . . . . . . . . . . . . . . . . . . . . . . . . . . . . . . . . . . . . . . . . . . . . . . . . . . . . . . . . . . . . . . . . . . . . . . . . . . . . . . . . . . . . . . . . . . . . . . . . . . . . . . . . . . . . . . . . . . . . . . . . . . . . . . . . . . . . . . . . . . . . . . . . . . . . . . . . . . . . . . . . . . . . . . . . . . . . . . . . . . . . . . . . . . . . . . . . . . . . . . . . . . . . . . . . . . . . . . . . . . . . . . . . . . . . . . . . . . . . . . . . . . . . . . . . . . . . . . . . . . . . . . . . . . . . . . . . . . . . . . . . . . . . . . . . . . . . . . . . . . . . . . . . . . . . . . . . . . . . . . . . . . . . . . . . . . . . . . . . . . . . . . . . . . . . . . . . . . . . . . . . . . . . . . . . . . . . . . . . . . . . . . . . . . . . . . . . . . . . . . . . . . . . . . . . . . . . . . . . . . . . . . . . . . . . . . . . . . . . . . . . . . . . . . . . . . . . . . . . . . . . . . . . . . . . . . . . . . . . . . . . . . . . . . . . . . . . . . . . . . . . . . . . . . . . . . . . . . . . . . . . . . . . . . . . . . . . . . . . . . . . . . . . . . . . . . . . . . . . . . . . . . . . . . . . . . . . . . . . . . . . . . . . . . . . . . . . . . . . . . . . . . . . . . . . . . . . . . . . . . . . . . . . . . . . . . . . . . . . . . . . . . . . . . . . . . . . . . . . . . . . . . . . . . . . . . . . . . . . . . . . . . . . . . . . . . . . . . . . . . . . . . . . . . . . . . . . . . . . . . . . . . . . . . . . . . . . . . . . . . . . . . . . . . . . . . . . . . . . . . . . . . . . . . . . . . . . . . . . . . . . . . . . . . . . . . . . . . . . . . . . . . . . . . . . . . . . . . . . . . . . . . . . . . . . . . . . . . . . . . . . . . . . . . . . . . . . . . . . . . . . . . . . . . . . . . . . . . . . . . . . . . . . . . . . . . . . . . . . . . . . . . . . . . . . . . . . . . . . . . . . . . . . . . . . . . . . . . . . . . . . . . . . . . . . . . . . . . . . . . . . . . . . . . . . . . . . . . . . . . . . . . . . . . . . . . . . . . . . . . . . . . . . . . . . . . . . . . . . . . . . . . . . . . . . . . . . . . . . . . . . . . . . . . . . . . . . . . . . . . . . . . . . . . . . . . . . . . . . . . . . . . . . . . . . . . . . . . . . . . . . . . . . . . . . . . . . . . . . . . . . . . . . . . . . . . . . . . . . . . . . . . . . . . . . . . . . . . . . . . . . . . . . . . . . . . . . . . . . . . . . . . . . . . . . . . . . . . . . . . . . . . . . . . . . . . . . . . . . . . . . . . . . . . . . . . . . . . . . . . . . . . . . . . . . . . . . . . . . . . . . . . . . . . . . . . . . . . . . . . . . . . . . . . . . . . . . . . . . . . . . . . . . . . . . . . . . . . . . . . . . . . . . . . . . . . . . . . . . . . . . . . . . . . . . . . . . . . . . . . . . . . . . . . . . . . . . . . . . . . . . . . . . . . . . . . . . . . . . . . . . . . . . . . . . . . . . . . . . . . . . . . . . . . . . . . . . . . . . . . . . . . . . . . . . . . . . . . . . . . . . . . . . . . . . . . . . . . . . . . . . . . . . . . . . . . . . . . . . . . . . . . . . . . . . . . . . . . . . . . . . . . . . . . . . . . . . . . . . . . . . . . . . . . . . . . . . . . . . . . . . . . . . . . . . . . . . . . . . . . . . . . . . . . . . . . . . . . . . . . . . . . . . . . . . . . . . . . . . . . . . . . . . . . . . . . . . . . . . . . . . . . . . . . . . . . . . . . . . . . . . . . . . . . . . . . . . . . . . . . . . . . . . . . . . . . . . . . . . . . . . . . . . . . . . . . . . . . . . . . . . . . . . . . . . . . . . . . . . . . . . . . . . . . . . . . . . . . . . . . . . . . . . . . . . . . . . . . . . . . . . . . . . . . . . . . . . . . . . . . . . . . . . . . . . . . . . . . . . . . . . . . . . . . . . . . . . . . . . . . . . . . . . . . . . . . . . . . . . . . . . . . . . . . . . . . . . . . . . . . . . . . . . . . . . . . . . . . . . . . . . . . . . . . . . . . . . . . . . . . . . . . . . . . . . . . . . . . . . . . . . . . . . . . . . . . . . . . . . . . . . . . . . . . . . . . . . . . . . . . . . . . . . . . . . . . . . . . . . . . . . . . . . . . . . . . . . . . . . . . . . . . . . . . . . . . . . . . . . . . . . . . . . . . . . . . . . . . . . . . . . . . . . . . . . . . . . . . . . . . . . . . . . . . . . . . . . . . . . . . . . . . . . . . . . . . . . . . . . . . . . . . . . . . . . . . . . . . . . . . . . . . . . . . . . . . . . . . . . . . . . . . . . . . . . . . . . . . . . . . . . . . . . . . . . . . . . . . . . . . . . . . . . . . . . . . . . . . . . . . . . . . . . . . . . . . . . . . . . . . . . . . . . . . . . . . . . . . . . . . . . . . . . . . . . . . . . . . . . . . . . . . . . . . . . . . . . . . . . . . . . . . . . . . . . . . . . . . . . . . . . . . . . . . . . . . . . . . . . . . . . . . . . . . . . . . . . . . . . . . . . . . . . . . . . . . . . . . . . . . . . . . . . . . . . . . . . . . . . . . . . . . . . . . . . . . . . . . . . . . . . . . . . . . . . . . . . . . . . . . . . . . . . . . . . . . . . . . . . . . . . . . . . . . . . . . . . . . . . . . . . . . . . . . . . . . . . . . . . . . . . . . . . . . . . . . . . . . . . . . . . . . . . . . . . . . . . . . . . . . . . . . . . . . . . . . . . . . . . . . . . . . . . . . . . . . . . . . . . . . . . . . . . . . . . . . . . . . . . . . . . . . . . . . . . . . . . . . . . . . . . . . . . . . . . . . . . . . . . . . . . . . . . . . . . . . . . . . . . . . . . . . . . . . . . . . . . . . . . . . . . . . . . . . . . . . . . . . . . . . . . . . . . . . . . . . . . . . . . . . . . . . . . . . . . . . . . . . . . . . . . . . . . . . . . . . . . . . . . . . . . . . . . . . . . . . . . . . . . . . . . . . . . . . . . . . . . . . . . . . . . . . . . . . . . . . . . . . . . . . . . . . . . . . . . . . . . . . . . . . . . . . . . . . . . . . . . . . . . . . . . . . . . . . . . . . . . . . . . . . . . . . . . . . . . . . . . . . . . . . . . . . . . . . . . . . . . . . . . . . . . . . . . . . . . . . . . . . . . . . . . . . . . . . . . . . . . . . . . . . . . . . . . . . . . . . . . . . . . . . . . . . . . . . . . . . . . . . . . . . . . . . . . . . . . . . . . . . . . . . . . . . . . . . . . . . . . . . . . . . . . . . . . . . . . . . . . . . . . . . . . . . . . . . . . . . . . . . . . . . . . . . . . . . . . . . . . . . . . . . . . . . . . . . . . . . . . . . . . . . . . . . . . . . . . . . . . . . . . . . . . . . . . . . . . . . . . . . . . . . . . . . . . . . . . . . . . . . . . . . . . . . . . . . . . . . . . . . . . . . . . . . . . . . . . . . . . . . . . . . . . . . . . . . . . . . . . . . . . . . . . . . . . . . . . . . . . . . . . . . . . . . . . . . . . . . . . . . . . . . . . . . . . . . . . . . . . . . . . . . . . . . . . . . . . . . . . . . . . . . . . . . . . . . . . . . . . . . . . . . . . . . . . . . . . . . . . . . . . . . . . . . . . . . . . . . . . . . . . . . . . . . . . . . . . . . . . . . . . . . . . . . . . . . . . . . . . . . . . . . . . . . . . . . . . . . . . . . . . . . . . . . . . . . . . . . . . . . . . . . . . . . . . . . . . . . . . . . . . . . . . . . . . . . . . . . . . . . . . . . . . . . . . . . . . . . . . . . . . . . . . . . . . . . . . . . . . . . . . . . . . . . . . . . . . . . . . . . . . . . . . . . . . . . . . . . . . . . . . . . . . . . . . . . . . . . . . . . . . . . . . . . . . . . . . . . . . . . . . . . . . . . . . . . . . . . . . . . . . . . . . . . . . . . . . . . . . . . . . . . . . . . . . . . . . . . . . . . . . . . . . . . . . . . . . . . . . . . . . . . . . . . . . . . . . . . . . . . . . . . . . . . . . . . . . . . . . . . . . . . . . . . . . . . . . . . . . . . . . . . . . . . . . . . . . . . . . . . . . . . . . . . . . . . . . . . . . . . . . . . . . . . . . . . . . . . . . . . . . . . . . . . . . . . . . . . . . . . . . . . . . . . . . . . . . . . . . . . . . . . . . . . . . . . . . . . . . . . . . . . . . . . . . . . . . . . . . . . . . . . . . . . . . . . . . . . . . . . . . . . . . . . . . . . . . . . . . . . . . . . . . . . . . . . . . . . . . . . . . . . . . . . . . . . . . . . . . . . . . . . . . . . . . . . . . . . . . . . . . . . . . . . . . . . . . . . . . . . . . . . . . . . . . . . . . . . . . . . . . . . . . . . . . . . . . . . . . . . . . . . . . . . . . . . . . . . . . . . . . . . . . . . . . . . . . . . . . . . . . . . . . . . . . . . . . . . . . . . . . . . . . . . . . . . . . . . . . . . . . . . . . . . . . . . . . . . . . . . . . . . . . . . . . . . . . . . . . . . . . . . . . . . . . . . . . . . . . . . . . . . . . . . . . . . . . . . . . . . . . . . . . . . . . . . . . . . . . . . . . . . . . . . . . . . . . . . . . . . . . . . . . . . . . . . . . . . . . . . . . . . . . . . . . . . . . . . . . . . . . . . . . . . . . . . . . . . . . . . . . . . . . . . . . . . . . . . . . . . . . . . . . . . . . . . . . . . . . . . . . . . . . . . . . . . . . . . . . . . . . . . . . . . . . . . . . . . . . . . . . . . . . . . . . . . . . . . . . . . . . . . . . . . . . . . . . . . . . . . . . . . . . . . . . . . . . . . . . . . . . . . . . . . . . . . . . . . . . . . . . . . . . . . . . . . . . . . . . . . . . . . . . . . . . . . . . . . . . . . . . . . . . . . . . . . . . . . . . . . . . . . . . . . . . . . . . . . . . . . . . . . . . . . . . . . . . . . . . . . . . . . . . . . . . . . . . . . . . . . . . . . . . . . . . . . . . . . . . . . . . . . . . . . . . . . . . . . . . . . . . . . . . . . . . . . . . . . . . . . . . . . . . . . . . . . . . . . . . . . . . . . . . . . . . . . . . . . . . . . . . . . . . . . . . . . . . . . . . . . . . . . . . . . . . . . . . . . . . . . . . . . . . . . . . . . . . . . . . . . . . . . . . . . . . . . . . . . . . . . . . . . . . . . . . . . . . . . . . . . . . . . . . . . . . . . . . . . . . . . . . . . . . . . . . . . . . . . . . . . . . . . . . . . . . . . . . . . . . . . . . . . . . . . . . . . . . . . . . . . . . . . . . . . . . . . . . . . . . . . . . . . . . . . . . . . . . . . . . . . . . . . . . . . . . . . . . . . . . . . . . . . . . . . . . . . . . . . . . . . . . . . . . . . . . . . . . . . . . . . . . . . . . . . . . . . . . . . . . . . . . . . . . . . . . . . . . . . . . . . . . . . . . . . . . . . . . . . . . . . . . . . . . . . . . . . . . . . . . . . . . . . . . . . . . . . . . . . . . . . . . . . . . . . . . . . . . . . . . . . . . . . . . . . . . . . . . . . . . . . . . . . . . . . . . . . . . . . . . . . . . . . . . . . . . . . . . . . . . . . . . . . . . . . . . . . . . . . . . . . . . . . . . . . . . . . . . . . . . . . . . . . . . . . . . . . . . . . . . . . . . . . . . . . . . . . . . . . . . . . . . . . . . . . . . . . . . . . . . . . . . . . . . . . . . . . . . . . . . . . . . . . . . . . . . . . . . . . . . . . . . . . . . . . . . . . . . . . . . . . . . . . . . . . . . . . . . . . . . . . . . . . . . . . . . . . . . . . . . . . . . . . . . . . . . . . . . . . . . . . . . . . . . . . . . . . . . . . . . . . . . . . . . . . . . . . . . . . . . . . . . . . . . . . . . . . . . . . . . . . . . . . . . . . . . . . . . . . . . . . . . . . . . . . . . . . . . . . . . . . . . . . . . . . . . . . . . . . . . . . . . . . . . . . . . . . . . . . . . . . . . . . . . . . . . . . . . . . . . . . . . . . . . . . . . . . . . . . . . . . . . . . . . . . . . . . . . . . . . . . . . . . . . . . . . . . . . . . . . . . . . . . . . . . . . . . . . . . . . . . . . . . . . . . . . . . . . . . . . . . . . . . . . . . . . . . . . . . . . . . . . . . . . . . . . . . . . . . . . . . . . . . . . . . . . . . . . . . . . . . . . . . . . . . . . . . . . . . . . . . . . . . . . . . . . . . . . . . . . . . . . . . . . . . . . . . . . . . . . . . . . . . . . . . . . . . . . . . . . . . . . . . . . . . . . . . . . . . . . . . . . . . . . . . . . . . . . . . . . . . . . . . . . . . . . . . . . . . . . . . . . . . . . . . . . . . . . . . . . . . . . . . . . . . . . . . . . . . . . . . . . . . . . . . . . . . . . . . . . . . . . . . . . . . . . . . . . . . . . . . . . . . . . . . . . . . . . . . . . . . . . . . . . . . . . . . . . . . . . . . . . . . . . . . . . . . . . . . . . . . . . . . . . . . . . . . . . . . . . . . . . . . . . . . . . . . . . . . . . . . . . . . . . . . . . . . . . . . . . . . . . . . . . . . . . . . . . . . . . . . . . . . . . . . . . . . . . . . . . . . . . . . . . . . . . . . . . . . . . . . . . . . . . . . . . . . . . . . . . . . . . . . . . . . . . . . . . . . . . . . . . . . . . . . . . . . . . . . . . . . . . . . . . . . . . . . . . . . . . . . . . . . . . . . . . . . . . . . . . . . . . . . . . . . . . . . . . . . . . . . . . . . . . . . . . . . . . . . . . . . . . . . . . . . . . . . . . . . . . . . . . . . . . . . . . . . . . . . . . . . . . . . . . . . . . . . . . . . . . . . . . . . . . . . . . . . . . . . . . . . . . . . . . . . . . . . . . . . . . . . . . . . . . . . . . . . . . . . . . . . . . . . . . . . . . . . . . . . . . . . . . . . . . . . . . . . . . . . . . . . . . . . . . . . . . . . . . . . . . . . . . . . . . . . . . . . . . . . . . . . . . . . . . . . . . . . . . . . . . . . . . . . . . . . . . . . . . . . . . . . . . . . . . . . . . . . . . . . . . . . . . . . . . . . . . . . . . . . . . . . . . . . . . . . . . . . . . . . . . . . . . . . . . . . . . . . . . . . . . . . . . . . . . . . . . . . . . . . . . . . . . . . . . . . . . . . . . . . . . . . . . . . . . . . . . . . . . . . . . . . . . . . . . . . . . . . . . . . . . . . . . . . . . . . . . . . . . . . . . . . . . . . . . . . . . . . . . . . . . . . . . . . . . . . . . . . . . . . . . . . . . . . . . . . . . . . . . . . . . . . . . . . . . . . . . . . . . . . . . . . . . . . . . . . . . . . . . . . . . . . . . . . . . . . . . . . . . . . . . . . . . . . . . . . . . . . . . . . . . . . . . . . . . . . . . . . . . . . . . . . . . . . . . . . . . . . . . . . . . . . . . . . . . . . . . . . . . . . . . . . . . . . . . . . . . . . . . . . . . . . . . . . . . . . . . . . . . . . . . . . . . . . . . . . . . . . . . . . . . . . . . . . . . . . . . . . . . . . . . . . . . . . . . . . . . . . . . . . . . . . . . . . . . . . . . . . . . . . . . . . . . . . . . . . . . . . . . . . . . . . . . . . . . . . . . . . . . . . . . . . . . . . . . . . . . . . . . . . . . . . . . . . . . . . . . . . . . . . . . . . . . . . . . . . . . . . . . . . . . . . . . . . . . . . . . . . . . . . . . . . . . . . . . . . . . . . . . . . . . . . . . . . . . . . . . . . . . . . . . . . . . . . . . . . . . . . . . . . . . . . . . . . . . . . . . . . . . . . . . . . . . . . . . . . . . . . . . . . . . . . . . . . . . . . . . . . . . . . . . . . . . . . . . . . . . . . . . . . . . . . . . . . . . . . . . . . . . . . . . . . . . . . . . . . . . . . . . . . . . . . . . . . . . . . . . . . . . . . . . . . . . . . . . . . . . . . . . . . . . . . . . . . . . . . . . . . . . . . . . . . . . . . . . . . . . . . . . . . . . . . . . . . . . . . . . . . . . . . . . . . . . . . . . . . . . . . . . . . . . . . . . . . . . . . . . . . . . . . . . . . . . . . . . . . . . . . . . . . . . . . . . . . . . . . . . . . . . . . . . . . . . . . . . . . . . . . . . . . . . . . . . . . . . . . . . . . . . . . . . . . . . . . . . . . . . . . . . . . . . . . . . . . . . . . . . . . . . . . . . . . . . . . . . . . . . . . . . . . . . . . . . . . . . . . . . . . . . . . . . . . . . . . . . . . . . . . . . . . . . . . . . . . . . . . . . . . . . . . . . . . . . . . . . . . . . . . . . . . . . . . . . . . . . . . . . . . . . . . . . . . . . . . . . . . . . . . . . . . . . . . . . . . . . . . . . . . . . . . . . . . . . . . . . . . . . . . . . . . . . . . . . . . . . . . . . . . . . . . . . . . . . . . . . . . . . . . . . . . . . . . . . . . . . . . . . . . . . . . . . . . . . . . . . . . . . . . . . . . . . . . . . . . . . . . . . . . . . . . . . . . . . . . . . . . . . . . . . . . . . . . . . . . . . . . . . . . . . . . . . . . . . . . . . . . . . . . . . . . . . . . . . . . . . . . . . . . . . . . . . . . . . . . . . . . . . . . . . . . . . . . . . . . . . . . . . . . . . . . . . . . . . . . . . . . . . . . . . . . . . . . . . . . . . . . . . . . . . . . . . . . . . . . . . . . . . . . . . . . . . . . . . . . . . . . . . . . . . . . . . . . . . . . . . . . . . . . . . . . . . . . . . . . . . . . . . . . . . . . . . . . . . . . . . . . . . . . . . . . . . . . . . . . . . . . . . . . . . . . . . . . . . . . . . . . . . . . . . . . . . . . . . . . . . . . . . . . . . . . . . . . . . . . . . . . . . . . . . . . . . . . . . . . . . . . . . . . . . . . . . . . . . . . . . . . . . . . . . . . . . . . . . . . . . . . . . . . . . . . . . . . . . . . . . . . . . . . . . . . . . . . . . . . . . . . . . . . . . . . . . . . . . . . . . . . . . . . . . . . . . . . . . . . . . . . . . . . . . . . . . . . . . . . . . . . . . . . . . . . . . . . . . . . . . . . . . . . . . . . . . . . . . . . . . . . . . . . . . . . . . . . . . . . . . . . . . . . . . . . . . . . . . . . . . . . . . . . . . . . . . . . . . . . . . . . . . . . . . . . . . . . . . . . . . . . . . . . . . . . . . . . . . . . . . . . . . . . . . . . . . . . . . . . . . . . . . . . . . . . . . . . . . . . . . . . . . . . . . . . . . . . . . . . . . . . . . . . . . . . . . . . . . . . . . . . . . . . . . . . . . . . . . . . . . . . . . . . . . . . . . . . . . . . . . . . . . . . . . . . . . . . . . . . . . . . . . . . . . . . . . . . . . . . . . . . . . . . . . . . . . . . . . . . . . . . . . . . . . . . . . . . . . . . . . . . . . . . . . . . . . . . . . . . . . . . . . . . . . . . . . . . . . . . . . . . . . . . . . . . . . . . . . . . . . . . . . . . . . . . . . . . . . . . . . . . . . . . . . . . . . . . . . . . . . . . . . . . . . . . . . . . . . . . . . . . . . . . . . . . . . . . . . . . . . . . . . . . . . . . . . . . . . . . . . . . . . . . . . . . . . . . . . . . . . . . . . . . . . . . . . . . . . . . . . . . . . . . . . . . . . . . . . . . . . . . . . . . . . . . . . . . . . . . . . . . . . . . . . . . . . . . . . . . . . . . . . . . . . . . . . . . . . . . . . . . . . . . . . . . . . . . . . . . . . . . . . . . . . . . . . . . . . . . . . . . . . . . . . . . . . . . . . . . . . . . . . . . . . . . . . . . . . . . . . . . . . . . . . . . . . . . . . . . . . . . . . . . . . . . . . . . . . . . . . . . . . . . . . . . . . . . . . . . . . . . . . . . . . . . . . . . . . . . . . . . . . . . . . . . . . . . . . . . . . . . . . . . . . . . . . . . . . . . . . . . . . . . . . . . . . . . . . . . . . . . . . . . . . . . . . . . . . . . . . . . . . . . . . . . . . . . . . . . . . . . . . . . . . . . . . . . . . . . . . . . . . . . . . . . . . . . . . . . . . . . . . . . . . . . . . . . . . . . . . . . . . . . . . . . . . . . . . . . . . . . . . . . . . . . . . . . . . . . . . . . . . . . . . . . . . . . . . . . . . . . . . . . . . . . . . . . . . . . . . . . . . . . . . . . . . . . . . . . . . . . . . . . . . . . . . . . . . . . . . . . . . . . . . . . . . . . . . . . . . . . . . . . . . . . . . . . . . . . . . . . . . . . . . . . . . . . . . . . . . . . . . . . . . . . . . . . . . . . . . . . . . . . . . . . . . . . . . . . . . . . . . . . . . . . . . . . . . . . . . . . . . . . . . . . . . . . . . . . . . . . . . . . . . . . . . . . . . . . . . . . . . . . . . . . . . . . . . . . . . . . . . . . . . . . . . . . . . . . . . . . . . . . . . . . . . . . . . . . . . . . . . . . . . . . . . . . . . . . . . . . . . . . . . . . . . . . . . . . . . . . . . . . . . . . . . . . . . . . . . . . . . . . . . . . . . . . . . . . . . . . . . . . . . . . . . . . . . . . . . . . . . . . . . . . . . . . . . . . . . . . . . . . . . . . . . . . . . . . . . . . . . . . . . . . . . . . . . . . . . . . . . . . . . . . . . . . . . . . . . . . . . . . . . . . . . . . . . . . . . . . . . . . . . . . . . . . . . . . . . . . . . . . . . . . . . . . . . . . . . . . . . . . . . . . . . . . . . . . . . . . . . . . . . . . . . . . . . . . . . . . . . . . . . . . . . . . . . . . . . . . . . . . . . . . . . . . . . . . . . . . . . . . . . . . . . . . . . . . . . . . . . . . . . . . . . . . . . . . . . . . . . . . . . . . . . . . . . . . . . . . . . . . . . . . . . . . . . . . . . . . . . . . . . . . . . . . . . . . . . . . . . . . . . . . . . . . . . . . . . . . . . . . . . . . . . . . . . . . . . . . . . . . . . . . . . . . . . . . . . . . . . . . . . . . . . . . . . . . . . . . . . . . . . . . . . . . . . . . . . . . . . . . . . . . . . . . . . . . . . . . . . . . . . . . . . . . . . . . . . . . . . . . . . . . . . . . . . . . . . . . . . . . . . . . . . . . . . . . . . . . . . . . . . . . . . . . . . . . . . . . . . . . . . . . . . . . . . . . . . . . . . . . . . . . . . . . . . . . . . . . . . . . . . . . . . . . . . . . . . . . . . . . . . . . . . . . . . . . . . . . . . . . . . . . . . . . . . . . . . . . . . . . . . . . . . . . . . . . . . . . . . . . . . . . . . . . . . . . . . . . . . . . . . . . . . . . . . . . . . . . . . . . . . . . . . . . . . . . . . . . . . . . . . . . . . . . . . . . . . . . . . . . . . . . . . . . . . . . . . . . . . . . . . . . . . . . . . . . . . . . . . . . . . . . . . . . . . . . . . . . . . . . . . . . . . . . . . . . . . . . . . . . . . . . . . . . . . . . . . . . . . . . . . . . . . . . . . . . . . . . . . . . . . . . . . . . . . . . . . . . . . . . . . . . . . . . . . . . . . . . . . . . . . . . . . . . . . . . . . . . . . . . . . . . . . . . . . . . . . . . . . . . . . . . . . . . . . . . . . . . . . . . . . . . . . . . . . . . . . . . . . . . . . . . . . . . . . . . . . . . . . . . . . . . . . . . . . . . . . . . . . . . . . . . . . . . . . . . . . . . . . . . . . . . . . . . . . . . . . . . . . . . . . . . . . . . . . . . . . . . . . . . . . . . . . . . . . . . . . . . . . . . . . . . . . . . . . . . . . . . . . . . . . . . . . . . . . . . . . . . . . . . . . . . . . . . . . . . . . . . . . . . . . . . . . . . . . . . . . . . . . . . . . . . . . . . . . . . . . . . . . . . . . . . . . . . . . . . . . . . . . . . . . . . . . . . . . . . . . . . . . . . . . . . . . . . . . . . . . . . . . . . . . . . . . . . . . . . . . . . . . . . . . . . . . . . . . . . . . . . . . . . . . . . . . . . . . . . . . . . . . . . . . . . . . . . . . . . . . . . . . . . . . . . . . . . . . . . . . . . . . . . . . . . . . . . . . . . . . . . . . . . . . . . . . . . . . . . . . . . . . . . . . . . . . . . . . . . . . . . . . . . . . . . . . . . . . . . . . . . . . . . . . . . . . . . . . . . . . . . . . . . . . . . . . . . . . . . . . . . . . . . . . . . . . . . . . . . . . . . . . . . . . . . . . . . . . . . . . . . . . . . . . . . . . . . . . . . . . . . . . . . . . . . . . . . . . . . . . . . . . . . . . . . . . . . . . . . . . . . . . . . . . . . . . . . . . . . . . . . . . . . . . . . . . . . . . . . . . . . . . . . . . . . . . . . . . . . . . . . . . . . . . . . . . . . . . . . . . . . . . . . . . . . . . . . . . . . . . . . . . . . . . . . . . . . . . . . . . . . . . . . . . . . . . . . . . . . . . . . . . . . . . . . . . . . . . . . . . . . . . . . . . . . . . . . . . . . . . . . . . . . . . . . . . . . . . . . . . . . . . . . . . . . . . . . . . . . . . . . . . . . . . . . . . . . . . . . . . . . . . . . . . . . . . . . . . . . . . . . . . . . . . . . . . . . . . . . . . . . . . . . . . . . . . . . . . . . . . . . . . . . . . . . . . . . . . . . . . . . . . . . . . . . . . . . . . . . . . . . . . . . . . . . . . . . . . . . . . . . . . . . . . . . . . . . . . . . . . . . . . . . . . . . . . . . . . . . . . . . . . . . . . . . . . . . . . . . . . . . . . . . . . . . . . . . . . . . . . . . . . . . . . . . . . . . . . . . . . . . . . . . . . . . . . . . . . . . . . . . . . . . . . . . . . . . . . . . . . . . . . . . . . . . . . . . . . . . . . . . . . . . . . . . . . . . . . . . . . . . . . . . . . . . . . . . . . . . . . . . . . . . . . . . . . . . . . . . . . . . . . . . . . . . . . . . . . . . . . . . . . . . . . . . . . . . . . . . . . . . . . . . . . . . . . . . . . . . . . . . . . . . . . . . . . . . . . . . . . . . . . . . . . . . . . . . . . . . . . . . . . . . . . . . . . . . . . . . . . . . . . . . . . . . . . . . . . . . . . . . . . . . . . . . . . . . . . . . . . . . . . . . . . . . . . . . . . . . . . . . . . . . . . . . . . . . . . . . . . . . . . . . . . . . . . . . . . . . . . . . . . . . . . . . . . . . . . . . . . . . . . . . . . . . . . . . . . . . . . . . . . . . . . . . . . . . . . . . . . . . . . . . . . . . . . . . . . . . . . . . . . . . . . . . . . . . . . . . . . . . . . . . . . . . . . . . . . . . . . . . . . . . . . . . . . . . . . . . . . . . . . . . . . . . . . . . . . . . . . . . . . . . . . . . . . . . . . . . . . . . . . . . . . . . . . . . . . . . . . . . . . . . . . . . . . . . . . . . . . . . . . . . . . . . . . . . . . . . . . . . . . . . . . . . . . . . . . . . . . . . . . . . . . . . . . . . . . . . . . . . . . . . . . . . . . . . . . . . . . . . . . . . . . . . . . . . . . . . . . . . . . . . . . . . . . . . . . . . . . . . . . . . . . . . . . . . . . . . . . . . . . . . . . . . . . . . . . . . . . . . . . . . . . . . . . . . . . . . . . . . . . . . . . . . . . . . . . . . . . . . . . . . . . . . . . . . . . . . . . . . . . . . . . . . . . . . . . . . . . . . . . . . . . . . . . . . . . . . . . . . . . . . . . . . . . . . . . . . . . . . . . . . . . . . . . . . . . . . . . . . . . . . . . . . . . . . . . . . . . . . . . . . . . . . . . . . . . . . . . . . . . . . . . . . . . . . . . . . . . . . . . . . . . . . . . . . . . . . . . . . . . . . . . . . . . . . . . . . . . . . . . . . . . . . . . . . . . . . . . . . . . . . . . . . . . . . . . . . . . . . . . . . . . . . . . . . . . . . . . . . . . . . . . . . . . . . . . . . . . . . . . . . . . . . . . . . . . . . . . . . . . . . . . . . . . . . . . . . . . . . . . . . . . . . . . . . . . . . . . . . . . . . . . . . . . . . . . . . . . . . . . . . . . . . . . . . . . . . . . . . . . . . . . . . . . . . . . . . . . . . . . . . . . . . . . . . . . . . . . . . . . . . . . . . . . . . . . . . . . . . . . . . . . . . . . . . . . . . . . . . . . . . . . . . . . . . . . . . . . . . . . . . . . . . . . . . . . . . . . . . . . . . . . . . . . . . . . . . . . . . . . . . . . . . . . . . . . . . . . . . . . . . . . . . . . . . . . . . . . . . . . . . . . . . . . . . . . . . . . . . . . . . . . . . . . . . . . . . . . . . . . . . . . . . . . . . . . . . . . . . . . . . . . . . . . . . . . . . . . . . . . . . . . . . . . . . . . . . . . . . . . . . . . . . . . . . . . . . . . . . . . . . . . . . . . . . . . . . . . . . . . . . . . . . . . . . . . . . . . . . . . . . . . . . . . . . . . . . . . . . . . . . . . . . . . . . . . . . . . . . . . . . . . . . . . . . . . . . . . . . . . . . . . . . . . . . . . . . . . . . . . . . . . . . . . . . . . . . . . . . . . . . . . . . . . . . . . . . . . . . . . . . . . . . . . . . . . . . . . . . . . . . . . . . . . . . . . . . . . . . . . . . . . . . . . . . . . . . . . . . . . . . . . . . . . . . . . . . . . . . . . . . . . . . . . . . . . . . . . . . . . . . . . . . . . . . . . . . . . . . . . . . . . . . . . . . . . . . . . . . . . . . . . . . . . . . . . . . . . . . . . . . . . . . . . . . . . . . . . . . . . . . . . . . . . . . . . . . . . . . . . . . . . . . . . . . . . . . . . . . . . . . . . . . . . . . . . . . . . . . . . . . . . . . . . . . . . . . . . . . . . . . . . . . . . . . . . . . . . . . . . . . . . . . . . . . . . . . . . . . . . . . . . . . . . . . . . . . . . . . . . . . . . . . . . . . . . . . . . . . . . . . . . . . . . . . . . . . . . . . . . . . . . . . . . . . . . . . . . . . . . . . . . . . . . . . . . . . . . . . . . . . . . . . . . . . . . . . . . . . . . . . . . . . . . . . . . . . . . . . . . . . . . . . . . . . . . . . . . . . . . . . . . . . . . . . . . . . . . . . . . . . . . . . . . . . . . . . . . . . . . . . . . . . . . . . . . . . . . . . . . . . . . . . . . . . . . . . . . . . . . . . . . . . . . . . . . . . . . . . . . . . . . . . . . . . . . . . . . . . . . . . . . . . . . . . . . . . . . . . . . . . . . . . . . . . . . . . . . . . . . . . . . . . . . . . . . . . . . . . . . . . . . . . . . . . . . . . . . . . . . . . . . . . . . . . . . . . . . . . . . . . . . . . . . . . . . . . . . . . . . . . . . . . . . . . . . . . . . . . . . . . . . . . . . . . . . . . . . . . . . . . . . . . . . . . . . . . . . . . . . . . . . . . . . . . . . . . . . . . . . . . . . . . . . . . . . . . . . . . . . . . . . . . . . . . . . . . . . . . . . . . . . . . . . . . . . . . . . . . . . . . . . . . . . . . . . . . . . . . . . . . . . . . . . . . . . . . . . . . . . . . . . . . . . . . . . . . . . . . . . . . . . . . . . . . . . . . . . . . . . . . . . . . . . . . . . . . . . . . . . . . . . . . . . . . . . . . . . . . . . . . . . . . . . . . . . . . . . . . . . . . . . . . . . . . . . . . . . . . . . . . . . . . . . . . . . . . . . . . . . . . . . . . . . . . . . . . . . . . . . . . . . . . . . . . . . . . . . . . . . . . . . . . . . . . . . . . . . . . . . . . . . . . . . . . . . . . . . . . . . . . . . . . . . . . . . . . . . . . . . . . . . . . . . . . . . . . . . . . . . . . . . . . . . . . . . . . . . . . . . . . . . . . . . . . . . . . . . . . . . . . . . . . . . . . . . . . . . . . . . . . . . . . . . . . . . . . . . . . . . . . . . . . . . . . . . . . . . . . . . . . . . . . . . . . . . . . . . . . . . . . . . . . . . . . . . . . . . . . . . . . . . . . . . . . . . . . . . . . . . . . . . . . . . . . . . . . . . . . . . . . . . . . . . . . . . . . . . . . . . . . . . . . . . . . . . . . . . . . . . . . . . . . . . . . . . . . . . . . . . . . . . . . . . . . . . . . . . . . . . . . . . . . . . . . . . . . . . . . . . . . . . . . . . . . . . . . . . . . . . . . . . . . . . . . . . . . . . . . . . . . . . . . . . . . . . . . . . . . . . . . . . . . . . . . . . . . . . . . . . . . . . . . . . . . . . . . . . . . . . . . . . . . . . . . . . . . . . . . . . . . . . . . . . . . . . . . . . . . . . . . . . . . . . . . . . . . . . . . . . . . . . . . . . . . . . . . . . . . . . . . . . . . . . . . . . . . . . . . . . . . . . . . . . . . . . . . . . . . . . . . . . . . . . . . . . . . . . . . . . . . . . . . . . . . . . . . . . . . . . . . . . . . . . . . . . . . . . . . . . . . . . . . . . . . . . . . . . . . . . . . . . . . . . . . . . . . . . . . . . . . . . . . . . . . . . . . . . . . . . . . . . . . . . . . . . . . . . . . . . . . . . . . . . . . . . . . . . . . . . . . . . . . . . . . . . . . . . . . . . . . . . . . . . . . . . . . . . . . . . . . . . . . . . . . . . . . . . . . . . . . . . . . . . . . . . . . . . . . . . . . . . . . . . . . . . . . . . . . . . . . . . . . . . . . . . . . . . . . . . . . . . . . . . . . . . . . . . . . . . . . . . . . . . . . . . . . . . . . . . . . . . . . . . . . . . . . . . . . . . . . . . . . . . . . . . . . . . . . . . . . . . . . . . . . . . . . . . . . . . . . . . . . . . . . . . . . . . . . . . . . . . . . . . . . . . . . . . . . . . . . . . . . . . . . . . . . . . . . . . . . . . . . . . . . . . . . . . . . . . . . . . . . . . . . . . . . . . . . . . . . . . . . . . . . . . . . . . . . . . . . . . . . . . . . . . . . . . . . . . . . . . . . . . . . . . . . . . . . . . . . . . . . . . . . . . . . . . . . . . . . . . . . . . . . . . . . . . . . . . . . . . . . . . . . . . . . . . . . . . . . . . . . . . . . . . . . . . . . . . . . . . . . . . . . . . . . . . . . . . . . . . . . . . . . . . . . . . . . . . . . . . . . . . . . . . . . . . . . . . . . . . . . . . . . . . . . . . . . . . . . . . . . . . . . . . . . . . . . . . . . . . . . . . . . . . . . . . . . . . . . . . . . . . . . . . . . . . . . . . . . . . . . . . . . . . . . . . . . . . . . . . . . . . . . . . . . . . . . . . . . . . . . . . . . . . . . . . . . . . . . . . . . . . . . . . . . . . . . . . . . . . . . . . . . . . . . . . . . . . . . . . . . . . . . . . . . . . . . . . . . . . . . . . . . . . . . . . . . . . . . . . . . . . . . . . . . . . . . . . . . . . . . . . . . . . . . . . . . . . . . . . . . . . . . . . . . . . . . . . . . . . . . . . . . . . . . . . . . . . . . . . . . . . . . . . . . . . . . . . . . . . . . . . . . . . . . . . . . . . . . . . . . . . . . . . . . . . . . . . . . . . . . . . . . . . . . . . . . . . . . . . . . . . . . . . . . . . . . . . . . . . . . . . . . . . . . . . . . . . . . . . . . . . . . . . . . . . . . . . . . . . . . . . . . . . . . . . . . . . . . . . . . . . . . . . . . . . . . . . . . . . . . . . . . . . . . . . . . . . . . . . . . . . . . . . . . . . . . . . . . . . . . . . . . . . . . . . . . . . . . . . . . . . . . . . . . . . . . . . . . . . . . . . . . . . . . . . . . . . . . . . . . . . . . . . . . . . . . "
          ]
        }
      ]
    }
  ],
  "metadata": {
    "kernelspec": {
      "display_name": "Python 3 (ipykernel)",
      "language": "python",
      "name": "python3"
    },
    "language_info": {
      "codemirror_mode": {
        "name": "ipython",
        "version": 3
      },
      "file_extension": ".py",
      "mimetype": "text/x-python",
      "name": "python",
      "nbconvert_exporter": "python",
      "pygments_lexer": "ipython3",
      "version": "3.11.4"
    },
    "colab": {
      "provenance": [],
      "toc_visible": true
    }
  },
  "nbformat": 4,
  "nbformat_minor": 5
}