{
 "cells": [
  {
   "cell_type": "markdown",
   "metadata": {},
   "source": [
    "# Description\n",
    "\n",
    "This notebook is used to request computation of Water Productivity for customized season period, crop multiplier and area from WaPOR's Gross Biomass Water Productivity (GBWP) or Net Biomass Water Productivity (NBWP) layers using WaPOR API.\n",
    "\n",
    "You will need WaPOR API Token to use this notebook (See README.md)"
   ]
  },
  {
   "cell_type": "markdown",
   "metadata": {
    "colab_type": "text",
    "id": "SeLbBDiMTh2X"
   },
   "source": [
    "# Step 1: Read APIToken\n",
    "\n",
    "Get your APItoken from https://wapor.apps.fao.org/profile. Enter your API Token when running the cell below."
   ]
  },
  {
   "cell_type": "code",
   "execution_count": 1,
   "metadata": {
    "colab": {},
    "colab_type": "code",
    "id": "-TPJcW3sNzCH"
   },
   "outputs": [
    {
     "name": "stdout",
     "output_type": "stream",
     "text": [
      "Your API token: Enter Your API token\n"
     ]
    }
   ],
   "source": [
    "import requests\n",
    "import json\n",
    "\n",
    "path_query=r'https://io.apps.fao.org/gismgr/api/v1/query/'\n",
    "path_sign_in=r'https://io.apps.fao.org/gismgr/api/v1/iam/sign-in/'\n",
    "\n",
    "APIToken=input('Your API token: ')"
   ]
  },
  {
   "cell_type": "markdown",
   "metadata": {
    "colab_type": "text",
    "id": "LgJQvG49TmV6"
   },
   "source": [
    "# Step 2: Get Authorization AccessToken\n",
    "\n",
    "Using the input API token to get AccessToken for authorization"
   ]
  },
  {
   "cell_type": "code",
   "execution_count": 2,
   "metadata": {
    "colab": {
     "base_uri": "https://localhost:8080/",
     "height": 50
    },
    "colab_type": "code",
    "id": "QWZsCiGGQZOM",
    "outputId": "fecb35f9-1dc9-433c-cb77-ae2d71a6b839"
   },
   "outputs": [
    {
     "data": {
      "text/plain": [
       "'eyJhbGciOiJSUzI1NiIsImtpZCI6IjIxODQ1OWJiYTE2NGJiN2I5MWMzMjhmODkxZjBiNTY1M2UzYjM4YmYiLCJ0eXAiOiJKV1QifQ.eyJuYW1lIjoiQmljaCBUcmFuIiwicGljdHVyZSI6Imh0dHBzOi8vbGg0Lmdvb2dsZXVzZXJjb250ZW50LmNvbS8tQkxvTDhOYUVLNm8vQUFBQUFBQUFBQUkvQUFBQUFBQUFCTDgvMlFJTzFRQUlxbW8vcGhvdG8uanBnIiwiaXNzIjoiaHR0cHM6Ly9zZWN1cmV0b2tlbi5nb29nbGUuY29tL3VuZmFvLWFwcHMtZGV2IiwiYXVkIjoidW5mYW8tYXBwcy1kZXYiLCJhdXRoX3RpbWUiOjE1OTQ4MTcyMDMsInVzZXJfaWQiOiJSNk5Ibkd5dDRUT3p1M212T2tteE04UkxFMnUxIiwic3ViIjoiUjZOSG5HeXQ0VE96dTNtdk9rbXhNOFJMRTJ1MSIsImlhdCI6MTU5NDgxNzIwMywiZXhwIjoxNTk0ODIwODAzLCJlbWFpbCI6ImJpY2h0bjk0QGdtYWlsLmNvbSIsImVtYWlsX3ZlcmlmaWVkIjp0cnVlLCJmaXJlYmFzZSI6eyJpZGVudGl0aWVzIjp7Imdvb2dsZS5jb20iOlsiMTAyMTY0MjA1NjAzMjU1NDMxMjQzIl0sImVtYWlsIjpbImJpY2h0bjk0QGdtYWlsLmNvbSJdfSwic2lnbl9pbl9wcm92aWRlciI6ImN1c3RvbSJ9fQ.w13Mg-FFLhxa2oyoEs_Rr0f7yXMc4ui4IxSoCBDWY10KSMoPasAH4_24MEO_ziEEyAbsIf2QGygI3Xvs-Dd3qa7H5XuVKZqR-IPcPaygNWu9rasuA-33n8X_iSEghDsuJocuJngD2DDpjXPzQ1oa6uneuXEztA8KilQYJ5ir0EoUKffFEGp5fBXUVmvMOmxN-dVYh-VPmETXpMjNdsng_TC3YkWrbURSSIIkOu3_1ZEGxgAGhJD7BhXM8VDZxhNL_67GE52nJjVib7iykhbR8qrcw5scuZC_WWcvAyWJXjdSrJw_ZxUmtyBHNzzNLZySGbNNdSOUCTl9rod3HtI19w'"
      ]
     },
     "execution_count": 2,
     "metadata": {},
     "output_type": "execute_result"
    }
   ],
   "source": [
    "resp_signin=requests.post(path_sign_in,headers={'X-GISMGR-API-KEY':APIToken})\n",
    "resp_signin = resp_signin.json()\n",
    "AccessToken=resp_signin['response']['accessToken']\n",
    "AccessToken"
   ]
  },
  {
   "cell_type": "markdown",
   "metadata": {
    "colab_type": "text",
    "id": "Ux4ehfFEX2_o"
   },
   "source": [
    "# Step 3: Write Query Payload\n",
    "\n",
    "**Arguments** 'waterProductivity' type, 'startSeason', 'endSeason', 'resolution','shape'\n",
    "\n",
    "Read [Explanatory notes on Custom water productvity](./data/explanatory-notes.pdf) to know how to calculate cropMultiplier"
   ]
  },
  {
   "cell_type": "code",
   "execution_count": 3,
   "metadata": {},
   "outputs": [],
   "source": [
    "waterProductivity=\"GBWP\" #\"GBWP\" or \"NBWP\"\n",
    "cropMultiplier=0.5\n",
    "startSeason=\"2015-01\" # \"YYYY-DK\" (Dekad)\n",
    "endSeason= \"2015-18\" # \"YYYY-DK\" (Dekad)\n",
    "resolution=\"100m\" #\"250m\" or \"100m\" , maybe \"30m\" works for some area"
   ]
  },
  {
   "cell_type": "markdown",
   "metadata": {},
   "source": [
    "Define Polygon shape of the area of interest"
   ]
  },
  {
   "cell_type": "code",
   "execution_count": 4,
   "metadata": {},
   "outputs": [],
   "source": [
    "bbox= [37.95883206252312, 7.89534, 43.32093, 12.3873979377346] #latlon\n",
    "xmin,ymin,xmax,ymax=bbox[0],bbox[1],bbox[2],bbox[3]\n",
    "Polygon=[\n",
    "          [xmin,ymin],\n",
    "          [xmin,ymax],\n",
    "          [xmax,ymax],\n",
    "          [xmax,ymin],\n",
    "          [xmin,ymin]\n",
    "        ]"
   ]
  },
  {
   "cell_type": "code",
   "execution_count": 5,
   "metadata": {
    "colab": {
     "base_uri": "https://localhost:8080/",
     "height": 504
    },
    "colab_type": "code",
    "id": "nElLc1RKPYPy",
    "outputId": "61b4b7c2-a12c-4094-ae4b-7bc4a9331582"
   },
   "outputs": [],
   "source": [
    "query ={\n",
    "  \"type\": \"CustomWaterProductivity\",\n",
    "  \"params\": {\n",
    "    \"waterProductivity\": waterProductivity, #\"GBWP\" or \"NBWP\"\n",
    "    \"resolution\": resolution, #\"250m\" or \"100m\" , maybe \"30m\" works for some area\n",
    "    \"startSeason\": startSeason, # \"YYYY-DK\" (Dekad)\n",
    "    \"endSeason\": endSeason, # \"YYYY-DK\" (Dekad),\n",
    "    \"cropMultiplier\":cropMultiplier,\n",
    "    \"shape\": {\n",
    "      \"type\": \"Polygon\", #define coordinates of the area in geojson format\n",
    "      \"coordinates\": [Polygon]\n",
    "    }\n",
    "  }\n",
    "}"
   ]
  },
  {
   "cell_type": "markdown",
   "metadata": {},
   "source": [
    "# Step 4: Post the QueryPayload with AccessToken in Header \n",
    "\n",
    "In responses, get an url to query job. "
   ]
  },
  {
   "cell_type": "code",
   "execution_count": 6,
   "metadata": {},
   "outputs": [
    {
     "data": {
      "text/plain": [
       "'https://io.apps.fao.org/gismgr/api/v1/catalog/workspaces/WAPOR_2/jobs/e32877e8-1431-40e2-ac5e-badd445b8e8d'"
      ]
     },
     "execution_count": 6,
     "metadata": {},
     "output_type": "execute_result"
    }
   ],
   "source": [
    "resp_query=requests.post(path_query,headers={'Authorization':'Bearer {0}'.format(AccessToken)},\n",
    "                                          json=query)\n",
    "resp_query = resp_query.json()\n",
    "job_url=resp_query['response']['links'][0]['href']\n",
    "\n",
    "job_url"
   ]
  },
  {
   "cell_type": "markdown",
   "metadata": {
    "colab_type": "text",
    "id": "w9HOBa5lTyWc"
   },
   "source": [
    "# Step 5: Get Job Results.\n",
    "\n",
    "It will take some time for the job to be finished. When the job is finished, its status will be changed from 'RUNNING' to 'COMPLETED' or 'COMPLETED WITH ERRORS'. If it is COMPLETED, the url to download custom water productivity map can be achieved from Response 'output'."
   ]
  },
  {
   "cell_type": "code",
   "execution_count": 8,
   "metadata": {
    "colab": {
     "base_uri": "https://localhost:8080/",
     "height": 504
    },
    "colab_type": "code",
    "id": "bBNIuHKmRdcm",
    "outputId": "2f41f6d3-00bf-457e-c656-449fa0b73eac"
   },
   "outputs": [
    {
     "name": "stdout",
     "output_type": "stream",
     "text": [
      "RUNNING Link to download GBWP https://io.apps.fao.org/gismgr/download/1ed99653-21e6-4441-b207-7ec9f1cf41a9/L2_GBWP_1501-1518.tif\n",
      "Link to download TBP https://io.apps.fao.org/gismgr/download/1ed99653-21e6-4441-b207-7ec9f1cf41a9/L2_TBP_1501-1518.tif\n",
      "Link to download AETI https://io.apps.fao.org/gismgr/download/1ed99653-21e6-4441-b207-7ec9f1cf41a9/L2_AETI_1501-1518.tif\n"
     ]
    }
   ],
   "source": [
    "i=0\n",
    "print('RUNNING',end=\" \")\n",
    "while i==0:        \n",
    "    resp = requests.get(job_url)\n",
    "    resp=resp.json()\n",
    "    \n",
    "    if resp['response']['status']=='RUNNING':\n",
    "        print('.',end =\" \")\n",
    "    if resp['response']['status']=='COMPLETED':\n",
    "        results=resp['response']['output']\n",
    "        print('Link to download GBWP',results['bwpDownloadUrl'])\n",
    "        print('Link to download TBP',results['tbpDownloadUrl'])\n",
    "        print('Link to download AETI',results['wtrDownloadUrl'])\n",
    "        i=1\n",
    "    if resp['response']['status']=='COMPLETED WITH ERRORS':\n",
    "        print(resp['response']['log'])\n",
    "        i=1       "
   ]
  }
 ],
 "metadata": {
  "colab": {
   "collapsed_sections": [],
   "name": "WAPORAPI_CustomWaterProductivity.ipynb",
   "provenance": []
  },
  "kernelspec": {
   "display_name": "Python 3 (ipykernel)",
   "language": "python",
   "name": "python3"
  },
  "language_info": {
   "codemirror_mode": {
    "name": "ipython",
    "version": 3
   },
   "file_extension": ".py",
   "mimetype": "text/x-python",
   "name": "python",
   "nbconvert_exporter": "python",
   "pygments_lexer": "ipython3",
   "version": "3.11.4"
  }
 },
 "nbformat": 4,
 "nbformat_minor": 1
}
