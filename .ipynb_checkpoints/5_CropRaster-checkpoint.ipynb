{
 "cells": [
  {
   "cell_type": "markdown",
   "metadata": {},
   "source": [
    "# Description\n",
    "\n",
    "This notebook is used to request a cropped raster for an area of a WaPOR data layer using WaPOR API.\n",
    "\n",
    "You will need WaPOR API Token to use this notebook"
   ]
  },
  {
   "cell_type": "markdown",
   "metadata": {},
   "source": [
    "# Step 1: Read APIToken\n",
    "\n",
    "Get your APItoken from https://wapor.apps.fao.org/profile"
   ]
  },
  {
   "cell_type": "code",
   "execution_count": 1,
   "metadata": {},
   "outputs": [
    {
     "name": "stdout",
     "output_type": "stream",
     "text": [
      "Your API token: Enter your API token\n"
     ]
    }
   ],
   "source": [
    "import requests\n",
    "import pandas as pd\n",
    "\n",
    "path_query=r'https://io.apps.fao.org/gismgr/api/v1/query/'\n",
    "path_sign_in=r'https://io.apps.fao.org/gismgr/api/v1/iam/sign-in/'\n",
    "\n",
    "APIToken=input('Your API token: ')"
   ]
  },
  {
   "cell_type": "markdown",
   "metadata": {},
   "source": [
    "# Step 2: Get Authorization AccessToken\n",
    "\n",
    "Using the input API token to get AccessToken for authorization"
   ]
  },
  {
   "cell_type": "code",
   "execution_count": 2,
   "metadata": {},
   "outputs": [
    {
     "data": {
      "text/plain": [
       "'eyJhbGciOiJSUzI1NiIsImtpZCI6IjIxODQ1OWJiYTE2NGJiN2I5MWMzMjhmODkxZjBiNTY1M2UzYjM4YmYiLCJ0eXAiOiJKV1QifQ.eyJuYW1lIjoiQmljaCBUcmFuIiwicGljdHVyZSI6Imh0dHBzOi8vbGg0Lmdvb2dsZXVzZXJjb250ZW50LmNvbS8tQkxvTDhOYUVLNm8vQUFBQUFBQUFBQUkvQUFBQUFBQUFCTDgvMlFJTzFRQUlxbW8vcGhvdG8uanBnIiwiaXNzIjoiaHR0cHM6Ly9zZWN1cmV0b2tlbi5nb29nbGUuY29tL3VuZmFvLWFwcHMtZGV2IiwiYXVkIjoidW5mYW8tYXBwcy1kZXYiLCJhdXRoX3RpbWUiOjE1OTQ4MDg3MTIsInVzZXJfaWQiOiJSNk5Ibkd5dDRUT3p1M212T2tteE04UkxFMnUxIiwic3ViIjoiUjZOSG5HeXQ0VE96dTNtdk9rbXhNOFJMRTJ1MSIsImlhdCI6MTU5NDgwODcxMiwiZXhwIjoxNTk0ODEyMzEyLCJlbWFpbCI6ImJpY2h0bjk0QGdtYWlsLmNvbSIsImVtYWlsX3ZlcmlmaWVkIjp0cnVlLCJmaXJlYmFzZSI6eyJpZGVudGl0aWVzIjp7Imdvb2dsZS5jb20iOlsiMTAyMTY0MjA1NjAzMjU1NDMxMjQzIl0sImVtYWlsIjpbImJpY2h0bjk0QGdtYWlsLmNvbSJdfSwic2lnbl9pbl9wcm92aWRlciI6ImN1c3RvbSJ9fQ.bFB3eiTYgCdIuyZ3zhkP9YuxJ5F54rPPiitC9nPD6mEEbS4affIeNhtHytb_P07w2wLlNBnegETIeNVj9CivDmKfpia8viOhC3sT5STP_inva7t0_RubNQm6GjKkIFC9A35gT9Q9jdaSAWnFgc5QqLsCU9rR2m5b15O4SrIxLDgD0Ps3-OzBlYlscCWppRckteAvqhOWsi1CQEPgkwu9B7-jmUxLHg4Etk9RAbDdGhict7t_0T__5km7C-hH-6JSq2Ox3H8mHcRuE3ZXOxJndQcT-pnsx77wc0Fr9XQph8TmrwFl0SlbWTv4AujciMssu68-fMx8dnXnIHPGW7ogPA'"
      ]
     },
     "execution_count": 2,
     "metadata": {},
     "output_type": "execute_result"
    }
   ],
   "source": [
    "resp_signin=requests.post(path_sign_in,headers={'X-GISMGR-API-KEY':APIToken})\n",
    "resp_signin = resp_signin.json()\n",
    "AccessToken=resp_signin['response']['accessToken']\n",
    "AccessToken"
   ]
  },
  {
   "cell_type": "markdown",
   "metadata": {},
   "source": [
    "# Step 3: Post Query Load\n",
    "\n",
    "For more examples of areatimeseries query load \n",
    "visit https://io.apps.fao.org/gismgr/api/v1/swagger-ui/examples/AreaStatsTimeSeries.txt"
   ]
  },
  {
   "cell_type": "code",
   "execution_count": 3,
   "metadata": {},
   "outputs": [
    {
     "name": "stdout",
     "output_type": "stream",
     "text": [
      "MEASURE:  PHE\n"
     ]
    },
    {
     "data": {
      "text/html": [
       "<div>\n",
       "<style scoped>\n",
       "    .dataframe tbody tr th:only-of-type {\n",
       "        vertical-align: middle;\n",
       "    }\n",
       "\n",
       "    .dataframe tbody tr th {\n",
       "        vertical-align: top;\n",
       "    }\n",
       "\n",
       "    .dataframe thead th {\n",
       "        text-align: right;\n",
       "    }\n",
       "</style>\n",
       "<table border=\"1\" class=\"dataframe\">\n",
       "  <thead>\n",
       "    <tr style=\"text-align: right;\">\n",
       "      <th></th>\n",
       "      <th>caption</th>\n",
       "      <th>code</th>\n",
       "      <th>hierarchical</th>\n",
       "      <th>index</th>\n",
       "      <th>links</th>\n",
       "      <th>type</th>\n",
       "      <th>workspaceCode</th>\n",
       "    </tr>\n",
       "  </thead>\n",
       "  <tbody>\n",
       "    <tr>\n",
       "      <th>0</th>\n",
       "      <td>Year</td>\n",
       "      <td>YEAR</td>\n",
       "      <td>False</td>\n",
       "      <td>1</td>\n",
       "      <td>[{'rel': 'self', 'href': 'https://io.apps.fao....</td>\n",
       "      <td>TIME</td>\n",
       "      <td>WAPOR_2</td>\n",
       "    </tr>\n",
       "    <tr>\n",
       "      <th>1</th>\n",
       "      <td>Season</td>\n",
       "      <td>SEASON</td>\n",
       "      <td>False</td>\n",
       "      <td>2</td>\n",
       "      <td>[{'rel': 'self', 'href': 'https://io.apps.fao....</td>\n",
       "      <td>WHAT</td>\n",
       "      <td>WAPOR_2</td>\n",
       "    </tr>\n",
       "    <tr>\n",
       "      <th>2</th>\n",
       "      <td>Growing Stage</td>\n",
       "      <td>STAGE</td>\n",
       "      <td>False</td>\n",
       "      <td>3</td>\n",
       "      <td>[{'rel': 'self', 'href': 'https://io.apps.fao....</td>\n",
       "      <td>WHAT</td>\n",
       "      <td>WAPOR_2</td>\n",
       "    </tr>\n",
       "  </tbody>\n",
       "</table>\n",
       "</div>"
      ],
      "text/plain": [
       "         caption    code  hierarchical  index  \\\n",
       "0           Year    YEAR         False      1   \n",
       "1         Season  SEASON         False      2   \n",
       "2  Growing Stage   STAGE         False      3   \n",
       "\n",
       "                                               links  type workspaceCode  \n",
       "0  [{'rel': 'self', 'href': 'https://io.apps.fao....  TIME       WAPOR_2  \n",
       "1  [{'rel': 'self', 'href': 'https://io.apps.fao....  WHAT       WAPOR_2  \n",
       "2  [{'rel': 'self', 'href': 'https://io.apps.fao....  WHAT       WAPOR_2  "
      ]
     },
     "execution_count": 3,
     "metadata": {},
     "output_type": "execute_result"
    }
   ],
   "source": [
    "cube_code='L2_PHE_S'\n",
    "workspace='WAPOR_2'\n",
    "outputFileName='L2_PHE_17s1_s_clipped.tif'\n",
    "\n",
    "#get datacube measure\n",
    "cube_url=f'https://io.apps.fao.org/gismgr/api/v1/catalog/workspaces/{workspace}/cubes/{cube_code}/measures'\n",
    "resp=requests.get(cube_url).json()\n",
    "measure=resp['response']['items'][0]['code']\n",
    "print('MEASURE: ',measure)\n",
    "\n",
    "#get datacube time dimension\n",
    "cube_url=f'https://io.apps.fao.org/gismgr/api/v1/catalog/workspaces/{workspace}/cubes/{cube_code}/dimensions'\n",
    "resp=requests.get(cube_url).json()\n",
    "items=pd.DataFrame.from_dict(resp['response']['items'])\n",
    "items"
   ]
  },
  {
   "cell_type": "markdown",
   "metadata": {},
   "source": [
    "Set dimensions values to identify the raster data needed."
   ]
  },
  {
   "cell_type": "code",
   "execution_count": 4,
   "metadata": {},
   "outputs": [],
   "source": [
    "year=\"[2017-01-01,2018-01-01)\"\n",
    "stage=\"SOS\"\n",
    "season=\"S1\""
   ]
  },
  {
   "cell_type": "markdown",
   "metadata": {},
   "source": [
    "## Define area by coordinate extent"
   ]
  },
  {
   "cell_type": "code",
   "execution_count": 5,
   "metadata": {},
   "outputs": [],
   "source": [
    "bbox= [37.95883206252312, 7.89534, 43.32093, 12.3873979377346] #latlon\n",
    "xmin,ymin,xmax,ymax=bbox[0],bbox[1],bbox[2],bbox[3]\n",
    "Polygon=[\n",
    "          [xmin,ymin],\n",
    "          [xmin,ymax],\n",
    "          [xmax,ymax],\n",
    "          [xmax,ymin],\n",
    "          [xmin,ymin]\n",
    "        ]\n",
    "\n",
    "query={\n",
    "  \"type\": \"CropRaster\",\n",
    "  \"params\": {\n",
    "    \"properties\": {\n",
    "      \"outputFileName\": outputFileName,\n",
    "      \"cutline\": True,\n",
    "      \"tiled\": True,\n",
    "      \"compressed\": True,\n",
    "      \"overviews\": True\n",
    "    },\n",
    "    \"cube\": {\n",
    "      \"code\": cube_code,\n",
    "      \"workspaceCode\": workspace,\n",
    "      \"language\": \"en\"\n",
    "    },\n",
    "    \"dimensions\": [\n",
    "      {\n",
    "        \"code\": \"SEASON\",\n",
    "        \"values\": [\n",
    "          season\n",
    "        ]\n",
    "      },\n",
    "      {\n",
    "        \"code\": \"STAGE\",\n",
    "        \"values\": [\n",
    "          stage\n",
    "        ]\n",
    "      },\n",
    "      {\n",
    "        \"code\": \"YEAR\",\n",
    "        \"values\": [\n",
    "          year\n",
    "        ]\n",
    "      }\n",
    "    ],\n",
    "    \"measures\": [\n",
    "      measure\n",
    "    ],\n",
    "    \"shape\": {\n",
    "      \"type\": \"Polygon\",\n",
    "      \"coordinates\": [Polygon]\n",
    "    }\n",
    "  }\n",
    "}"
   ]
  },
  {
   "cell_type": "markdown",
   "metadata": {},
   "source": [
    "## Or define area by passing GeoJSON "
   ]
  },
  {
   "cell_type": "code",
   "execution_count": null,
   "metadata": {},
   "outputs": [],
   "source": [
    "import ogr\n",
    "shp_fh=r\".\\data\\Awash_shapefile.shp\"\n",
    "\n",
    "shpfile=ogr.Open(shp_fh)\n",
    "layer=shpfile.GetLayer()\n",
    "epsg_code=layer.GetSpatialRef().GetAuthorityCode(None)\n",
    "shape=layer.GetFeature(0).ExportToJson(as_object=True)['geometry']\n",
    "shape[\"properties\"]={\"name\": \"EPSG:{0}\".format(epsg_code)}#latlon projection            \n",
    "\n",
    "query={\n",
    "  \"type\": \"CropRaster\",\n",
    "  \"params\": {\n",
    "    \"properties\": {\n",
    "      \"outputFileName\": outputFileName,\n",
    "      \"cutline\": True,\n",
    "      \"tiled\": True,\n",
    "      \"compressed\": True,\n",
    "      \"overviews\": True\n",
    "    },\n",
    "    \"cube\": {\n",
    "      \"code\": cube_code,\n",
    "      \"workspaceCode\": workspace,\n",
    "      \"language\": \"en\"\n",
    "    },\n",
    "    \"dimensions\": [\n",
    "      {\n",
    "        \"code\": \"SEASON\",\n",
    "        \"values\": [\n",
    "          season\n",
    "        ]\n",
    "      },\n",
    "      {\n",
    "        \"code\": \"STAGE\",\n",
    "        \"values\": [\n",
    "          stage\n",
    "        ]\n",
    "      },\n",
    "      {\n",
    "        \"code\": \"YEAR\",\n",
    "        \"values\": [\n",
    "          year\n",
    "        ]\n",
    "      }\n",
    "    ],\n",
    "    \"measures\": [\n",
    "      measure\n",
    "    ],\n",
    "    \"shape\": shape\n",
    "  }\n",
    "}\n"
   ]
  },
  {
   "cell_type": "markdown",
   "metadata": {},
   "source": [
    "Post the QueryPayload with AccessToken in Header. In responses, get an url to query job. "
   ]
  },
  {
   "cell_type": "code",
   "execution_count": 6,
   "metadata": {
    "scrolled": true
   },
   "outputs": [
    {
     "data": {
      "text/plain": [
       "'https://io.apps.fao.org/gismgr/api/v1/catalog/workspaces/WAPOR_2/jobs/3b623bf6-33ea-4d31-92fc-1a69a800ca3a'"
      ]
     },
     "execution_count": 6,
     "metadata": {},
     "output_type": "execute_result"
    }
   ],
   "source": [
    "resp_query=requests.post(path_query,headers={'Authorization':'Bearer {0}'.format(AccessToken)},\n",
    "                                          json=query)\n",
    "resp_query = resp_query.json()\n",
    "job_url=resp_query['response']['links'][0]['href']\n",
    "\n",
    "job_url"
   ]
  },
  {
   "cell_type": "markdown",
   "metadata": {},
   "source": [
    "# Step 4: Get Job Results.\n",
    "\n",
    "It will take some time for the job to be finished. When the job is finished, its status will be changed from 'RUNNING' to 'COMPLETED' or 'COMPLETED WITH ERRORS'. If it is COMPLETED, the url to download raster can be achieved from Response 'output'."
   ]
  },
  {
   "cell_type": "code",
   "execution_count": 7,
   "metadata": {},
   "outputs": [
    {
     "name": "stdout",
     "output_type": "stream",
     "text": [
      "RUNNING . . . . . . . . . . . . . . . . . . . . . . . . . . . . . . . . . . . . . . . . . . . . . . . . . . . . . . . . . . . . . . . . . . . . {'downloadUrl': 'https://io.apps.fao.org/gismgr/download/a0d995ce-91d3-4aca-8b18-4386ce4bc8c1/L2_PHE_17s1_s_clipped.tif'}\n"
     ]
    }
   ],
   "source": [
    "i=0\n",
    "print('RUNNING',end=\" \")\n",
    "while i==0:        \n",
    "    resp = requests.get(job_url)\n",
    "    resp=resp.json()\n",
    "    \n",
    "    if resp['response']['status']=='RUNNING':\n",
    "        print('.',end =\" \")\n",
    "    if resp['response']['status']=='COMPLETED':\n",
    "        results=resp['response']['output']\n",
    "        print(resp['response']['output'])\n",
    "        i=1\n",
    "    if resp['response']['status']=='COMPLETED WITH ERRORS':\n",
    "        print(resp['response']['log'])\n",
    "        i=1       "
   ]
  }
 ],
 "metadata": {
  "kernelspec": {
   "display_name": "Python 3 (ipykernel)",
   "language": "python",
   "name": "python3"
  },
  "language_info": {
   "codemirror_mode": {
    "name": "ipython",
    "version": 3
   },
   "file_extension": ".py",
   "mimetype": "text/x-python",
   "name": "python",
   "nbconvert_exporter": "python",
   "pygments_lexer": "ipython3",
   "version": "3.11.4"
  }
 },
 "nbformat": 4,
 "nbformat_minor": 2
}
