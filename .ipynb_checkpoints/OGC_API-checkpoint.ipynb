{
 "cells": [
  {
   "cell_type": "markdown",
   "metadata": {
    "colab_type": "text",
    "id": "view-in-github"
   },
   "source": [
    "<a href=\"https://colab.research.google.com/github/jvdkwast/workshops/blob/main/OGC_API.ipynb\" target=\"_parent\"><img src=\"https://colab.research.google.com/assets/colab-badge.svg\" alt=\"Open In Colab\"/></a>"
   ]
  },
  {
   "cell_type": "markdown",
   "metadata": {
    "id": "1TT5Vkk-4qge"
   },
   "source": [
    "<div>\n",
    "<table style=\"width: 100%\">\n",
    "\t<tr>\n",
    "\t\t<td>\n",
    "\t\t<table style=\"width: 100%\">\n",
    "\t\t\t<tr>\n",
    "                <td><center><font size=\"6\"><b>Acquire spatial data through OGC API's</b></font><center></td>\n",
    "\t\t\t</tr>\n",
    "\t\t</table>\n",
    "\t\t</td>\n",
    "\t\t<td><center><img src='https://github.com/MScWSDM49/topic4/blob/main/images/ihe-delft-institute_unesco_fc-lr.jpg?raw=1'></img></td>\n",
    "\t</tr>\n",
    "</table>\n",
    "</div>"
   ]
  },
  {
   "cell_type": "markdown",
   "metadata": {
    "id": "Xd6aUONk4qgg"
   },
   "source": [
    "# Table of contents\n",
    "1. [Learning objectives](#learningobs)\n",
    "2. [Introduction](#introduction)\n",
    "3. [Accessing WCS layers](#access)\n",
    "4. [Show WCS metadata](#metadata)\n",
    "5. [Download a WCS layer](#download)\n",
    "6. [Visualise the downloaded layer](#visualise)\n",
    "\n",
    "# 1. Learning objectives<a name=\"learningobs\"></a>\n",
    "\n",
    "- To define different OGC API's\n",
    "- To access WCS layers\n",
    "- To show WCS metadata\n",
    "- To download WCS layers\n",
    "- To visualise the downloaded layer\n",
    "\n",
    "# 2. Introduction<a name=\"introduction\"></a>\n",
    "\n",
    "Many geospatial data are accessible through standards and API's from the [Open Geospatial Consortium](https://www.ogc.org/) (OGC). OGC is an international non-profit foundation, more than 500 commercial, governmental, nonprofit and research organizations collaborate in a consensus process encouraging development and implementation of open standards for geospatial content and services, sensor web and Internet of Things, GIS data processing and data sharing.\n",
    "\n",
    "The most important standards are:\n",
    "\n",
    "| **Standard** |  **Description** | **Data model** |\n",
    "|:------------:|:----------------:|:--------------:|\n",
    "| WMS          | Web Map Service  | Rendered picture of data |\n",
    "| WFS          | Web Feature Service | Vector data |\n",
    "| WCS          | Web Coverage Service | Raster data |\n",
    "\n",
    "Watch [this video](https://youtu.be/XjjqQIXumvA) for more information.\n",
    "\n",
    "We're going to use the [OWSLib](https://geopython.github.io/OWSLib/) package to connect to these services and we're going to use the [Rasterio](https://rasterio.readthedocs.io/en/latest/) package to save WCS layer to a GeoTIFF. Make sure that these packages are installed in your conda environment.\n",
    "\n",
    "We'll demonstrate this for data from [FAO WaPOR](https://wapor.apps.fao.org)."
   ]
  },
  {
   "cell_type": "markdown",
   "metadata": {
    "id": "Ljkr-A2O4qgg"
   },
   "source": [
    "# 3. Accessing WCS layer<a name=\"access\"></a>\n",
    "In this example we're going to connect to the WCS layers available in FAO WaPOR.\n",
    "\n",
    "Let's first check which layers are available."
   ]
  },
  {
   "cell_type": "code",
   "execution_count": null,
   "metadata": {
    "id": "4nmFMyFX44Bh"
   },
   "outputs": [],
   "source": [
    "!pip install owslib"
   ]
  },
  {
   "cell_type": "code",
   "execution_count": null,
   "metadata": {
    "id": "DiUEbv5X4qgh"
   },
   "outputs": [],
   "source": [
    "from owslib.wcs import WebCoverageService\n",
    "\n",
    "# Access the WCS by proving the url and optional arguments (here version)\n",
    "wcs = WebCoverageService('https://io.apps.fao.org/geoserver/wcs?', version='1.0.0')"
   ]
  },
  {
   "cell_type": "markdown",
   "metadata": {
    "id": "ZInL08Fv4qgh"
   },
   "source": [
    "Now we have connection with the WCS, we can print the layers. This is better readable if we convert it to a list."
   ]
  },
  {
   "cell_type": "code",
   "execution_count": null,
   "metadata": {
    "id": "Ewnlf_lZ4qgi"
   },
   "outputs": [],
   "source": [
    "# Print to check the contents of the WCS\n",
    "layers = list(wcs.contents)\n",
    "print(layers)"
   ]
  },
  {
   "cell_type": "markdown",
   "metadata": {
    "id": "2e3OUyK34qgi"
   },
   "source": [
    "Some explanation about the layer naming, which you could also figure out by exploring the WaPOR portal:\n",
    "WAPOR_2: means WaPOR version 2\n",
    "l1, l2 or l3 give the level, respectively 250, 100 and 30 m data.\n",
    "Then for l3 you see 3 characters describing the study area, e.g. awa is Awash. This is followed by the data description, e.g. aeti.\n",
    "The last character shows the temporal resolution: a is annual, m is monthly and d is dekadal (10 days).\n",
    "\n",
    "In this example we're looking for WaPOR version 2, level 3 data. We can find those layers by looking for the substring `WAPOR_2:l3_`. We can do this with a simple `for` loop."
   ]
  },
  {
   "cell_type": "code",
   "execution_count": null,
   "metadata": {
    "id": "zrLn33OU4qgi"
   },
   "outputs": [],
   "source": [
    "substring = 'WAPOR_2:l3_'\n",
    "for text in layers:\n",
    "    if substring in text:\n",
    "        print(text)"
   ]
  },
  {
   "cell_type": "markdown",
   "metadata": {
    "id": "2WtnOHxd4qgj"
   },
   "source": [
    "Now use similar code to find the WaPOR Level 3 AETI layer at a monthly resolution for Zankalon (Egypt)."
   ]
  },
  {
   "cell_type": "code",
   "execution_count": null,
   "metadata": {
    "id": "GNuQE90-4qgj"
   },
   "outputs": [],
   "source": []
  },
  {
   "cell_type": "markdown",
   "metadata": {
    "id": "EoOC_Pbv4qgj"
   },
   "source": [
    "# 4. Show WCS metadata <a name=\"metadata\"></a>\n",
    "We can list all operations that are available with the following code:"
   ]
  },
  {
   "cell_type": "code",
   "execution_count": null,
   "metadata": {
    "id": "G1n9jlhv4qgk"
   },
   "outputs": [],
   "source": [
    "# Get all operations and print the name of each of them\n",
    "print([op.name for op in wcs.operations])"
   ]
  },
  {
   "cell_type": "markdown",
   "metadata": {
    "id": "fqjnrAMf4qgk"
   },
   "source": [
    "These are standard OGC protocols. It allows access to the data (GetCoverage), the metadata (DescribeCoverage), and the capabilities (GetCapabilities).\n",
    "Let's have a look at the metadata for `WAPOR_2:l3_zan_aeti_m`."
   ]
  },
  {
   "cell_type": "code",
   "execution_count": null,
   "metadata": {
    "id": "s8Cho1pH4qgk"
   },
   "outputs": [],
   "source": [
    "metadata = wcs.contents['WAPOR_2:l3_zan_aeti_m']\n",
    "\n",
    "# print supported coordinate reference systems\n",
    "print(metadata.supportedCRS)\n",
    "\n",
    "# print the bounding box in WGS 84 coordinates\n",
    "print(metadata.boundingBoxWGS84)\n",
    "\n",
    "# print the supported file formats\n",
    "print(metadata.supportedFormats)"
   ]
  },
  {
   "cell_type": "markdown",
   "metadata": {
    "id": "qo3f0rs34qgl"
   },
   "source": [
    "Now try this for `WAPOR_2:l3_kog_t_d`"
   ]
  },
  {
   "cell_type": "code",
   "execution_count": null,
   "metadata": {
    "id": "64KcNiQB4qgl"
   },
   "outputs": [],
   "source": []
  },
  {
   "cell_type": "markdown",
   "metadata": {
    "id": "sEUxBeUd4qgl"
   },
   "source": [
    "# 5. Download a WCS layer <a name=\"download\"></a>\n",
    "Let's now store the data locally. We'll use `wcs.getCoverage`. It needs:\n",
    "* `identifier`: layer name that we've found through `wcs.contents` before\n",
    "* `bbox`: bounding box in the supported reference system\n",
    "* `format`: one of the supported file formats\n",
    "* `crs`: the supported coordinate reference system\n",
    "* `xres`: resolution in x-dimension in units of the crs\n",
    "* `yres`: resolution in y-dimension in units of the crs\n",
    "\n",
    "Below we'll download the `WAPOR_2:l3_zan_aeti_m` layer and save it in the `data` subfolder as `l3_zan_aeti_m.tif`:"
   ]
  },
  {
   "cell_type": "code",
   "execution_count": null,
   "metadata": {
    "id": "FLnI4XqH4qgl"
   },
   "outputs": [],
   "source": [
    "import os\n",
    "\n",
    "bbox = (317985,3348885,377685,3411885)\n",
    "\n",
    "if not os.path.exists('data'):\n",
    "    os.makedirs('data')\n",
    "\n",
    "response = wcs.getCoverage(identifier = 'WAPOR_2:l3_zan_aeti_m', bbox=bbox, format='GeoTIFF', crs = 'urn:ogc:def:crs:EPSG::32636',resx=30,resy=30)\n",
    "\n",
    "with open('./data/l3_zan_aeti_m.tif', 'wb') as file:\n",
    "    file.write(response.read())"
   ]
  },
  {
   "cell_type": "markdown",
   "metadata": {
    "id": "ulaPMqlN4qgl"
   },
   "source": [
    "# 6. Visualise the downloaded layer <a name=\"visualise\"></a>\n",
    "Now the raster has been downloaded, let's have a look at it.\n",
    "We'll use the *rasterio* package for that."
   ]
  },
  {
   "cell_type": "code",
   "execution_count": null,
   "metadata": {
    "id": "qkWkz_W48AKr"
   },
   "outputs": [],
   "source": [
    "!pip install rasterio"
   ]
  },
  {
   "cell_type": "code",
   "execution_count": null,
   "metadata": {
    "id": "kQ9gbMIn4qgl"
   },
   "outputs": [],
   "source": [
    "import rasterio\n",
    "from rasterio.plot import show\n",
    "\n",
    "# open the raster layer\n",
    "aeti = rasterio.open('./data/l3_zan_aeti_m.tif', driver='GTiff')\n",
    "\n",
    "# print the metadata\n",
    "print(aeti.meta)\n",
    "\n",
    "# plot the map\n",
    "show(aeti, title='AETI Zankalon', cmap='nipy_spectral')"
   ]
  },
  {
   "cell_type": "markdown",
   "metadata": {
    "id": "clshd_3k4qgm"
   },
   "source": [
    "Now repeat the downloading and visualisation for another WCS layer."
   ]
  },
  {
   "cell_type": "code",
   "execution_count": null,
   "metadata": {
    "id": "V8n18KmF4qgm"
   },
   "outputs": [],
   "source": []
  },
  {
   "cell_type": "markdown",
   "metadata": {
    "id": "sJ9jflgB4qgm"
   },
   "source": [
    "For vector data you can use `owslib.wfs`. See [this page](https://geopython.github.io/OWSLib/usage.html#wfs) for examples."
   ]
  }
 ],
 "metadata": {
  "colab": {
   "include_colab_link": true,
   "provenance": []
  },
  "kernelspec": {
   "display_name": "Python 3 (ipykernel)",
   "language": "python",
   "name": "python3"
  },
  "language_info": {
   "codemirror_mode": {
    "name": "ipython",
    "version": 3
   },
   "file_extension": ".py",
   "mimetype": "text/x-python",
   "name": "python",
   "nbconvert_exporter": "python",
   "pygments_lexer": "ipython3",
   "version": "3.11.4"
  }
 },
 "nbformat": 4,
 "nbformat_minor": 1
}
