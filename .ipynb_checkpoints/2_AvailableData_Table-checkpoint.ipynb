{
 "cells": [
  {
   "cell_type": "markdown",
   "metadata": {},
   "source": [
    "# Description\n",
    "\n",
    "This notebook is used to request a list of available raster maps (with raster id) for a specific WaPOR layer given a period ofusing WaPOR API."
   ]
  },
  {
   "cell_type": "code",
   "execution_count": 1,
   "metadata": {},
   "outputs": [],
   "source": [
    "import requests\n",
    "import pandas as pd\n",
    "\n",
    "path_query=r'https://io.apps.fao.org/gismgr/api/v1/query/'"
   ]
  },
  {
   "cell_type": "markdown",
   "metadata": {},
   "source": [
    "# Step 1: Write Query Payload"
   ]
  },
  {
   "cell_type": "code",
   "execution_count": 2,
   "metadata": {},
   "outputs": [],
   "source": [
    "workspace='WAPOR_2'\n",
    "cube_code='L1_T_A'\n",
    "time_range=\"[2011-01-01,2014-01-01]\""
   ]
  },
  {
   "cell_type": "code",
   "execution_count": 3,
   "metadata": {},
   "outputs": [
    {
     "data": {
      "text/plain": [
       "'WATER_MM'"
      ]
     },
     "execution_count": 3,
     "metadata": {},
     "output_type": "execute_result"
    }
   ],
   "source": [
    "#get datacube measure\n",
    "cube_url=f'https://io.apps.fao.org/gismgr/api/v1/catalog/workspaces/{workspace}/cubes/{cube_code}/measures'\n",
    "resp=requests.get(cube_url).json()\n",
    "measure=resp['response']['items'][0]['code']\n",
    "measure"
   ]
  },
  {
   "cell_type": "code",
   "execution_count": 4,
   "metadata": {},
   "outputs": [
    {
     "data": {
      "text/plain": [
       "'YEAR'"
      ]
     },
     "execution_count": 4,
     "metadata": {},
     "output_type": "execute_result"
    }
   ],
   "source": [
    "#get datacube time dimension\n",
    "cube_url=f'https://io.apps.fao.org/gismgr/api/v1/catalog/workspaces/{workspace}/cubes/{cube_code}/dimensions'\n",
    "resp=requests.get(cube_url).json()\n",
    "items=pd.DataFrame.from_dict(resp['response']['items'])\n",
    "dimension=items[items.type=='TIME']['code'].values[0]\n",
    "dimension"
   ]
  },
  {
   "cell_type": "code",
   "execution_count": 5,
   "metadata": {},
   "outputs": [],
   "source": [
    "query={\n",
    "  \"type\": \"MDAQuery_Table\",\n",
    "  \"params\": {\n",
    "    \"properties\": {\n",
    "      \"metadata\": True,\n",
    "      \"paged\": False\n",
    "    },\n",
    "    \"cube\": {\n",
    "      \"code\": cube_code,\n",
    "      \"workspaceCode\": workspace,\n",
    "      \"language\": \"en\"\n",
    "    },\n",
    "    \"dimensions\": [\n",
    "      {\n",
    "        \"code\": dimension,\n",
    "        \"range\": time_range        \n",
    "      }\n",
    "    ],\n",
    "    \"measures\": [\n",
    "      measure\n",
    "    ],\n",
    "    \"projection\": {\n",
    "      \"columns\": [\n",
    "        \"MEASURES\"\n",
    "      ],\n",
    "      \"rows\": [\n",
    "        dimension\n",
    "      ]\n",
    "    }\n",
    "  }\n",
    "}"
   ]
  },
  {
   "cell_type": "markdown",
   "metadata": {},
   "source": [
    "# Step 2: POST Request"
   ]
  },
  {
   "cell_type": "code",
   "execution_count": 6,
   "metadata": {},
   "outputs": [
    {
     "data": {
      "text/plain": [
       "{'requestId': '1bdde3b3-db1e-43a5-b779-00ee3cec14c1',\n",
       " 'timestamp': 1594808160026,\n",
       " 'runtime': 10,\n",
       " 'status': 200,\n",
       " 'message': 'OK',\n",
       " 'response': {'properties': {'flat': True,\n",
       "   'metadata': True,\n",
       "   'showEmptyRows': False,\n",
       "   'paged': False,\n",
       "   'pageSize': 20,\n",
       "   'page': 0},\n",
       "  'header': {'height': 1,\n",
       "   'rows': [[{'value': 'Year',\n",
       "      'type': 'ROW_COLUMN_HEADER',\n",
       "      'width': 1,\n",
       "      'height': 1},\n",
       "     {'value': 'Amount of Water',\n",
       "      'type': 'COLUMN_HEADER',\n",
       "      'width': 2,\n",
       "      'height': 1}]]},\n",
       "  'items': [[{'value': '2011', 'type': 'ROW_HEADER', 'width': 1, 'height': 1},\n",
       "    {'type': 'DATA_CELL',\n",
       "     'value': 1,\n",
       "     'metadata': {'raster': {'id': 'L1_T_11',\n",
       "       'bbox': [{'srid': 'EPSG:4326',\n",
       "         'value': [-30.0044643, -40.0044644, 65.0044644, 40.0044643]}]}}},\n",
       "    {'type': 'DATA_CELL',\n",
       "     'value': 1,\n",
       "     'metadata': {'raster': {'id': 'L1_T_11',\n",
       "       'bbox': [{'srid': 'EPSG:4326',\n",
       "         'value': [-30.0044643, -40.0044644, 65.0044644, 40.0044643]}]}}}],\n",
       "   [{'value': '2012', 'type': 'ROW_HEADER', 'width': 1, 'height': 1},\n",
       "    {'type': 'DATA_CELL',\n",
       "     'value': 1,\n",
       "     'metadata': {'raster': {'id': 'L1_T_12',\n",
       "       'bbox': [{'srid': 'EPSG:4326',\n",
       "         'value': [-30.0044643, -40.0044644, 65.0044644, 40.0044643]}]}}},\n",
       "    {'type': 'DATA_CELL',\n",
       "     'value': 1,\n",
       "     'metadata': {'raster': {'id': 'L1_T_12',\n",
       "       'bbox': [{'srid': 'EPSG:4326',\n",
       "         'value': [-30.0044643, -40.0044644, 65.0044644, 40.0044643]}]}}}],\n",
       "   [{'value': '2013', 'type': 'ROW_HEADER', 'width': 1, 'height': 1},\n",
       "    {'type': 'DATA_CELL',\n",
       "     'value': 1,\n",
       "     'metadata': {'raster': {'id': 'L1_T_13',\n",
       "       'bbox': [{'srid': 'EPSG:4326',\n",
       "         'value': [-30.0044643, -40.0044644, 65.0044644, 40.0044643]}]}}},\n",
       "    {'type': 'DATA_CELL',\n",
       "     'value': 1,\n",
       "     'metadata': {'raster': {'id': 'L1_T_13',\n",
       "       'bbox': [{'srid': 'EPSG:4326',\n",
       "         'value': [-30.0044643, -40.0044644, 65.0044644, 40.0044643]}]}}}],\n",
       "   [{'value': '2014', 'type': 'ROW_HEADER', 'width': 1, 'height': 1},\n",
       "    {'type': 'DATA_CELL',\n",
       "     'value': 1,\n",
       "     'metadata': {'raster': {'id': 'L1_T_14',\n",
       "       'bbox': [{'srid': 'EPSG:4326',\n",
       "         'value': [-30.0044643, -40.0044644, 65.0044644, 40.0044643]}]}}},\n",
       "    {'type': 'DATA_CELL',\n",
       "     'value': 1,\n",
       "     'metadata': {'raster': {'id': 'L1_T_14',\n",
       "       'bbox': [{'srid': 'EPSG:4326',\n",
       "         'value': [-30.0044643, -40.0044644, 65.0044644, 40.0044643]}]}}}]]}}"
      ]
     },
     "execution_count": 6,
     "metadata": {},
     "output_type": "execute_result"
    }
   ],
   "source": [
    "resp=requests.post(path_query,json=query)\n",
    "resp_dict = resp.json() #read response JSON string\n",
    "resp_dict"
   ]
  },
  {
   "cell_type": "markdown",
   "metadata": {},
   "source": [
    "# Step 3: Convert response body to DataFrame"
   ]
  },
  {
   "cell_type": "code",
   "execution_count": 7,
   "metadata": {},
   "outputs": [
    {
     "data": {
      "text/plain": [
       "[{'value': '2011', 'type': 'ROW_HEADER', 'width': 1, 'height': 1},\n",
       " {'type': 'DATA_CELL',\n",
       "  'value': 1,\n",
       "  'metadata': {'raster': {'id': 'L1_T_11',\n",
       "    'bbox': [{'srid': 'EPSG:4326',\n",
       "      'value': [-30.0044643, -40.0044644, 65.0044644, 40.0044643]}]}}},\n",
       " {'type': 'DATA_CELL',\n",
       "  'value': 1,\n",
       "  'metadata': {'raster': {'id': 'L1_T_11',\n",
       "    'bbox': [{'srid': 'EPSG:4326',\n",
       "      'value': [-30.0044643, -40.0044644, 65.0044644, 40.0044643]}]}}}]"
      ]
     },
     "execution_count": 7,
     "metadata": {},
     "output_type": "execute_result"
    }
   ],
   "source": [
    "items=resp_dict['response']['items']\n",
    "items[0] #get first item"
   ]
  },
  {
   "cell_type": "code",
   "execution_count": 8,
   "metadata": {},
   "outputs": [
    {
     "data": {
      "text/html": [
       "<div>\n",
       "<style scoped>\n",
       "    .dataframe tbody tr th:only-of-type {\n",
       "        vertical-align: middle;\n",
       "    }\n",
       "\n",
       "    .dataframe tbody tr th {\n",
       "        vertical-align: top;\n",
       "    }\n",
       "\n",
       "    .dataframe thead th {\n",
       "        text-align: right;\n",
       "    }\n",
       "</style>\n",
       "<table border=\"1\" class=\"dataframe\">\n",
       "  <thead>\n",
       "    <tr style=\"text-align: right;\">\n",
       "      <th></th>\n",
       "      <th>YEAR</th>\n",
       "      <th>rasterId</th>\n",
       "      <th>bbox</th>\n",
       "    </tr>\n",
       "  </thead>\n",
       "  <tbody>\n",
       "    <tr>\n",
       "      <th>0</th>\n",
       "      <td>2011</td>\n",
       "      <td>L1_T_11</td>\n",
       "      <td>[{'srid': 'EPSG:4326', 'value': [-30.0044643, ...</td>\n",
       "    </tr>\n",
       "    <tr>\n",
       "      <th>1</th>\n",
       "      <td>2012</td>\n",
       "      <td>L1_T_12</td>\n",
       "      <td>[{'srid': 'EPSG:4326', 'value': [-30.0044643, ...</td>\n",
       "    </tr>\n",
       "    <tr>\n",
       "      <th>2</th>\n",
       "      <td>2013</td>\n",
       "      <td>L1_T_13</td>\n",
       "      <td>[{'srid': 'EPSG:4326', 'value': [-30.0044643, ...</td>\n",
       "    </tr>\n",
       "    <tr>\n",
       "      <th>3</th>\n",
       "      <td>2014</td>\n",
       "      <td>L1_T_14</td>\n",
       "      <td>[{'srid': 'EPSG:4326', 'value': [-30.0044643, ...</td>\n",
       "    </tr>\n",
       "  </tbody>\n",
       "</table>\n",
       "</div>"
      ],
      "text/plain": [
       "   YEAR rasterId                                               bbox\n",
       "0  2011  L1_T_11  [{'srid': 'EPSG:4326', 'value': [-30.0044643, ...\n",
       "1  2012  L1_T_12  [{'srid': 'EPSG:4326', 'value': [-30.0044643, ...\n",
       "2  2013  L1_T_13  [{'srid': 'EPSG:4326', 'value': [-30.0044643, ...\n",
       "3  2014  L1_T_14  [{'srid': 'EPSG:4326', 'value': [-30.0044643, ..."
      ]
     },
     "execution_count": 8,
     "metadata": {},
     "output_type": "execute_result"
    }
   ],
   "source": [
    "values=[item[0]['value'] for item in items]\n",
    "rasterId=[item[1]['metadata']['raster']['id'] for item in items]\n",
    "bbox=[item[1]['metadata']['raster']['bbox'] for item in items]\n",
    "\n",
    "df=pd.DataFrame({dimension:values,\n",
    "                'rasterId':rasterId,\n",
    "                'bbox':bbox})\n",
    "df"
   ]
  }
 ],
 "metadata": {
  "kernelspec": {
   "display_name": "Python 3 (ipykernel)",
   "language": "python",
   "name": "python3"
  },
  "language_info": {
   "codemirror_mode": {
    "name": "ipython",
    "version": 3
   },
   "file_extension": ".py",
   "mimetype": "text/x-python",
   "name": "python",
   "nbconvert_exporter": "python",
   "pygments_lexer": "ipython3",
   "version": "3.11.4"
  }
 },
 "nbformat": 4,
 "nbformat_minor": 2
}
