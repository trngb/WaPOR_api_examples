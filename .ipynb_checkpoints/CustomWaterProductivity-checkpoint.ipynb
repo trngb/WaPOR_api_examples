{
 "cells": [
  {
   "cell_type": "markdown",
   "metadata": {},
   "source": [
    "# Description\n",
    "\n",
    "This notebook is used to request computation of Water Productivity for customized season period, crop multiplier and area from WaPOR's Gross Biomass Water Productivity (GBWP) or Net Biomass Water Productivity (NBWP) layers using WaPOR API.\n",
    "\n",
    "You will need WaPOR API Token to use this notebook (See README.md)"
   ]
  },
  {
   "cell_type": "markdown",
   "metadata": {
    "colab_type": "text",
    "id": "SeLbBDiMTh2X"
   },
   "source": [
    "# Import requests and json libraries"
   ]
  },
  {
   "cell_type": "code",
   "execution_count": 1,
   "metadata": {
    "colab": {},
    "colab_type": "code",
    "id": "-TPJcW3sNzCH"
   },
   "outputs": [],
   "source": [
    "import requests\n",
    "import json"
   ]
  },
  {
   "cell_type": "markdown",
   "metadata": {
    "colab_type": "text",
    "id": "LgJQvG49TmV6"
   },
   "source": [
    "# Login: Using APIToken to generate Accesstoken"
   ]
  },
  {
   "cell_type": "code",
   "execution_count": 2,
   "metadata": {
    "colab": {
     "base_uri": "https://localhost:8080/",
     "height": 50
    },
    "colab_type": "code",
    "id": "QWZsCiGGQZOM",
    "outputId": "fecb35f9-1dc9-433c-cb77-ae2d71a6b839"
   },
   "outputs": [
    {
     "name": "stdout",
     "output_type": "stream",
     "text": [
      "Enter your APIToken: Enter Your API Token when running this cell\n",
      "Fail to get accessToken\n"
     ]
    }
   ],
   "source": [
    "APIToken=input('Enter your APIToken: ') \n",
    "\n",
    "request_url='https://io.apps.fao.org/gismgr/api/v1/iam/sign-in/'\n",
    "\n",
    "request_headers = {\n",
    "            'X-GISMGR-API-KEY': APIToken}\n",
    "\n",
    "resp = requests.post(\n",
    "                request_url,\n",
    "                headers=request_headers)\n",
    "resp_json = resp.json()\n",
    "if resp_json['message']=='OK':\n",
    "  AccessToken=resp_json['response']['accessToken']\n",
    "  print('Access expires in 3600s')\n",
    "else:\n",
    "  print('Fail to get accessToken')\n"
   ]
  },
  {
   "cell_type": "markdown",
   "metadata": {
    "colab_type": "text",
    "id": "Ux4ehfFEX2_o"
   },
   "source": [
    "# Send query CustomWaterProductivity\n",
    "\n",
    "**Arguments** 'waterProductivity' type, 'startSeason', 'endSeason', 'resolution','shape'"
   ]
  },
  {
   "cell_type": "code",
   "execution_count": 3,
   "metadata": {
    "colab": {
     "base_uri": "https://localhost:8080/",
     "height": 504
    },
    "colab_type": "code",
    "id": "nElLc1RKPYPy",
    "outputId": "61b4b7c2-a12c-4094-ae4b-7bc4a9331582"
   },
   "outputs": [
    {
     "data": {
      "text/plain": [
       "{'requestId': '37d64c9d-4eb5-436b-a7b3-bebee50d138a',\n",
       " 'timestamp': 1576157978661,\n",
       " 'runtime': 7,\n",
       " 'status': 200,\n",
       " 'message': 'OK',\n",
       " 'response': {'workspaceCode': 'WAPOR_2',\n",
       "  'code': '37d64c9d-4eb5-436b-a7b3-bebee50d138a',\n",
       "  'type': 'WATER PRODUCTIVITY',\n",
       "  'priority': 20,\n",
       "  'additionalInfo': {'waterProductivity': 'GBWP',\n",
       "   'resolution': '100m',\n",
       "   'startSeason': '2015-01',\n",
       "   'endSeason': '2015-18',\n",
       "   'shape': {'type': 'Polygon',\n",
       "    'coordinates': [[[37.20642480347329, 9.879461495912246],\n",
       "      [36.49808605470977, 7.56804031573655],\n",
       "      [37.84020157868276, 5.219338148783827],\n",
       "      [40.0770607853044, 5.293900122337882],\n",
       "      [41.97839111093279, 7.232511434743303],\n",
       "      [41.68014321671657, 8.313660051277097],\n",
       "      [39.89065585141926, 7.605321302513577],\n",
       "      [38.5858213142233, 7.344354395074386],\n",
       "      [38.51125934066925, 8.649188932270341],\n",
       "      [37.20642480347329, 9.879461495912246]]]}},\n",
       "  'userId': 'R6NHnGyt4TOzu3mvOkmxM8RLE2u1',\n",
       "  'created': '2019-12-12 13:39:38',\n",
       "  'status': 'WAITING',\n",
       "  'links': [{'rel': 'self',\n",
       "    'href': 'https://io.apps.fao.org/gismgr/api/v1/catalog/workspaces/WAPOR_2/jobs/37d64c9d-4eb5-436b-a7b3-bebee50d138a'}]}}"
      ]
     },
     "execution_count": 3,
     "metadata": {},
     "output_type": "execute_result"
    }
   ],
   "source": [
    "url=r'https://io.apps.fao.org/gismgr/api/v1/query/'\n",
    "request_json ={\n",
    "  \"type\": \"CustomWaterProductivity\",\n",
    "  \"params\": {\n",
    "    \"waterProductivity\": \"GBWP\", #\"GBWP\" or \"NBWP\"\n",
    "    \"resolution\": \"100m\", #\"250m\" or \"100m\" , maybe \"30m\" works for some area\n",
    "    \"startSeason\": \"2015-01\", # \"YYYY-DK\" (Dekad)\n",
    "    \"endSeason\": \"2015-18\", # \"YYYY-DK\" (Dekad)\n",
    "    \"shape\": {\n",
    "      \"type\": \"Polygon\", #define coordinates of the area in geojson format\n",
    "      \"coordinates\": [\n",
    "        [\n",
    "          [\n",
    "            37.20642480347329,\n",
    "            9.879461495912246\n",
    "          ],\n",
    "          [\n",
    "            36.49808605470977,\n",
    "            7.56804031573655\n",
    "          ],\n",
    "          [\n",
    "            37.84020157868276,\n",
    "            5.219338148783827\n",
    "          ],\n",
    "          [\n",
    "            40.0770607853044,\n",
    "            5.293900122337882\n",
    "          ],\n",
    "          [\n",
    "            41.97839111093279,\n",
    "            7.232511434743303\n",
    "          ],\n",
    "          [\n",
    "            41.68014321671657,\n",
    "            8.313660051277097\n",
    "          ],\n",
    "          [\n",
    "            39.89065585141926,\n",
    "            7.605321302513577\n",
    "          ],\n",
    "          [\n",
    "            38.5858213142233,\n",
    "            7.344354395074386\n",
    "          ],\n",
    "          [\n",
    "            38.51125934066925,\n",
    "            8.649188932270341\n",
    "          ],\n",
    "          [\n",
    "            37.20642480347329,\n",
    "            9.879461495912246\n",
    "          ]\n",
    "        ]\n",
    "      ]\n",
    "    }\n",
    "  }\n",
    "}\n",
    "\n",
    "request_headers = {\n",
    "            'Authorization': \"Bearer \" + AccessToken}\n",
    "\n",
    "\n",
    "response = requests.post(\n",
    "                url,\n",
    "                json=request_json,\n",
    "                headers=request_headers)\n",
    "response_json=response.json()\n",
    "response_json"
   ]
  },
  {
   "cell_type": "markdown",
   "metadata": {
    "colab_type": "text",
    "id": "w9HOBa5lTyWc"
   },
   "source": [
    "# Get job results"
   ]
  },
  {
   "cell_type": "code",
   "execution_count": 4,
   "metadata": {
    "colab": {
     "base_uri": "https://localhost:8080/",
     "height": 504
    },
    "colab_type": "code",
    "id": "bBNIuHKmRdcm",
    "outputId": "2f41f6d3-00bf-457e-c656-449fa0b73eac"
   },
   "outputs": [
    {
     "data": {
      "text/plain": [
       "{'requestId': '2c7b0236-2523-4a97-b10a-d5c3691dcd66',\n",
       " 'timestamp': 1576157986396,\n",
       " 'runtime': 2,\n",
       " 'status': 200,\n",
       " 'message': 'OK',\n",
       " 'response': {'workspaceCode': 'WAPOR_2',\n",
       "  'code': '37d64c9d-4eb5-436b-a7b3-bebee50d138a',\n",
       "  'type': 'WATER PRODUCTIVITY',\n",
       "  'priority': 20,\n",
       "  'additionalInfo': {'waterProductivity': 'GBWP',\n",
       "   'resolution': '100m',\n",
       "   'startSeason': '2015-01',\n",
       "   'endSeason': '2015-18',\n",
       "   'shape': {'type': 'Polygon',\n",
       "    'coordinates': [[[37.20642480347329, 9.879461495912246],\n",
       "      [36.49808605470977, 7.56804031573655],\n",
       "      [37.84020157868276, 5.219338148783827],\n",
       "      [40.0770607853044, 5.293900122337882],\n",
       "      [41.97839111093279, 7.232511434743303],\n",
       "      [41.68014321671657, 8.313660051277097],\n",
       "      [39.89065585141926, 7.605321302513577],\n",
       "      [38.5858213142233, 7.344354395074386],\n",
       "      [38.51125934066925, 8.649188932270341],\n",
       "      [37.20642480347329, 9.879461495912246]]]}},\n",
       "  'userId': 'R6NHnGyt4TOzu3mvOkmxM8RLE2u1',\n",
       "  'created': '2019-12-12 13:39:38',\n",
       "  'status': 'WAITING',\n",
       "  'links': [{'rel': 'self',\n",
       "    'href': 'https://io.apps.fao.org/gismgr/api/v1/catalog/workspaces/WAPOR_2/jobs/37d64c9d-4eb5-436b-a7b3-bebee50d138a'}]}}"
      ]
     },
     "execution_count": 4,
     "metadata": {},
     "output_type": "execute_result"
    }
   ],
   "source": [
    "if response_json['message']=='OK':\n",
    "  job_url = response_json['response']['links'][0]['href']\n",
    "else:\n",
    "  print('Fail to get job url')\n",
    "response = requests.get(\n",
    "                    job_url)\n",
    "response.json()"
   ]
  },
  {
   "cell_type": "markdown",
   "metadata": {
    "colab_type": "text",
    "id": "lvP1k8UuT57T"
   },
   "source": [
    "# It will take a while for server to generate results. \n",
    "\n",
    "Using loop to check when processing is completed"
   ]
  },
  {
   "cell_type": "code",
   "execution_count": 5,
   "metadata": {
    "colab": {
     "base_uri": "https://localhost:8080/",
     "height": 67
    },
    "colab_type": "code",
    "id": "RUnQ5LfkUCAV",
    "outputId": "ecc9c89a-93c3-4317-d3e4-a56f6b765ed7"
   },
   "outputs": [
    {
     "name": "stdout",
     "output_type": "stream",
     "text": [
      "Link to download GBWP https://io.apps.fao.org/gismgr/download/79eda983-e710-4aa2-90bc-7c575b1a91e0/L2_GBWP_1501-1518.tif\n",
      "Link to download TBP https://io.apps.fao.org/gismgr/download/79eda983-e710-4aa2-90bc-7c575b1a91e0/L2_TBP_1501-1518.tif\n",
      "Link to download AETI https://io.apps.fao.org/gismgr/download/79eda983-e710-4aa2-90bc-7c575b1a91e0/L2_AETI_1501-1518.tif\n"
     ]
    }
   ],
   "source": [
    "while True:\n",
    "  response = requests.get(\n",
    "                    job_url)\n",
    "  response_json=response.json()\n",
    "  if response_json['response']['status']=='COMPLETED':\n",
    "    GBWP=response_json['response']['output']['bwpDownloadUrl']\n",
    "    TBP=response_json['response']['output']['tbpDownloadUrl']\n",
    "    AETI=response_json['response']['output']['wtrDownloadUrl']\n",
    "    break\n",
    "print('Link to download GBWP',GBWP)\n",
    "print('Link to download TBP',TBP)\n",
    "print('Link to download AETI',AETI)"
   ]
  }
 ],
 "metadata": {
  "colab": {
   "collapsed_sections": [],
   "name": "WAPORAPI_CustomWaterProductivity.ipynb",
   "provenance": []
  },
  "kernelspec": {
   "display_name": "Python 3",
   "language": "python",
   "name": "python3"
  },
  "language_info": {
   "codemirror_mode": {
    "name": "ipython",
    "version": 3
   },
   "file_extension": ".py",
   "mimetype": "text/x-python",
   "name": "python",
   "nbconvert_exporter": "python",
   "pygments_lexer": "ipython3",
   "version": "3.7.3"
  }
 },
 "nbformat": 4,
 "nbformat_minor": 1
}
