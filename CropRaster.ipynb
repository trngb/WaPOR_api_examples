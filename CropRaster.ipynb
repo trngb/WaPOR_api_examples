{
 "cells": [
  {
   "cell_type": "markdown",
   "metadata": {},
   "source": [
    "# Description\n",
    "\n",
    "This notebook is used to request a cropped raster for an area of a WaPOR data layer using WaPOR API.\n",
    "\n",
    "You will need WaPOR API Token to use this notebook (https://github.com/trngbich/examples_WaPOR_API/blob/master/README.md)"
   ]
  },
  {
   "cell_type": "markdown",
   "metadata": {},
   "source": [
    "# Step 1: Read APIToken\n",
    "\n",
    "Get your APItoken from https://wapor.apps.fao.org/profile"
   ]
  },
  {
   "cell_type": "code",
   "execution_count": 1,
   "metadata": {},
   "outputs": [
    {
     "name": "stdout",
     "output_type": "stream",
     "text": [
      "Your API token: Enter your API Token when running this cell\n"
     ]
    }
   ],
   "source": [
    "import requests\n",
    "import pandas as pd\n",
    "\n",
    "path_query=r'https://io.apps.fao.org/gismgr/api/v1/query/'\n",
    "path_sign_in=r'https://io.apps.fao.org/gismgr/api/v1/iam/sign-in/'\n",
    "\n",
    "APIToken=input('Your API token: ')"
   ]
  },
  {
   "cell_type": "markdown",
   "metadata": {},
   "source": [
    "# Step 2: Get Authorization AccessToken\n",
    "\n",
    "Using the input API token to get AccessToken for authorization"
   ]
  },
  {
   "cell_type": "code",
   "execution_count": 2,
   "metadata": {},
   "outputs": [],
   "source": [
    "resp_signin=requests.post(path_sign_in,headers={'X-GISMGR-API-KEY':APIToken})\n",
    "resp_signin = resp_signin.json()\n",
    "AccessToken=resp_signin['response']['accessToken']"
   ]
  },
  {
   "cell_type": "markdown",
   "metadata": {},
   "source": [
    "# Step 3: Post Query Load\n",
    "\n",
    "For more examples of areatimeseries query load \n",
    "visit https://io.apps.fao.org/gismgr/api/v1/swagger-ui/examples/AreaStatsTimeSeries.txt"
   ]
  },
  {
   "cell_type": "markdown",
   "metadata": {},
   "source": [
    "## Define area by coordinate extent"
   ]
  },
  {
   "cell_type": "code",
   "execution_count": 3,
   "metadata": {},
   "outputs": [],
   "source": [
    "bbox= [37.95883206252312, 7.89534, 43.32093, 12.3873979377346] #latlon\n",
    "xmin,ymin,xmax,ymax=bbox[0],bbox[1],bbox[2],bbox[3]\n",
    "Polygon=[\n",
    "          [xmin,ymin],\n",
    "          [xmin,ymax],\n",
    "          [xmax,ymax],\n",
    "          [xmax,ymin],\n",
    "          [xmin,ymin]\n",
    "        ]\n",
    "\n",
    "query={\n",
    "  \"type\": \"CropRaster\",\n",
    "  \"params\": {\n",
    "    \"properties\": {\n",
    "      \"outputFileName\": \"L2_PHE_17s1_s_clipped.tif\",\n",
    "      \"cutline\": True,\n",
    "      \"tiled\": True,\n",
    "      \"compressed\": True,\n",
    "      \"overviews\": True\n",
    "    },\n",
    "    \"cube\": {\n",
    "      \"code\": \"L2_PHE_S\",\n",
    "      \"workspaceCode\": \"WAPOR\",\n",
    "      \"language\": \"en\"\n",
    "    },\n",
    "    \"dimensions\": [\n",
    "      {\n",
    "        \"code\": \"SEASON\",\n",
    "        \"values\": [\n",
    "          \"S1\"\n",
    "        ]\n",
    "      },\n",
    "      {\n",
    "        \"code\": \"STAGE\",\n",
    "        \"values\": [\n",
    "          \"SOS\"\n",
    "        ]\n",
    "      },\n",
    "      {\n",
    "        \"code\": \"YEAR\",\n",
    "        \"values\": [\n",
    "          \"[2017-01-01,2018-01-01)\"\n",
    "        ]\n",
    "      }\n",
    "    ],\n",
    "    \"measures\": [\n",
    "      \"PHE\"\n",
    "    ],\n",
    "    \"shape\": {\n",
    "      \"type\": \"Polygon\",\n",
    "      \"coordinates\": [Polygon]\n",
    "    }\n",
    "  }\n",
    "}"
   ]
  },
  {
   "cell_type": "markdown",
   "metadata": {},
   "source": [
    "## Or define area by passing GeoJSON "
   ]
  },
  {
   "cell_type": "code",
   "execution_count": null,
   "metadata": {},
   "outputs": [],
   "source": [
    "import ogr\n",
    "shp_fh=r\"D:\\Folder\\shapefile.shp\"\n",
    "\n",
    "shpfile=ogr.Open(shp_fh)\n",
    "layer=shpfile.GetLayer()\n",
    "epsg_code=layer.GetSpatialRef().GetAuthorityCode(None)\n",
    "shape=layer.GetFeature(0).ExportToJson(as_object=True)['geometry']\n",
    "shape[\"properties\"]={\"name\": \"EPSG:{0}\".format(epsg_code)}#latlon projection            \n",
    "\n",
    "query={\n",
    "  \"type\": \"CropRaster\",\n",
    "  \"params\": {\n",
    "    \"properties\": {\n",
    "      \"outputFileName\": \"L2_PHE_17s1_s_clipped.tif\",\n",
    "      \"cutline\": True,\n",
    "      \"tiled\": True,\n",
    "      \"compressed\": True,\n",
    "      \"overviews\": True\n",
    "    },\n",
    "    \"cube\": {\n",
    "      \"code\": \"L2_PHE_S\",\n",
    "      \"workspaceCode\": \"WAPOR\",\n",
    "      \"language\": \"en\"\n",
    "    },\n",
    "    \"dimensions\": [\n",
    "      {\n",
    "        \"code\": \"SEASON\",\n",
    "        \"values\": [\n",
    "          \"S1\"\n",
    "        ]\n",
    "      },\n",
    "      {\n",
    "        \"code\": \"STAGE\",\n",
    "        \"values\": [\n",
    "          \"SOS\"\n",
    "        ]\n",
    "      },\n",
    "      {\n",
    "        \"code\": \"YEAR\",\n",
    "        \"values\": [\n",
    "          \"[2017-01-01,2018-01-01)\"\n",
    "        ]\n",
    "      }\n",
    "    ],\n",
    "    \"measures\": [\n",
    "      \"PHE\"\n",
    "    ],\n",
    "    \"shape\": shape\n",
    "  }\n",
    "}\n"
   ]
  },
  {
   "cell_type": "markdown",
   "metadata": {},
   "source": [
    "Post the QueryPayload with AccessToken in Header. In responses, get an url to query job. "
   ]
  },
  {
   "cell_type": "code",
   "execution_count": 4,
   "metadata": {
    "scrolled": true
   },
   "outputs": [
    {
     "data": {
      "text/plain": [
       "'https://io.apps.fao.org/gismgr/api/v1/catalog/workspaces/WAPOR/jobs/984f1e50-95f0-42be-af57-f229adaddacf'"
      ]
     },
     "execution_count": 4,
     "metadata": {},
     "output_type": "execute_result"
    }
   ],
   "source": [
    "resp_query=requests.post(path_query,headers={'Authorization':'Bearer {0}'.format(AccessToken)},\n",
    "                                          json=query)\n",
    "resp_query = resp_query.json()\n",
    "job_url=resp_query['response']['links'][0]['href']\n",
    "\n",
    "job_url"
   ]
  },
  {
   "cell_type": "markdown",
   "metadata": {},
   "source": [
    "# Step 4: Get Job Results.\n",
    "\n",
    "It will take some time for the job to be finished. When the job is finished, its status will be changed from 'RUNNING' to 'COMPLETED' or 'COMPLETED WITH ERRORS'. If it is COMPLETED, the area time series results can be achieved from Response 'output'."
   ]
  },
  {
   "cell_type": "code",
   "execution_count": 5,
   "metadata": {},
   "outputs": [
    {
     "name": "stdout",
     "output_type": "stream",
     "text": [
      "RUNNING . . . . . . . . . . . . . . . . . . . . . . . . . . . . . . . . . . {'downloadUrl': 'https://io.apps.fao.org/gismgr/download/3c68d62d-b720-4de4-9f63-1fbb3fa637a0/L2_PHE_17s1_s_clipped.tif'}\n"
     ]
    }
   ],
   "source": [
    "i=0\n",
    "print('RUNNING',end=\" \")\n",
    "while i==0:        \n",
    "    resp = requests.get(job_url)\n",
    "    resp=resp.json()\n",
    "    \n",
    "    if resp['response']['status']=='RUNNING':\n",
    "        print('.',end =\" \")\n",
    "    if resp['response']['status']=='COMPLETED':\n",
    "        results=resp['response']['output']\n",
    "        print(resp['response']['output'])\n",
    "        i=1\n",
    "    if resp['response']['status']=='COMPLETED WITH ERRORS':\n",
    "        print(resp['response']['log'])\n",
    "        i=1       "
   ]
  }
 ],
 "metadata": {
  "kernelspec": {
   "display_name": "Python 3",
   "language": "python",
   "name": "python3"
  },
  "language_info": {
   "codemirror_mode": {
    "name": "ipython",
    "version": 3
   },
   "file_extension": ".py",
   "mimetype": "text/x-python",
   "name": "python",
   "nbconvert_exporter": "python",
   "pygments_lexer": "ipython3",
   "version": "3.7.3"
  }
 },
 "nbformat": 4,
 "nbformat_minor": 2
}
